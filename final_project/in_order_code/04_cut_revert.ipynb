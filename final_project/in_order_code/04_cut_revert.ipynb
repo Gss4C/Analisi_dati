{
 "cells": [
  {
   "cell_type": "markdown",
   "metadata": {},
   "source": [
    "# Step 2 - Disaccordo con le simulazioni\n",
    "Si è mostrato un disaccordo fra il numero predetto di eventi che avremo dovuto trovare  e il numero "
   ]
  },
  {
   "cell_type": "code",
   "execution_count": 1,
   "metadata": {},
   "outputs": [
    {
     "name": "stdout",
     "output_type": "stream",
     "text": [
      "Welcome to JupyROOT 6.26/04\n"
     ]
    }
   ],
   "source": [
    "import ROOT\n",
    "import particle as pt\n",
    "import funx as fx\n",
    "import numpy as np\n",
    "\n",
    "filett = ROOT.TFile(\"../datas/TTDilep.root\",\"OPEN\")\n",
    "tttr = filett.trees.events\n",
    "\n",
    "fileDY = ROOT.TFile(\"../datas/DYJets.root\",\"OPEN\")\n",
    "dytr = fileDY.trees.events\n",
    "\n",
    "file = ROOT.TFile(\"../datas/Data.root\",\"OPEN\")\n",
    "tr = file.trees.events                        #Coglioni"
   ]
  },
  {
   "cell_type": "markdown",
   "metadata": {},
   "source": [
    "## Errore\n",
    "Il seguente blocco è un errore, non dovevamo girare sul MC ma sui dati, lo tengo come monito in futuro che siamo dei coglioni"
   ]
  },
  {
   "cell_type": "code",
   "execution_count": null,
   "metadata": {
    "scrolled": false
   },
   "outputs": [],
   "source": [
    "\"\"\"#jets\n",
    "h_tt_je=ROOT.TH1F(\"Jet_e\", \"Jet e\", 40, 25 , 500)\n",
    "h_dy_je=ROOT.TH1F(\"Jet_e\", \"Jet e\", 40, 25 , 500)\n",
    "h_tt_jpt=ROOT.TH1F(\"Jet_pt\", \"Jet pt\", 80, 45 , 500)\n",
    "h_dy_jpt=ROOT.TH1F(\"Jet_pt\", \"Jet pt\", 80, 45 , 500)\n",
    "#met\n",
    "h_tt_met=ROOT.TH1F(\"met\", \"MET pt\", 50, 0 , 500)\n",
    "h_dy_met=ROOT.TH1F(\"met\", \"MET pt\", 50, 0 , 500)\n",
    "#muoni\n",
    "h_m_dy=ROOT.TH1F(\"two_mu_mass\", \"mu_mass\", 90, 0, 120)\n",
    "h_m_tt=ROOT.TH1F(\"two_mu_mass\", \"mu_mass\", 90, 0, 120)\n",
    "\n",
    "arr = [[h_tt_je,h_dy_je], [h_tt_jpt,h_dy_jpt], [h_tt_met,h_dy_met],[h_m_tt,h_m_dy]]\n",
    "\n",
    "h_tt_met,h_tt_je,h_tt_jpt,h_m_tt,n_jet_tt,n_met_tt, n_events_tt = fx.cut_make_revert(tttr,h_tt_met,h_tt_je,h_tt_jpt,h_m_tt)\n",
    "h_dy_met,h_dy_je,h_dy_jpt,h_m_dy,n_jet_dy, n_met_dy, n_events_dy= fx.cut_make_revert(dytr,h_dy_met,h_dy_je,h_dy_jpt,h_m_dy)\n",
    "\n",
    "#print(\"n_jets=\", n_jet_tt+n_jet_dy)\n",
    "#print(\"n_mets=\", n_met_tt+n_met_dy)\n",
    "print(\"n_events=\", n_events_tt+n_events_dy)\n",
    "\n",
    "w_dy=fx.n4(\"dy\")\n",
    "w_tt=fx.n4(\"tt\")\n",
    "\n",
    "print(\"n_events_norm=\", n_events_tt*w_tt + n_events_dy*w_dy)\n",
    "\n",
    "c=list(np.zeros(4))\n",
    "h_tts=[]\n",
    "h_dys=[]\n",
    "for i in arr:\n",
    "    h_tts.append(i[0])\n",
    "    h_dys.append(i[1])\n",
    "for i in range(4):\n",
    "    c[i]=ROOT.TCanvas()\n",
    "    c[i].Draw()\n",
    "    #h_tts[i].Scale(1/h_tts[i].Integral()) #togliere\n",
    "    #h_dys[i].Scale(1/h_dys[i].Integral())\n",
    "    \n",
    "    h_tts[i].Scale(w_tt)\n",
    "    h_dys[i].Scale(w_dy)\n",
    "    \n",
    "    \n",
    "    h_tts[i].SetLineColor(ROOT.kRed)\n",
    "    h_dys[i].Draw(\"hist\")\n",
    "    h_tts[i].Draw(\"SAME,hist\")\n",
    "print(n_events_tt*w_tt, n_events_dy*w_dy)\"\"\""
   ]
  },
  {
   "cell_type": "markdown",
   "metadata": {},
   "source": [
    "## Senza muon_mass cutting"
   ]
  },
  {
   "cell_type": "code",
   "execution_count": 2,
   "metadata": {
    "scrolled": false
   },
   "outputs": [
    {
     "name": "stdout",
     "output_type": "stream",
     "text": [
      "Numero di eventi slelezionati: 3162 +/- 56.231663678038196\n"
     ]
    }
   ],
   "source": [
    "n_events = fx.cut_make_revert(tr)\n",
    "print(\"Numero di eventi slelezionati:\", n_events, \"+/-\", np.sqrt(n_events))"
   ]
  },
  {
   "cell_type": "markdown",
   "metadata": {},
   "source": [
    "Noi abbiamo visto di avere una background efficiency di $5\\%$ e quindi selezioneremo il seguente numero di eventi"
   ]
  },
  {
   "cell_type": "code",
   "execution_count": 3,
   "metadata": {},
   "outputs": [
    {
     "name": "stdout",
     "output_type": "stream",
     "text": [
      "Eventi QCD selezionati attesi: 7.905 \n",
      "Eventi attesi in totale, sapendo quanti ce ne aspettiamo da bg e signal: 13.105\n"
     ]
    }
   ],
   "source": [
    "k= 2.5/1000 * n_events\n",
    "print(\"Eventi QCD selezionati attesi:\",k,\"\\nEventi attesi in totale, sapendo quanti ce ne aspettiamo da bg e signal:\",2.4+2.8+k)"
   ]
  },
  {
   "cell_type": "markdown",
   "metadata": {},
   "source": [
    "## Con muon_mass cutting"
   ]
  },
  {
   "cell_type": "code",
   "execution_count": 2,
   "metadata": {
    "scrolled": false
   },
   "outputs": [
    {
     "name": "stdout",
     "output_type": "stream",
     "text": [
      "Numero di eventi slelezionati: 3162 +/- 56.231663678038196\n"
     ]
    }
   ],
   "source": [
    "n_events = fx.cut_make_revert(tr,muon_cut = True)\n",
    "print(\"Numero di eventi slelezionati:\", n_events, \"+/-\", np.sqrt(n_events))"
   ]
  },
  {
   "cell_type": "markdown",
   "metadata": {},
   "source": [
    "Noi abbiamo visto di avere una background efficiency di $5\\%$ e quindi selezioneremo il seguente numero di eventi"
   ]
  },
  {
   "cell_type": "code",
   "execution_count": 3,
   "metadata": {},
   "outputs": [
    {
     "name": "stdout",
     "output_type": "stream",
     "text": [
      "Eventi QCD selezionati attesi: 7.905 \n",
      "Eventi attesi in totale, sapendo quanti ce ne aspettiamo da bg e signal: 13.105\n"
     ]
    }
   ],
   "source": [
    "k= 2.5/1000 * n_events\n",
    "print(\"Eventi QCD selezionati attesi:\",k,\"\\nEventi attesi in totale, sapendo quanti ce ne aspettiamo da bg e signal:\",2.4+2.8+k)"
   ]
  },
  {
   "cell_type": "code",
   "execution_count": null,
   "metadata": {},
   "outputs": [],
   "source": []
  }
 ],
 "metadata": {
  "kernelspec": {
   "display_name": "Python 3",
   "language": "python",
   "name": "python3"
  },
  "language_info": {
   "codemirror_mode": {
    "name": "ipython",
    "version": 3
   },
   "file_extension": ".py",
   "mimetype": "text/x-python",
   "name": "python",
   "nbconvert_exporter": "python",
   "pygments_lexer": "ipython3",
   "version": "3.8.10"
  }
 },
 "nbformat": 4,
 "nbformat_minor": 4
}
