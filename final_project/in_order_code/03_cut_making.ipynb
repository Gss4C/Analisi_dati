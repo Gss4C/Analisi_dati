{
 "cells": [
  {
   "cell_type": "markdown",
   "metadata": {},
   "source": [
    "# Step 2 - Effettuiamo i tagli\n",
    "Effettuiamo i tagli che abbiamo selezionato in precedenza col cut finder."
   ]
  },
  {
   "cell_type": "code",
   "execution_count": 1,
   "metadata": {},
   "outputs": [
    {
     "name": "stdout",
     "output_type": "stream",
     "text": [
      "Welcome to JupyROOT 6.26/04\n"
     ]
    }
   ],
   "source": [
    "import ROOT\n",
    "import particle as pt\n",
    "import funx as fx\n",
    "import numpy as np\n",
    "\n",
    "filett = ROOT.TFile(\"../datas/TTDilep.root\",\"OPEN\")\n",
    "tttr = filett.trees.events\n",
    "\n",
    "fileDY = ROOT.TFile(\"../datas/DYJets.root\",\"OPEN\")\n",
    "dytr = fileDY.trees.events\n",
    "\n",
    "file = ROOT.TFile(\"../datas/Data.root\",\"OPEN\")\n",
    "tr = file.trees.events"
   ]
  },
  {
   "cell_type": "markdown",
   "metadata": {},
   "source": [
    "## MonteCarlo Cutting\n",
    "Iniziamo a fare i cut sui dataset DY e TT che ci danno informazioni su segnale e fondo\n",
    "\n",
    "---\n",
    "Il seguente blocco non serve a niente, è un residuo per questo commentato"
   ]
  },
  {
   "cell_type": "code",
   "execution_count": null,
   "metadata": {
    "scrolled": false
   },
   "outputs": [],
   "source": [
    "\"\"\"#jets\n",
    "h_tt_je=ROOT.TH1F(\"Jet_e\", \"Jet e\", 40, 25 , 500)\n",
    "h_dy_je=ROOT.TH1F(\"Jet_e\", \"Jet e\", 40, 25 , 500)\n",
    "h_tt_jpt=ROOT.TH1F(\"Jet_pt\", \"Jet pt\", 80, 45 , 500)\n",
    "h_dy_jpt=ROOT.TH1F(\"Jet_pt\", \"Jet pt\", 80, 45 , 500)\n",
    "#met\n",
    "h_tt_met=ROOT.TH1F(\"met\", \"MET pt\", 50, 0 , 500)\n",
    "h_dy_met=ROOT.TH1F(\"met\", \"MET pt\", 50, 0 , 500)\n",
    "#muoni\n",
    "h_m_dy=ROOT.TH1F(\"two_mu_mass\", \"mu_mass\", 90, 0, 120)\n",
    "h_m_tt=ROOT.TH1F(\"two_mu_mass\", \"mu_mass\", 90, 0, 120)\n",
    "\n",
    "arr = [[h_tt_je,h_dy_je], [h_tt_jpt,h_dy_jpt], [h_tt_met,h_dy_met],[h_m_tt,h_m_dy]]\n",
    "\n",
    "h_tt_met,h_tt_je,h_tt_jpt,h_m_tt,n_jet_tt,n_met_tt, n_events_tt = fx.cut_make_histos(tttr,h_tt_met,h_tt_je,h_tt_jpt,h_m_tt)\n",
    "h_dy_met,h_dy_je,h_dy_jpt,h_m_dy,n_jet_dy, n_met_dy, n_events_dy= fx.cut_make_histos(dytr,h_dy_met,h_dy_je,h_dy_jpt,h_m_dy)\n",
    "\n",
    "print(\"n_events=\", n_events_tt+n_events_dy)\n",
    "\n",
    "w_dy=fx.n4(\"dy\")\n",
    "w_tt=fx.n4(\"tt\")\n",
    "\n",
    "print(\"n_events_norm=\", n_events_tt*w_tt+n_events_dy*w_dy)\n",
    "\n",
    "c=list(np.zeros(4))\n",
    "h_tts=[]\n",
    "h_dys=[]\n",
    "for i in arr:\n",
    "    h_tts.append(i[0])\n",
    "    h_dys.append(i[1])\n",
    "for i in range(4):\n",
    "    c[i]=ROOT.TCanvas()\n",
    "    c[i].Draw()\n",
    "    h_tts[i].Scale(w_tt)\n",
    "    h_dys[i].Scale(w_dy)\n",
    "    h_tts[i].SetLineColor(ROOT.kRed)\n",
    "    h_dys[i].Draw(\"hist\")\n",
    "    h_tts[i].Draw(\"SAME,hist\")\"\"\""
   ]
  },
  {
   "cell_type": "code",
   "execution_count": 4,
   "metadata": {},
   "outputs": [
    {
     "name": "stdout",
     "output_type": "stream",
     "text": [
      "n_events= 225\n",
      "Numero di eventi attesi: 5.2405872 \n",
      "Di segnale (TT): 2.4059472000000004 \n",
      "Di fondo (DY): 2.8346400000000003\n"
     ]
    }
   ],
   "source": [
    "n_events_tt = fx.cut_make(tttr)\n",
    "n_events_dy= fx.cut_make(dytr)\n",
    "\n",
    "print(\"n_events=\", n_events_tt+n_events_dy)\n",
    "w_dy=fx.n4(\"dy\")\n",
    "w_tt=fx.n4(\"tt\")\n",
    "print(\"Numero di eventi attesi:\", n_events_tt*w_tt+n_events_dy*w_dy , \"\\nDi segnale (TT):\" , n_events_tt*w_tt,\"\\nDi fondo (DY):\" , n_events_dy*w_dy)"
   ]
  },
  {
   "cell_type": "code",
   "execution_count": 3,
   "metadata": {
    "scrolled": true
   },
   "outputs": [
    {
     "name": "stdout",
     "output_type": "stream",
     "text": [
      "n_events= 211\n",
      "n_tt= 210 \n",
      "n_dy= 1\n",
      "w_tt= 0.010837600000000001 \n",
      "w_dy= 0.94488\n",
      "Numero di eventi attesi: 3.2207760000000003 \n",
      "Di segnale (TT): 2.2758960000000004 \n",
      "Di fondo (DY): 0.94488\n"
     ]
    }
   ],
   "source": [
    "n_events_tt = fx.cut_make(tttr,muon_cut=True) #Stesso codice di prima, ma qui effettuiamo il taglio dei muoni\n",
    "n_events_dy= fx.cut_make(dytr,muon_cut=True)\n",
    "\n",
    "print(\"n_events=\", n_events_tt+n_events_dy)\n",
    "print(\"n_tt=\",n_events_tt,\"\\nn_dy=\",n_events_dy)\n",
    "w_dy=fx.n4(\"dy\")\n",
    "w_tt=fx.n4(\"tt\")\n",
    "print(\"w_tt=\",w_tt,\"\\nw_dy=\",w_dy)\n",
    "print(\"Numero di eventi attesi:\", n_events_tt*w_tt+n_events_dy*w_dy , \"\\nDi segnale (TT):\" , n_events_tt*w_tt,\"\\nDi fondo (DY):\" , n_events_dy*w_dy)"
   ]
  },
  {
   "cell_type": "markdown",
   "metadata": {},
   "source": [
    "## Data Cutting\n",
    "Facciamo lo stesso processo con i dati per vedere quanti dati effettivamente misuriamo. Non faccio l'output degli istogrammi perché tanto qui non ci servono"
   ]
  },
  {
   "cell_type": "code",
   "execution_count": null,
   "metadata": {
    "scrolled": true
   },
   "outputs": [],
   "source": [
    "\"\"\"#jets\n",
    "h_je=ROOT.TH1F(\"Jet_e\", \"Jet e\", 40, 25 , 500)\n",
    "h_jpt=ROOT.TH1F(\"Jet_pt\", \"Jet pt\", 80, 45 , 500)\n",
    "#met\n",
    "h_met=ROOT.TH1F(\"met\", \"MET pt\", 50, 0 , 500)\n",
    "#muoni\n",
    "h_m=ROOT.TH1F(\"two_mu_mass\", \"mu_mass\", 90, 0, 120)\n",
    "\n",
    "arr = [h_je,h_jpt,h_met,h_m]\n",
    "h_met,h_je,h_jpt,h_m,n_jet,n_met, n_events = fx.cut_make_histos(tr,h_met,h_je,h_jpt,h_m)\n",
    "print(\"Numero di eventi selezionati:\", n_events, \"+/-\", np.sqrt(n_events))\"\"\""
   ]
  },
  {
   "cell_type": "code",
   "execution_count": 7,
   "metadata": {},
   "outputs": [
    {
     "name": "stdout",
     "output_type": "stream",
     "text": [
      "Numero di eventi selezionati: 13 +/- 3.605551275463989\n"
     ]
    }
   ],
   "source": [
    "n_events = fx.cut_make(tr)\n",
    "\n",
    "print(\"Numero di eventi selezionati:\", n_events, \"+/-\", np.sqrt(n_events))"
   ]
  },
  {
   "cell_type": "code",
   "execution_count": 8,
   "metadata": {
    "scrolled": true
   },
   "outputs": [
    {
     "name": "stdout",
     "output_type": "stream",
     "text": [
      "Numero di eventi selezionati: 11 +/- 3.3166247903554\n"
     ]
    }
   ],
   "source": [
    "n_events = fx.cut_make(tr,muon_cut=True)\n",
    "\n",
    "print(\"Numero di eventi selezionati:\", n_events, \"+/-\", np.sqrt(n_events))"
   ]
  },
  {
   "cell_type": "code",
   "execution_count": null,
   "metadata": {},
   "outputs": [],
   "source": []
  }
 ],
 "metadata": {
  "kernelspec": {
   "display_name": "Python 3",
   "language": "python",
   "name": "python3"
  },
  "language_info": {
   "codemirror_mode": {
    "name": "ipython",
    "version": 3
   },
   "file_extension": ".py",
   "mimetype": "text/x-python",
   "name": "python",
   "nbconvert_exporter": "python",
   "pygments_lexer": "ipython3",
   "version": "3.8.10"
  },
  "vscode": {
   "interpreter": {
    "hash": "c29d7825a1f22b390a04cdebc5c5a1afee6a4643e95614c4f714148f5110cf8a"
   }
  }
 },
 "nbformat": 4,
 "nbformat_minor": 4
}
