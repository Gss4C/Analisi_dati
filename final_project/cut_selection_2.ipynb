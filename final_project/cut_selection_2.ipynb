{
 "cells": [
  {
   "cell_type": "markdown",
   "metadata": {},
   "source": [
    "# Step 2\n",
    "Il nostro obiettivo è quello di ricercare il canale raro \n",
    "$$q\\bar q \\rightarrow g \\rightarrow t\\bar t \\rightarrow Wb+Wb \\rightarrow l\\nu b + l\\nu b$$\n",
    "A tale scopo seguirò i seguenti passaggi:\n",
    "* L'idea è di ritrovare un segnale all'energia di circa $344 GeV$\n",
    "    + Ciò è dovuto al fatto che il quark top ha energia di circa $170GeV$\n",
    "    + Per il nostro segnale, nei dati, sappiamo che il fondo principale è dato dalla risonanza della $Z^0$\n",
    "        - A causa di ciò consideriamo, prima di poter effettuare i tagli e prima di studiare il dataset d'interesse, i file TTDilep e DYJets rispettivamente come campione di segnale e di fondo così da sapepre come effettuare una selezione\n",
    "* Procediamo con la selezione e l'analisi del segnale\n",
    "    + consideriamo solo i casi in cui ho almeno 2 muoni, altrimenti posso già scartare tutto\n",
    "        - I muoni devono essere passing probes col cut deciso nello step 1 così da avere efficienza del 90%: \n",
    "        $$dz <0.014 \\qquad dB<0.007 \\qquad isoDeposits < 9$$ \n",
    "    + Dobbiamo considerare la selezione sui muoni ricavata dallo step 1, fatta col tag&probe\n",
    "    + Dobbiamo riuscire a capire quanto le variabili che abbiamo siano discriminanti per il fondo. Per farlo abbiamo utilizzato:\n",
    "        - Numero di jets\n",
    "        - muon_dz\n",
    "        - muon_dB\n",
    "        - jets energy\n",
    "        - muon pt\n",
    "        - jets pt\n",
    "        - met pt"
   ]
  },
  {
   "cell_type": "code",
   "execution_count": 1,
   "metadata": {},
   "outputs": [
    {
     "name": "stdout",
     "output_type": "stream",
     "text": [
      "Welcome to JupyROOT 6.26/04\n"
     ]
    }
   ],
   "source": [
    "import ROOT\n",
    "import particle as pt\n",
    "import funx as fx\n",
    "import numpy as np\n",
    "\n",
    "filett = ROOT.TFile(\"./datas/TTDilep.root\",\"OPEN\")\n",
    "tttr = filett.trees.events\n",
    "\n",
    "fileDY = ROOT.TFile(\"./datas/DYJets.root\",\"OPEN\")\n",
    "dytr = fileDY.trees.events"
   ]
  },
  {
   "cell_type": "code",
   "execution_count": null,
   "metadata": {
    "scrolled": false
   },
   "outputs": [],
   "source": [
    "#jets\n",
    "h_tt_jsz=ROOT.TH1F(\"Jet_size\", \"Jet Size\", 100, 0 , 10)\n",
    "h_dy_jsz=ROOT.TH1F(\"Jet_size\", \"Jet Size\", 100, 0 , 10)\n",
    "h_tt_je=ROOT.TH1F(\"Jet_e\", \"Jet e\", 40, 20 , 200)\n",
    "h_dy_je=ROOT.TH1F(\"Jet_e\", \"Jet e\", 40, 20 , 200)\n",
    "h_tt_jpt=ROOT.TH1F(\"Jet_pt\", \"Jet pt\", 80, 20 , 150)\n",
    "h_dy_jpt=ROOT.TH1F(\"Jet_pt\", \"Jet pt\", 80, 20 , 150)\n",
    "#met\n",
    "h_tt_met=ROOT.TH1F(\"met\", \"MET pt\", 50, 0 , 200)\n",
    "h_dy_met=ROOT.TH1F(\"met\", \"MET pt\", 50, 0 , 200)\n",
    "#muoni\n",
    "h_dz_dy=ROOT.TH1F(\"mu_dz\", \"mu_dz\", 80, 0, 0.01)\n",
    "h_dz_tt=ROOT.TH1F(\"mu_dz\", \"mu_dz\", 80, 0, 0.01)\n",
    "h_dB_dy=ROOT.TH1F(\"mu_dB\", \"mu_dB\", 80, 0, 0.006)\n",
    "h_dB_tt=ROOT.TH1F(\"mu_dB\", \"mu_dB\", 80, 0, 0.006)\n",
    "h_iD_dy=ROOT.TH1F(\"mu_iD\", \"mu_iD\", 80, 0.1, 10)\n",
    "h_iD_tt=ROOT.TH1F(\"mu_iD\", \"mu_iD\", 80, 0.1, 10)\n",
    "h_m_dy=ROOT.TH1F(\"two_mu_mass\", \"mu_mass\", 90, 0, 120)\n",
    "h_m_tt=ROOT.TH1F(\"two_mu_mass\", \"mu_mass\", 90, 0, 120)\n",
    "\n",
    "arr = [[h_tt_jsz, h_dy_jsz],[h_tt_je,h_dy_je], [h_tt_jpt,h_dy_jpt], [h_tt_met,h_dy_met], [h_dz_tt,h_dz_dy],[h_dB_tt,h_dB_dy], [h_iD_tt,h_iD_dy],[h_m_tt,h_m_dy]]\n",
    "\n",
    "for i in range(tttr.GetEntries()):\n",
    "    tttr.GetEntry(i)\n",
    "    if(tttr.muontracks_size >=2):\n",
    "        muons = pt.get_collection(tttr, \"muontracks\")\n",
    "        passing = 0\n",
    "        for mi in range(len(muons)):\n",
    "            if(tttr.muontracks_dz[mi]<0.005 and tttr.muontracks_dB[mi]<0.003 and tttr.muontracks_isoDeposits[mi]<4):\n",
    "                for mj in range(len(muons)):\n",
    "                    if(mi!=mj and tttr.muontracks_dz[mj]<0.014 and tttr.muontracks_dB[mj]<0.007 and tttr.muontracks_isoDeposits[mj]<9):\n",
    "                        passing = 1\n",
    "                        s_mu = (muons[mi].p4+muons[mj].p4).M()\n",
    "                        h_m_tt.Fill(s_mu)\n",
    "                        \"\"\"if(tttr.muontracks_dz[mj]>0.005 and tttr.muontracks_dB[mj]>0.003 and tttr.muontracks_isoDeposits[mj]>4):         #Voglio prendere un tag ed un probe NON tag\n",
    "                            s_mu = (muons[mi].p4+muons[mj].p4).M()\n",
    "                            h_m_tt.Fill(s_mu)\"\"\"\n",
    "\n",
    "        if(passing==1):\n",
    "            #Taglio in distanza angolare jets-leptons + solo 2 jets più energetici\n",
    "            jets = pt.get_collection(tttr, \"jets\") \n",
    "            if(len(jets)>=2):\n",
    "                clean_jets = []             #jets con distanza angolare che ci piace\n",
    "                sel_j = []                  #solo i 2 più energetici di ogni clean_jets\n",
    "                for jj in range(len(jets)): #Selezione jets validi\n",
    "                    dists=[]                #array di distanze angolari\n",
    "                    for mm in range(len(muons)):\n",
    "                        d = ROOT.TMath.Sqrt( ((muons[mm].eta - jets[jj].eta)*(muons[mm].eta - jets[jj].eta)) + ((muons[mm].phi - jets[jj].phi)*(muons[mm].phi -jets[jj].phi)) )\n",
    "                        dists.append(d)\n",
    "                    if(min(dists) > 0.4):\n",
    "                        clean_jets.append(jets[jj])\n",
    "                if(len(clean_jets)>1):              #non ha senso considerare l'evento se nella selezione resta un solo jet\n",
    "                    for p in range(2):              #solo 2 per evento\n",
    "                        sel_j.append(clean_jets[p]) #questi sono i jets che ci piacciono\n",
    "\n",
    "                    h_tt_jsz.Fill(tttr.jets_size)\n",
    "                    h_tt_met.Fill(tttr.met_pt[0])\n",
    "\n",
    "                    for jet in range(len(sel_j)):\n",
    "                        h_tt_je.Fill(sel_j[jet].e)\n",
    "                        h_tt_jpt.Fill(sel_j[jet].pt)\n",
    "                    \n",
    "                    \n",
    "\n",
    "                    for m in range(tttr.muontracks_size):   #non ha senso considerare i casi dove ho jets non validi\n",
    "                        h_dz_tt.Fill(tttr.muontracks_dz[m]) #quindi stampo i muoni solo se ho i jets validi\n",
    "                        h_dB_tt.Fill(tttr.muontracks_dB[m]) #esattamente come ho stampato i jets solo dopo il tag & probe\n",
    "                        #h_pt_tt.Fill(tttr.muontracks_pt[m])\n",
    "                        h_iD_tt.Fill(tttr.muontracks_isoDeposits[m])\n",
    "\n",
    "for k in range(dytr.GetEntries()):             #stesso ciclo di prima, ma sull'altro tree\n",
    "    dytr.GetEntry(k)\n",
    "    if(dytr.muontracks_size >=2):\n",
    "        muons = pt.get_collection(dytr, \"muontracks\")\n",
    "        passing = 0\n",
    "        for mi in range(len(muons)):\n",
    "            if(dytr.muontracks_dz[mi]<0.005 and dytr.muontracks_dB[mi]<0.003 and dytr.muontracks_isoDeposits[mi]<4):\n",
    "                for mj in range(len(muons)):\n",
    "                    if(mi!=mj and dytr.muontracks_dz[mj]<0.014 and dytr.muontracks_dB[mj]<0.007 and dytr.muontracks_isoDeposits[mj]<9): \n",
    "                        passing = 1\n",
    "                        s_mu = (muons[mi].p4+muons[mj].p4).M()\n",
    "                        h_m_dy.Fill(s_mu)\n",
    "                        \"\"\"if(dytr.muontracks_dz[mj]>0.005 and dytr.muontracks_dB[mj]>0.003 and dytr.muontracks_isoDeposits[mj]>4):         #Voglio prendere un tag ed un probe NON tag\n",
    "                            s_mu = (muons[mi].p4+muons[mj].p4).M()\n",
    "                            h_m_dy.Fill(s_mu)\"\"\"\n",
    "                        \n",
    "        if(passing==1):\n",
    "            #Taglio in distanza angolare jets-leptons + solo 2 jets più energetici\n",
    "            jets = pt.get_collection(dytr, \"jets\") \n",
    "            if(len(jets)>=2):\n",
    "                clean_jets = []\n",
    "                sel_j = []\n",
    "                for jj in range(len(jets)):\n",
    "                    dists=[]\n",
    "                    for mm in range(len(muons)):\n",
    "                        d = ROOT.TMath.Sqrt( ((muons[mm].eta - jets[jj].eta)*(muons[mm].eta - jets[jj].eta)) + ((muons[mm].phi - jets[jj].phi)*(muons[mm].phi -jets[jj].phi)) )\n",
    "                        dists.append(d)\n",
    "                    if(min(dists) > 0.4):\n",
    "                        clean_jets.append(jets[jj])\n",
    "                if(len(clean_jets)>1):\n",
    "                    for p in range(2):\n",
    "                        sel_j.append(clean_jets[p])\n",
    "\n",
    "                    h_dy_jsz.Fill(dytr.jets_size)\n",
    "                    h_dy_met.Fill(dytr.met_pt[0])\n",
    "\n",
    "                    for jet in range(len(sel_j)):\n",
    "                        h_dy_je.Fill(sel_j[jet].e)\n",
    "                        h_dy_jpt.Fill(sel_j[jet].pt)\n",
    "                    for m in range(dytr.muontracks_size):\n",
    "                        h_dz_dy.Fill(dytr.muontracks_dz[m])\n",
    "                        h_dB_dy.Fill(dytr.muontracks_dB[m])\n",
    "                        #h_m_dy.Fill(dytr.muontracks_pt[m])\n",
    "                    #for z in range(dytr.muontracks_size):\n",
    "                        h_iD_dy.Fill(dytr.muontracks_isoDeposits[m])\n",
    "\n",
    "c=list(np.zeros(8))\n",
    "h_tts=[]\n",
    "h_dys=[]\n",
    "for i in arr:\n",
    "    h_tts.append(i[0])\n",
    "    h_dys.append(i[1])\n",
    "for i in range(8):\n",
    "    c[i]=ROOT.TCanvas()\n",
    "    c[i].Draw()\n",
    "    h_tts[i].Scale(1/h_tts[i].Integral())\n",
    "    h_dys[i].Scale(1/h_dys[i].Integral())\n",
    "    h_dys[i].Draw(\"hist\")\n",
    "    h_tts[i].SetLineColor(ROOT.kRed)\n",
    "    h_tts[i].Draw(\"SAME,hist\")"
   ]
  },
  {
   "cell_type": "markdown",
   "metadata": {},
   "source": [
    "Dopo questa analisi preliminare possiamo quindi stabilire che i tagli sensati siano solo i seguenti\n",
    "$$P_{T,MET}\\geq 35$$\n",
    "$$P_{T,jet}\\geq 45$$\n",
    "$$E_{jet}\\geq 50$$\n",
    "\n",
    "---\n",
    "\n",
    "Prima di proseguire con questi tagli però verifichiamo che abbiano ancora senso facendo un taglio attorno alla massa dei muoni "
   ]
  },
  {
   "cell_type": "code",
   "execution_count": 2,
   "metadata": {
    "scrolled": false
   },
   "outputs": [
    {
     "name": "stderr",
     "output_type": "stream",
     "text": [
      "Warning in <TFile::Append>: Replacing existing TH1: Jet_e (Potential memory leak).\n",
      "Warning in <TFile::Append>: Replacing existing TH1: Jet_pt (Potential memory leak).\n",
      "Warning in <TFile::Append>: Replacing existing TH1: met (Potential memory leak).\n",
      "Warning in <TFile::Append>: Replacing existing TH1: two_mu_mass (Potential memory leak).\n"
     ]
    },
    {
     "data": {
      "image/png": "[encoded data removed]",
      "text/plain": [
       "<IPython.core.display.Image object>"
      ]
     },
     "metadata": {},
     "output_type": "display_data"
    },
    {
     "data": {
      "image/png": "[encoded data removed]",
      "text/plain": [
       "<IPython.core.display.Image object>"
      ]
     },
     "metadata": {},
     "output_type": "display_data"
    },
    {
     "data": {
      "image/png": "[encoded data removed]",
      "text/plain": [
       "<IPython.core.display.Image object>"
      ]
     },
     "metadata": {},
     "output_type": "display_data"
    },
    {
     "data": {
      "image/png": "[encoded data removed]",
      "text/plain": [
       "<IPython.core.display.Image object>"
      ]
     },
     "metadata": {},
     "output_type": "display_data"
    }
   ],
   "source": [
    "#jets\n",
    "h_tt_je=ROOT.TH1F(\"Jet_e\", \"Jet e\", 40, 20 , 200)\n",
    "h_dy_je=ROOT.TH1F(\"Jet_e\", \"Jet e\", 40, 20 , 200)\n",
    "h_tt_jpt=ROOT.TH1F(\"Jet_pt\", \"Jet pt\", 80, 20 , 150)\n",
    "h_dy_jpt=ROOT.TH1F(\"Jet_pt\", \"Jet pt\", 80, 20 , 150)\n",
    "#met\n",
    "h_tt_met=ROOT.TH1F(\"met\", \"MET pt\", 50, 0 , 200)\n",
    "h_dy_met=ROOT.TH1F(\"met\", \"MET pt\", 50, 0 , 200)\n",
    "#muoni\n",
    "h_m_dy=ROOT.TH1F(\"two_mu_mass\", \"mu_mass\", 90, 0, 120)\n",
    "h_m_tt=ROOT.TH1F(\"two_mu_mass\", \"mu_mass\", 90, 0, 120)\n",
    "\n",
    "arr = [[h_tt_je,h_dy_je], [h_tt_jpt,h_dy_jpt], [h_tt_met,h_dy_met],[h_m_tt,h_m_dy]]\n",
    "\n",
    "for i in range(tttr.GetEntries()):\n",
    "    tttr.GetEntry(i)\n",
    "    if(tttr.muontracks_size >=2):\n",
    "        muons = pt.get_collection(tttr, \"muontracks\")\n",
    "        passing = 0\n",
    "        for mi in range(len(muons)):\n",
    "            if(tttr.muontracks_dz[mi]<0.005 and tttr.muontracks_dB[mi]<0.003 and tttr.muontracks_isoDeposits[mi]<4):\n",
    "                for mj in range(len(muons)):\n",
    "                    if(mi!=mj and tttr.muontracks_dz[mj]<0.014 and tttr.muontracks_dB[mj]<0.007 and tttr.muontracks_isoDeposits[mj]<9):\n",
    "                        passing = 1\n",
    "                        s_mu = (muons[mi].p4+muons[mj].p4).M()\n",
    "                        h_m_tt.Fill(s_mu)\n",
    "        if(passing==1):\n",
    "            #Taglio in distanza angolare jets-leptons + solo 2 jets più energetici\n",
    "            jets = pt.get_collection(tttr, \"jets\") \n",
    "            if(len(jets)>=2):\n",
    "                clean_jets = []             #jets con distanza angolare che ci piace\n",
    "                sel_j = []                  #solo i 2 più energetici di ogni clean_jets\n",
    "                for jj in range(len(jets)): #Selezione jets validi\n",
    "                    dists=[]                #array di distanze angolari\n",
    "                    for mm in range(len(muons)):\n",
    "                        d = ROOT.TMath.Sqrt( ((muons[mm].eta - jets[jj].eta)*(muons[mm].eta - jets[jj].eta)) + ((muons[mm].phi - jets[jj].phi)*(muons[mm].phi -jets[jj].phi)) )\n",
    "                        dists.append(d)\n",
    "                    if(min(dists) > 0.4):\n",
    "                        clean_jets.append(jets[jj])\n",
    "                if(len(clean_jets)>1):              #non ha senso considerare l'evento se nella selezione resta un solo jet\n",
    "                    for p in range(2):              #solo 2 per evento\n",
    "                        sel_j.append(clean_jets[p]) #questi sono i jets che ci piacciono\n",
    "                    h_tt_met.Fill(tttr.met_pt[0])\n",
    "\n",
    "                    for jet in range(len(sel_j)):\n",
    "                        h_tt_je.Fill(sel_j[jet].e)\n",
    "                        h_tt_jpt.Fill(sel_j[jet].pt)\n",
    "\n",
    "for k in range(dytr.GetEntries()):             #stesso ciclo di prima, ma sull'altro tree\n",
    "    dytr.GetEntry(k)\n",
    "    if(dytr.muontracks_size >=2):\n",
    "        muons = pt.get_collection(dytr, \"muontracks\")\n",
    "        passing = 0\n",
    "        for mi in range(len(muons)):\n",
    "            if(dytr.muontracks_dz[mi]<0.005 and dytr.muontracks_dB[mi]<0.003 and dytr.muontracks_isoDeposits[mi]<4):\n",
    "                for mj in range(len(muons)):\n",
    "                    if(mi!=mj and dytr.muontracks_dz[mj]<0.014 and dytr.muontracks_dB[mj]<0.007 and dytr.muontracks_isoDeposits[mj]<9): \n",
    "                        passing = 1\n",
    "                        s_mu = (muons[mi].p4+muons[mj].p4).M()\n",
    "                        h_m_dy.Fill(s_mu)\n",
    "        if(passing==1):\n",
    "            #Taglio in distanza angolare jets-leptons + solo 2 jets più energetici\n",
    "            jets = pt.get_collection(dytr, \"jets\") \n",
    "            if(len(jets)>=2):\n",
    "                clean_jets = []\n",
    "                sel_j = []\n",
    "                for jj in range(len(jets)):\n",
    "                    dists=[]\n",
    "                    for mm in range(len(muons)):\n",
    "                        d = ROOT.TMath.Sqrt( ((muons[mm].eta - jets[jj].eta)*(muons[mm].eta - jets[jj].eta)) + ((muons[mm].phi - jets[jj].phi)*(muons[mm].phi -jets[jj].phi)) )\n",
    "                        dists.append(d)\n",
    "                    if(min(dists) > 0.4):\n",
    "                        clean_jets.append(jets[jj])\n",
    "                if(len(clean_jets)>1):\n",
    "                    for p in range(2):\n",
    "                        sel_j.append(clean_jets[p])\n",
    "                    h_dy_met.Fill(dytr.met_pt[0])\n",
    "\n",
    "                    for jet in range(len(sel_j)):\n",
    "                        h_dy_je.Fill(sel_j[jet].e)\n",
    "                        h_dy_jpt.Fill(sel_j[jet].pt)\n",
    "\n",
    "c=list(np.zeros(4))\n",
    "h_tts=[]\n",
    "h_dys=[]\n",
    "for i in arr:\n",
    "    h_tts.append(i[0])\n",
    "    h_dys.append(i[1])\n",
    "for i in range(4):\n",
    "    c[i]=ROOT.TCanvas()\n",
    "    c[i].Draw()\n",
    "    h_tts[i].Scale(1/h_tts[i].Integral())\n",
    "    h_dys[i].Scale(1/h_dys[i].Integral())\n",
    "    h_dys[i].Draw(\"hist\")\n",
    "    h_tts[i].SetLineColor(ROOT.kRed)\n",
    "    h_tts[i].Draw(\"SAME,hist\")"
   ]
  },
  {
   "cell_type": "code",
   "execution_count": 3,
   "metadata": {
    "scrolled": false
   },
   "outputs": [
    {
     "data": {
      "text/plain": [
       "<cppyy.gbl.TFitResultPtr object at 0x9049bc0>"
      ]
     },
     "execution_count": 3,
     "metadata": {},
     "output_type": "execute_result"
    },
    {
     "name": "stdout",
     "output_type": "stream",
     "text": [
      " FCN=52.0931 FROM MIGRAD    STATUS=CONVERGED      91 CALLS          92 TOTAL\n",
      "                     EDM=3.13523e-08    STRATEGY= 1      ERROR MATRIX ACCURATE \n",
      "  EXT PARAMETER                                   STEP         FIRST   \n",
      "  NO.   NAME      VALUE            ERROR          SIZE      DERIVATIVE \n",
      "   1  p0           7.41558e+00   8.81671e-01   1.24069e-03  -7.04891e-04\n",
      "   2  p1           1.22661e+01   8.29740e-01   1.16833e-03  -6.30830e-04\n",
      " FCN=66.0334 FROM MIGRAD    STATUS=CONVERGED      38 CALLS          39 TOTAL\n",
      "                     EDM=1.87483e-15    STRATEGY= 1      ERROR MATRIX ACCURATE \n",
      "  EXT PARAMETER                                   STEP         FIRST   \n",
      "  NO.   NAME      VALUE            ERROR          SIZE      DERIVATIVE \n",
      "   1  p0           2.58491e-02   1.22438e-03   3.14864e-04   1.57896e-04\n",
      "   2  p1          -1.70025e-04   1.16869e-05   1.20000e-05   1.67017e-02\n"
     ]
    },
    {
     "data": {
      "image/png": "[encoded data removed]",
      "text/plain": [
       "<IPython.core.display.Image object>"
      ]
     },
     "metadata": {},
     "output_type": "display_data"
    }
   ],
   "source": [
    "#[h_tt_je,h_dy_je]\n",
    "#[h_tt_met,h_dy_met]\n",
    "\n",
    "f_dyjpt = ROOT.TF1(\"gauss\",\"[2]*1/([4]*TMath::Sqrt(2*TMath::Pi()))*exp(-(x-[3])*(x-[3])/(TMath::Sqrt(2)*[4]*[4]))\")\n",
    "\n",
    "c1=ROOT.TCanvas()\n",
    "c1.Draw()\n",
    "\n",
    "f_dy_jpt = ROOT.TF1(\"exp\", \"[0]/[1]*exp(-x/[1])\",20,140)\n",
    "f_tt_jpt = ROOT.TF1(\"retta\", \"[0]+[1]*x\",20,140)\n",
    "f_dy_jpt.SetParameters(1,4)\n",
    "h_dy_jpt.Fit(f_dy_jpt,\"SR\")\n",
    "h_dy_jpt.Draw()\n",
    "h_tt_jpt.Draw(\"SAME\")\n",
    "f_tt_jpt.SetParameters(1,-4)\n",
    "h_tt_jpt.Fit(f_tt_jpt,\"SR\")\n"
   ]
  },
  {
   "cell_type": "code",
   "execution_count": 4,
   "metadata": {},
   "outputs": [
    {
     "name": "stdout",
     "output_type": "stream",
     "text": [
      "signal efficiency cut: 83.5661744358117\n"
     ]
    }
   ],
   "source": [
    "bb= f_dy_jpt.Integral(45,140) #integrali nel cut >45\n",
    "ss=f_tt_jpt.Integral(45,140)\n",
    "bg_eff = bb/(bb+ss) *100\n",
    "sig_eff = ss/(bb+ss)*100\n",
    "print(\"signal efficiency cut:\" ,sig_eff)"
   ]
  },
  {
   "cell_type": "code",
   "execution_count": 5,
   "metadata": {},
   "outputs": [
    {
     "data": {
      "text/plain": [
       "<cppyy.gbl.TFitResultPtr object at 0x93bf3f0>"
      ]
     },
     "execution_count": 5,
     "metadata": {},
     "output_type": "execute_result"
    },
    {
     "name": "stdout",
     "output_type": "stream",
     "text": [
      " FCN=15.2265 FROM MIGRAD    STATUS=CONVERGED     173 CALLS         174 TOTAL\n",
      "                     EDM=6.93606e-08    STRATEGY= 1      ERROR MATRIX ACCURATE \n",
      "  EXT PARAMETER                                   STEP         FIRST   \n",
      "  NO.   NAME      VALUE            ERROR          SIZE      DERIVATIVE \n",
      "   1  p0           1.49059e+01   1.14005e+00   1.19703e-03  -4.62563e-04\n",
      "   2  p1          -6.16103e+00   4.04601e-01   5.40915e-04  -3.64333e-04\n",
      "   3  p2           8.50636e-01   1.27705e-01   1.07640e-04  -2.31163e-03\n",
      " FCN=54.596 FROM MIGRAD    STATUS=CONVERGED     214 CALLS         215 TOTAL\n",
      "                     EDM=1.18727e-06    STRATEGY= 1      ERROR MATRIX ACCURATE \n",
      "  EXT PARAMETER                                   STEP         FIRST   \n",
      "  NO.   NAME      VALUE            ERROR          SIZE      DERIVATIVE \n",
      "   1  p0           6.18246e+01   2.18830e+00   6.05601e-03  -1.10541e-04\n",
      "   2  p1          -1.26333e+01   5.74570e-01   1.67036e-03  -3.29963e-03\n",
      "   3  p2           2.56800e-01   2.01674e-02   4.71285e-05  -5.94588e-02\n"
     ]
    },
    {
     "data": {
      "image/png": "[encoded data removed]",
      "text/plain": [
       "<IPython.core.display.Image object>"
      ]
     },
     "metadata": {},
     "output_type": "display_data"
    }
   ],
   "source": [
    "f_dy_metpt = ROOT.TF1(\"gauss\",\"[2]*1/([1]*TMath::Sqrt(2*TMath::Pi()))*exp(-(x-[0])*(x-[0])/(TMath::Sqrt(2)*[1]*[1]))\",0,200)\n",
    "f_tt_metpt = ROOT.TF1(\"gauss\",\"[2]*1/([1]*TMath::Sqrt(2*TMath::Pi()))*exp(-(x-[0])*(x-[0])/(TMath::Sqrt(2)*[1]*[1]))\",0,200)\n",
    "\n",
    "c2=ROOT.TCanvas()\n",
    "c2.Draw()\n",
    "\n",
    "f_dy_metpt.SetParameters(8,100,0.1)\n",
    "h_dy_met.Fit(f_dy_metpt,\"SR\")\n",
    "h_dy_met.Draw()\n",
    "\n",
    "h_tt_met.Draw(\"SAME\")\n",
    "f_tt_metpt.SetParameters(50,3000,1)\n",
    "h_tt_met.Fit(f_tt_metpt,\"SR\")"
   ]
  },
  {
   "cell_type": "code",
   "execution_count": 6,
   "metadata": {},
   "outputs": [
    {
     "name": "stdout",
     "output_type": "stream",
     "text": [
      "signal efficiency cut: 91.65571429003113\n"
     ]
    }
   ],
   "source": [
    "bb= f_dy_metpt.Integral(35,140) #integrali nel cut >35\n",
    "ss=f_tt_metpt.Integral(35,140)\n",
    "bg_eff = bb/(bb+ss) *100\n",
    "sig_eff = ss/(bb+ss)*100\n",
    "print(\"signal efficiency cut:\" ,sig_eff)"
   ]
  },
  {
   "cell_type": "code",
   "execution_count": 7,
   "metadata": {},
   "outputs": [
    {
     "data": {
      "text/plain": [
       "<cppyy.gbl.TFitResultPtr object at 0x93a90b0>"
      ]
     },
     "execution_count": 7,
     "metadata": {},
     "output_type": "execute_result"
    },
    {
     "name": "stdout",
     "output_type": "stream",
     "text": [
      " FCN=52.0814 FROM MIGRAD    STATUS=CALL LIMIT   1348 CALLS        1349 TOTAL\n",
      "                     EDM=0.00245858    STRATEGY= 1  ERROR MATRIX UNCERTAINTY  22.0 per cent\n",
      "  EXT PARAMETER                APPROXIMATE        STEP         FIRST   \n",
      "  NO.   NAME      VALUE            ERROR          SIZE      DERIVATIVE \n",
      "   1  p0           1.83023e-01   2.15880e-01  -1.01767e-02  -3.59288e+00\n",
      "   2  p1          -1.68114e+01   4.75689e-01   3.58928e-05   6.63711e-03\n",
      "   3  p2           2.92632e+02   3.23295e+02   1.55365e+01  -2.34724e-03\n",
      " FCN=66.6354 FROM MIGRAD    STATUS=CONVERGED     193 CALLS         194 TOTAL\n",
      "                     EDM=8.42247e-07    STRATEGY= 1      ERROR MATRIX ACCURATE \n",
      "  EXT PARAMETER                                   STEP         FIRST   \n",
      "  NO.   NAME      VALUE            ERROR          SIZE      DERIVATIVE \n",
      "   1  p0           7.36107e+01   4.91787e+00   7.35973e-03  -4.48104e-05\n",
      "   2  p1          -1.83631e+01   1.00715e+00   1.85789e-03   1.98915e-03\n",
      "   3  p2           3.72692e-01   5.42195e-02   5.67226e-05   3.98680e-02\n"
     ]
    },
    {
     "name": "stderr",
     "output_type": "stream",
     "text": [
      "Warning in <Fit>: Abnormal termination of minimization.\n"
     ]
    },
    {
     "data": {
      "image/png": "[encoded data removed]",
      "text/plain": [
       "<IPython.core.display.Image object>"
      ]
     },
     "metadata": {},
     "output_type": "display_data"
    }
   ],
   "source": [
    "f_dy_je = ROOT.TF1(\"gauss\",\"[2]*1/([1]*TMath::Sqrt(2*TMath::Pi()))*exp(-(x-[0])*(x-[0])/(TMath::Sqrt(2)*[1]*[1]))\",0,200)\n",
    "f_tt_je = ROOT.TF1(\"gauss\",\"[2]*1/([1]*TMath::Sqrt(2*TMath::Pi()))*exp(-(x-[0])*(x-[0])/(TMath::Sqrt(2)*[1]*[1]))\",0,200)\n",
    "\n",
    "c3=ROOT.TCanvas()\n",
    "c3.Draw()\n",
    "\n",
    "f_dy_je.SetParameters(8,100,0.1)\n",
    "h_dy_je.Fit(f_dy_metpt,\"SR\")\n",
    "h_dy_je.Draw()\n",
    "\n",
    "h_tt_je.Draw(\"SAME\")\n",
    "f_tt_je.SetParameters(50,3000,1)\n",
    "h_tt_je.Fit(f_tt_je,\"SR\")"
   ]
  },
  {
   "cell_type": "code",
   "execution_count": 10,
   "metadata": {},
   "outputs": [
    {
     "name": "stdout",
     "output_type": "stream",
     "text": [
      "signal efficiency cut: 99.81065819916154\n"
     ]
    }
   ],
   "source": [
    "bb= f_dy_je.Integral(50,250) #integrali nel cut >60\n",
    "ss=f_tt_je.Integral(50,250)\n",
    "\n",
    "bg_eff = bb/(bb+ss) *100\n",
    "sig_eff = ss/(bb+ss)*100\n",
    "print(\"signal efficiency cut:\" ,sig_eff)"
   ]
  },
  {
   "cell_type": "code",
   "execution_count": null,
   "metadata": {},
   "outputs": [],
   "source": []
  }
 ],
 "metadata": {
  "kernelspec": {
   "display_name": "Python 3",
   "language": "python",
   "name": "python3"
  },
  "language_info": {
   "codemirror_mode": {
    "name": "ipython",
    "version": 3
   },
   "file_extension": ".py",
   "mimetype": "text/x-python",
   "name": "python",
   "nbconvert_exporter": "python",
   "pygments_lexer": "ipython3",
   "version": "3.8.10"
  },
  "vscode": {
   "interpreter": {
    "hash": "c29d7825a1f22b390a04cdebc5c5a1afee6a4643e95614c4f714148f5110cf8a"
   }
  }
 },
 "nbformat": 4,
 "nbformat_minor": 4
}
