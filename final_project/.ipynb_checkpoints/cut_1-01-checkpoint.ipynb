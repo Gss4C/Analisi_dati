{
 "cells": [
  {
   "cell_type": "markdown",
   "metadata": {},
   "source": [
    "# Step 1\n",
    "L'idea è quella di utilizzare l'informazione nota della massa della $Z^0$ per poter riuscire ad aumentare l'efficienza di muoni selezionati, in particolare il nostro obiettivo è quello di abbattere il fondo e il noise. Di seguito mostro quell che dovrebbe essere l'idea generale, sperando di non fotttere tutto\n",
    "* Grafico la massa ricostruita utilizzando due $\\mu$ che siano OS, qualsiasi segnale chiamo in questa descrizione come rumore intendo gli SS in tutto il range\n",
    "* Ricerco vari tagli da poter effettuare così da selezionare solo determinati muoni\n",
    "    + Utilizzo dunque un metodo del tipo _tag and probe_ \n",
    "        - Studiando i file DYJets e TTDilep Cerco di capire i migliori range dove effettuare dei tagli\n",
    "        - Seleziono per ogni evento i muoni \"tag\" e poi con criteri meno stringenti cerco un probe\n",
    "        - Il solo utilizzare questo metodo dovrebbe garantire un certo abbattimento del noise, dato che non sto pigliando tutti i muoni a caso senza senso\n",
    "* Rifaccio il grafico della massa, studiandomi in particolare le OS (che già so essere un segnale)  dopo che ho effettuato tutti i tagli che ho nuovamente ritrovato, sperando che ciò vadad bene"
   ]
  },
  {
   "cell_type": "code",
   "execution_count": 1,
   "metadata": {},
   "outputs": [
    {
     "name": "stdout",
     "output_type": "stream",
     "text": [
      "Welcome to JupyROOT 6.26/04\n"
     ]
    }
   ],
   "source": [
    "import ROOT\n",
    "import particle as pt\n",
    "import numpy as np"
   ]
  },
  {
   "cell_type": "code",
   "execution_count": 2,
   "metadata": {},
   "outputs": [],
   "source": [
    "fileDY = ROOT.TFile(\"./datas/DYJets.root\",\"OPEN\")\n",
    "dytr = fileDY.trees.events\n",
    "\n",
    "fileTT = ROOT.TFile(\"./datas/TTDilep.root\",\"OPEN\")\n",
    "tttr = fileTT.trees.events\n",
    "\n",
    "file = ROOT.TFile(\"./datas/Data.root\",\"OPEN\")\n",
    "tr = file.trees.events"
   ]
  },
  {
   "cell_type": "markdown",
   "metadata": {},
   "source": [
    "## DYJets"
   ]
  },
  {
   "cell_type": "code",
   "execution_count": null,
   "metadata": {},
   "outputs": [],
   "source": [
    "are_os = lambda x,y: x.charge*y.charge<0\n",
    "h_mu_mass_os = ROOT.TH1F(\"DY_mu_mass\",\"DY Muon mass\",150,0,150) \n",
    "h_mu_mass_ss = ROOT.TH1F(\"DY_mu_mass\",\"DY Muon mass\",150,0,150)\n",
    "\n",
    "c=ROOT.TCanvas()\n",
    "\n",
    "for i in range(dytr.GetEntries()):\n",
    "    dytr.GetEntry(i)\n",
    "    muons=pt.get_collection(dytr,\"muontracks\")\n",
    "    for mi in range(len(muons)):\n",
    "        for mj in range(mi):\n",
    "            if(are_os(muons[mi],muons[mj])):\n",
    "                h_mu_mass_os.Fill((muons[mi].p4+muons[mj].p4).M())\n",
    "            else:\n",
    "                h_mu_mass_ss.Fill((muons[mi].p4+muons[mj].p4).M())\n",
    "c.Draw()\n",
    "c.SetLogy()\n",
    "h_mu_mass_os.Draw()\n",
    "h_mu_mass_ss.SetLineColor(ROOT.kRed)\n",
    "h_mu_mass_ss.Draw(\"same\")"
   ]
  },
  {
   "cell_type": "markdown",
   "metadata": {},
   "source": [
    "### Histograms for find cutting"
   ]
  },
  {
   "cell_type": "code",
   "execution_count": null,
   "metadata": {},
   "outputs": [],
   "source": [
    "pt.mass_z_range(fileDY, dytr, \"muontracks_chi2\", 100, 0, 2,1)"
   ]
  },
  {
   "cell_type": "code",
   "execution_count": null,
   "metadata": {},
   "outputs": [],
   "source": [
    "pt.mass_z_range(fileDY, dytr, \"muontracks_dz\", 100, 0, 0.01,1)"
   ]
  },
  {
   "cell_type": "code",
   "execution_count": null,
   "metadata": {},
   "outputs": [],
   "source": [
    "pt.mass_z_range(fileDY, dytr, \"muontracks_dB\", 100, 0, 0.006,1)"
   ]
  },
  {
   "cell_type": "code",
   "execution_count": null,
   "metadata": {},
   "outputs": [],
   "source": [
    "pt.mass_z_range(fileDY, dytr, \"muontracks_isoDeposits\", 100, 0.1, 10,1)"
   ]
  },
  {
   "cell_type": "markdown",
   "metadata": {},
   "source": [
    "---\n",
    "### Cut\n",
    "Procedo col cutting dove farò i seguenti tagli:\n",
    "\n",
    "| Caratteristica | Criterio stretto | Criterio largo |\n",
    "| ------ | ----------- ||\n",
    "| $\\chi^2$   | $0.6<\\chi^2<1.2$ | $0.2<\\chi^2<1.8$ |\n",
    "| $dz$ | $<0.003$ | $<0.005$ |\n",
    "| $dB$ | $<0.0015$ | $<0.003$|\n",
    "| $iso$ | $<2$ | $<4$ | \n",
    "\n",
    "Dopo questo primo tentativo calcolo l'efficienza e qunindi provo a fare uno scan dei tagli, dunque seguo i seguenti passaggi\n",
    "+ Tentativo di cut a caso dul DYJ\n",
    "+ Scan dei vari tagli possibili e quindi provare varie efficienze\n",
    "    - Forse sarà necessario creare un istogramma di efficienze\n",
    "\n"
   ]
  },
  {
   "cell_type": "markdown",
   "metadata": {},
   "source": [
    "#### Primo tentativo di cut"
   ]
  },
  {
   "cell_type": "code",
   "execution_count": null,
   "metadata": {},
   "outputs": [],
   "source": [
    "h_passing_probes = ROOT.TH1F(\"DY_mu_mass_PP\",\"DY Muon mass PP\",150,0,150) \n",
    "h_failing_probes = ROOT.TH1F(\"DY_mu_mass_PP\",\"DY Muon mass PP\",150,0,150) \n",
    "c5=ROOT.TCanvas()\n",
    "\n",
    "n_pass = 0\n",
    "n_fail = 0\n",
    "n_tag = 0\n",
    "for i in range(dytr.GetEntries()):\n",
    "    dytr.GetEntry(i)\n",
    "    if(dytr.muontracks_size>1):\n",
    "        muons = pt.get_collection(dytr, \"muontracks\")\n",
    "        for mi in range(len(muons)):\n",
    "            if(dytr.muontracks_chi2[mi]<1.2 and dytr.muontracks_chi2[mi]>0.6 and dytr.muontracks_dz[mi]<0.003 and dytr.muontracks_dB[mi]<0.0015 and dytr.muontracks_isoDeposits[mi]<2):\n",
    "                p4t=muons[mi].p4\n",
    "                #n_tag = n_tag +1\n",
    "                for mj in range(len(muons)):\n",
    "                    if(mj != mi):\n",
    "                        if(dytr.muontracks_chi2[mj]<1.8 and dytr.muontracks_chi2[mj]>0.2 and dytr.muontracks_dz[mj]<0.005 and dytr.muontracks_dB[mj]<0.003 and dytr.muontracks_isoDeposits[mj]<4):\n",
    "                            p4pp=muons[mj].p4\n",
    "                            s_pass = (p4t+p4pp).M()\n",
    "                            h_passing_probes.Fill(s_pass)\n",
    "                            n_pass = n_pass +1\n",
    "                        else:\n",
    "                            p4fp=muons[mj].p4\n",
    "                            s_fail = (p4t+p4fp).M()\n",
    "                            h_failing_probes.Fill(s_fail)\n",
    "                            n_fail = n_fail +1\n",
    "c5.Draw()\n",
    "h_passing_probes.Draw()\n",
    "h_failing_probes.SetLineColor(ROOT.kGreen)\n",
    "h_failing_probes.Draw(\"SAME\")\n",
    "\n",
    "epsilon = pt.eff(n_pass, n_fail)\n",
    "#print((n_pass, n_fail, n_tag))\n",
    "print(epsilon)"
   ]
  },
  {
   "cell_type": "code",
   "execution_count": null,
   "metadata": {},
   "outputs": [],
   "source": [
    "#h_passing_probes.Scale() \n",
    "passing=ROOT.TF1(\"Gauss\",\"[2]*1/([1]*TMath::Sqrt(2*TMath::Pi()))*exp(-((x-[0])*(x-[0]))/(TMath::Sqrt(2)*[1]*[1]))\", 60,120)\n",
    "passing.SetParameters(80,10)\n",
    "#gs=ROOT.TF1(\"Gauss\", \"gaus(x)\", 0,150)\n",
    "\n",
    "h_passing_probes.Fit(passing)\n",
    "c5.Draw()"
   ]
  },
  {
   "cell_type": "code",
   "execution_count": null,
   "metadata": {},
   "outputs": [],
   "source": [
    "#gs_lnd = ROOT.TF1(\"Gauss+Landau\",\"[2]*1/([1]*TMath::Sqrt(2*TMath::Pi()))*exp(-((x-[0])*(x-[0]))/(TMath::Sqrt(2)*[1]*[1]))\", 0,150)\n",
    "#h_failing_probes.Fit(gs_lnd)\n",
    "#c5.Draw()\n",
    "\n",
    "#Non riesco a fare il fit della parte di sotto mamma aiuto"
   ]
  },
  {
   "cell_type": "markdown",
   "metadata": {},
   "source": [
    "#### Tentativo di scan"
   ]
  },
  {
   "cell_type": "code",
   "execution_count": null,
   "metadata": {},
   "outputs": [],
   "source": [
    "ea = []\n",
    "c=ROOT.TCanvas()\n",
    "h_epsilon = ROOT.TH1F(\"efficiency\", \"efficiency\", 100, 0, 100)\n",
    "for chi_low in np.arange(0.2, 0.5, 0.1):\n",
    "    for chi_up in np.arange(1.4, 2, 0.2):\n",
    "        for dzc in np.arange(0.004, 0.007 , 0.001):\n",
    "            for dBc in np.arange(0.003 , 0.006 , 0.001):\n",
    "                for isoc in np.arange(3 , 6, 1):\n",
    "                    n_pass = 0\n",
    "                    n_fail = 0\n",
    "                    epsiloni = 0\n",
    "                    for i in range(dytr.GetEntries()):\n",
    "                        dytr.GetEntry(i)\n",
    "                        muons = pt.get_collection(dytr, \"muontracks\")\n",
    "                        for mi in range(len(muons)):\n",
    "                            if(dytr.muontracks_chi2[mi]<1.2 and dytr.muontracks_chi2[mi]>0.6 and dytr.muontracks_dz[mi]<0.003 and dytr.muontracks_dB[mi]<0.0015 and dytr.muontracks_isoDeposits[mi]<2):\n",
    "                                p4t=muons[mi].p4\n",
    "                                for mj in range(len(muons)):\n",
    "                                    if(mj != mi):\n",
    "                                        if(dytr.muontracks_chi2[mj]<chi_up and dytr.muontracks_chi2[mj]>chi_low and dytr.muontracks_dz[mj]<dzc and dytr.muontracks_dB[mj]<dBc and dytr.muontracks_isoDeposits[mj]<isoc):\n",
    "                                            n_pass = n_pass+1\n",
    "                                        else:\n",
    "                                            n_fail = n_fail+1\n",
    "                    epsiloni = pt.eff(n_pass, n_fail)\n",
    "                    ea.append(epsiloni)\n",
    "for i in range(ea):\n",
    "    h_epsilon.Fill(ea[i])\n",
    "c.Draw()\n",
    "h_epsilon.Draw()"
   ]
  },
  {
   "cell_type": "code",
   "execution_count": null,
   "metadata": {},
   "outputs": [],
   "source": [
    "sum = 0\n",
    "for i in range(dytr.GetEntries()):\n",
    "    dytr.GetEntry(i)\n",
    "    sum = sum + dytr.muontracks_size\n",
    "print(sum)"
   ]
  },
  {
   "cell_type": "markdown",
   "metadata": {},
   "source": [
    "---\n",
    "## Data.root\n",
    "Comincio col fare il primo cut, quello più facile"
   ]
  },
  {
   "cell_type": "code",
   "execution_count": 3,
   "metadata": {},
   "outputs": [
    {
     "name": "stdout",
     "output_type": "stream",
     "text": [
      "22.814070351758794\n"
     ]
    },
    {
     "name": "stderr",
     "output_type": "stream",
     "text": [
      "Warning in <TFile::Append>: Replacing existing TH1: Data_mu_mass_PP (Potential memory leak).\n"
     ]
    },
    {
     "data": {
      "image/png": "[encoded data removed]",
      "text/plain": [
       "<IPython.core.display.Image object>"
      ]
     },
     "metadata": {},
     "output_type": "display_data"
    }
   ],
   "source": [
    "h_passing_probes = ROOT.TH1F(\"Data_mu_mass_PP\",\"Data Muon mass PP\",150,0,150) \n",
    "h_failing_probes = ROOT.TH1F(\"Data_mu_mass_PP\",\"Data Muon mass PP\",150,0,150) \n",
    "c5=ROOT.TCanvas()\n",
    "\n",
    "n_pass = 0\n",
    "n_fail = 0\n",
    "n_tag = 0\n",
    "\n",
    "for i in range(tr.GetEntries()):\n",
    "    tr.GetEntry(i)\n",
    "    if(tr.muontracks_size>1):\n",
    "        muons = pt.get_collection(tr, \"muontracks\")\n",
    "        for mi in range(len(muons)):\n",
    "            if(tr.muontracks_chi2[mi]<1.2 and tr.muontracks_chi2[mi]>0.6 and tr.muontracks_dz[mi]<0.003 and tr.muontracks_dB[mi]<0.0015 and tr.muontracks_isoDeposits[mi]<2):\n",
    "                p4t=muons[mi].p4\n",
    "                #n_tag = n_tag +1\n",
    "                for mj in range(len(muons)):\n",
    "                    if(mj != mi):\n",
    "                        if(tr.muontracks_chi2[mj]<1.8 and tr.muontracks_chi2[mj]>0.2 and tr.muontracks_dz[mj]<0.005 and tr.muontracks_dB[mj]<0.003 and tr.muontracks_isoDeposits[mj]<4):\n",
    "                            p4pp=muons[mj].p4\n",
    "                            s_pass = (p4t+p4pp).M()\n",
    "                            h_passing_probes.Fill(s_pass)\n",
    "                            n_pass = n_pass +1\n",
    "                        else:\n",
    "                            p4fp=muons[mj].p4\n",
    "                            s_fail = (p4t+p4fp).M()\n",
    "                            h_failing_probes.Fill(s_fail)\n",
    "                            n_fail = n_fail +1\n",
    "c5.Draw()\n",
    "h_passing_probes.Draw()\n",
    "h_failing_probes.SetLineColor(ROOT.kGreen)\n",
    "h_failing_probes.Draw(\"SAME\")\n",
    "\n",
    "epsilon = pt.eff(n_pass, n_fail)\n",
    "#print((n_pass, n_fail, n_tag))\n",
    "print(epsilon)"
   ]
  },
  {
   "cell_type": "code",
   "execution_count": 4,
   "metadata": {},
   "outputs": [
    {
     "name": "stdout",
     "output_type": "stream",
     "text": [
      " FCN=348.717 FROM MIGRAD    STATUS=CONVERGED     178 CALLS         179 TOTAL\n",
      "                     EDM=2.76317e-07    STRATEGY= 1      ERROR MATRIX ACCURATE \n",
      "  EXT PARAMETER                                   STEP         FIRST   \n",
      "  NO.   NAME      VALUE            ERROR          SIZE      DERIVATIVE \n",
      "   1  p0           9.07306e+01   8.21395e-02   7.23120e-04   6.69750e-03\n",
      "   2  p1           2.98533e+00   1.11293e-01   9.80158e-04   2.71752e-03\n",
      "   3  p2           1.19798e+03   3.77458e+01   3.44658e-01   1.31782e-05\n"
     ]
    },
    {
     "data": {
      "image/png": "[encoded data removed]",
      "text/plain": [
       "<IPython.core.display.Image object>"
      ]
     },
     "metadata": {},
     "output_type": "display_data"
    }
   ],
   "source": [
    "passing=ROOT.TF1(\"Gauss\",\"[2]*1/([1]*TMath::Sqrt(2*TMath::Pi()))*exp(-((x-[0])*(x-[0]))/(TMath::Sqrt(2)*[1]*[1]))\", 40,140)\n",
    "passing.SetParameters(50,10,50)\n",
    "\n",
    "h_passing_probes.Fit(passing)\n",
    "c5.Draw()"
   ]
  },
  {
   "cell_type": "code",
   "execution_count": 10,
   "metadata": {},
   "outputs": [
    {
     "name": "stdout",
     "output_type": "stream",
     "text": [
      " FCN=431.694 FROM MIGRAD    STATUS=CONVERGED    1464 CALLS        1465 TOTAL\n",
      "                     EDM=6.9721e-08    STRATEGY= 1      ERROR MATRIX ACCURATE \n",
      "  EXT PARAMETER                                   STEP         FIRST   \n",
      "  NO.   NAME      VALUE            ERROR          SIZE      DERIVATIVE \n",
      "   1  p0           9.08947e+01   2.04247e-01   2.02045e-03   1.21747e-03\n",
      "   2  p1           2.68055e+00   1.75045e-01   1.69525e-03   4.94186e-04\n",
      "   3  p2           1.97097e+02   1.63229e+01   1.62867e-01   1.05382e-05\n",
      "   4  p3           2.16544e+00   4.76129e-01   1.71493e-04   1.09196e-02\n",
      "   5  p4          -9.34824e-03   2.07272e-03   2.69893e-06   6.56610e-01\n",
      "   6  p5           2.13956e+01   4.74586e+00   3.06617e-03  -5.25907e-04\n",
      "   7  p6           7.70877e+03   1.70214e+03   1.23933e+00  -8.14247e-07\n"
     ]
    },
    {
     "data": {
      "image/png": "[encoded data removed]",
      "text/plain": [
       "<IPython.core.display.Image object>"
      ]
     },
     "metadata": {},
     "output_type": "display_data"
    }
   ],
   "source": [
    "failing=ROOT.TF1(\"Exp+Gauss\",\"[6]/[5]*TMath::Exp(-(x*[3]+x*x*[4])/[5]) + [2]*1/([1]*TMath::Sqrt(2*TMath::Pi()))*exp(-((x-[0])*(x-[0]))/(TMath::Sqrt(2)*[1]*[1]))\", 40,140)\n",
    "failing.SetParameters(90,10,10,1,1,500,20)\n",
    "\n",
    "h_failing_probes.Fit(failing)\n",
    "c5.Draw()"
   ]
  },
  {
   "cell_type": "code",
   "execution_count": null,
   "metadata": {},
   "outputs": [],
   "source": []
  }
 ],
 "metadata": {
  "kernelspec": {
   "display_name": "Python 3",
   "language": "python",
   "name": "python3"
  },
  "language_info": {
   "codemirror_mode": {
    "name": "ipython",
    "version": 3
   },
   "file_extension": ".py",
   "mimetype": "text/x-python",
   "name": "python",
   "nbconvert_exporter": "python",
   "pygments_lexer": "ipython3",
   "version": "3.8.10"
  }
 },
 "nbformat": 4,
 "nbformat_minor": 4
}
