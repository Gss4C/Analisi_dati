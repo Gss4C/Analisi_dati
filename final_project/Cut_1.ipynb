{
 "cells": [
  {
   "cell_type": "markdown",
   "metadata": {},
   "source": [
    "# Step 1\n",
    "L'idea è quella di utilizzare l'informazione nota della massa della $Z^0$ per poter riuscire ad aumentare l'efficienza di muoni selezionati, in particolare il nostro obiettivo è quello di abbattere il fondo e il noise. Di seguito mostro quell che dovrebbe essere l'idea generale, sperando di non fotttere tutto\n",
    "* Grafico la massa ricostruita utilizzando due $\\mu$ che siano OS, qualsiasi segnale chiamo in questa descrizione come rumore intendo gli SS in tutto il range\n",
    "* Ricerco vari tagli da poter effettuare così da selezionare solo determinati muoni\n",
    "    + Utilizzo dunque un metodo del tipo _tag and probe_ \n",
    "        - Studiando i file DYJets e TTDilep Cerco di capire i migliori range dove effettuare dei tagli\n",
    "        - Seleziono per ogni evento i muoni \"tag\" e poi con criteri meno stringenti cerco un probe\n",
    "        - Il solo utilizzare questo metodo dovrebbe garantire un certo abbattimento del noise, dato che non sto pigliando tutti i muoni a caso senza senso\n",
    "* Rifaccio il grafico della massa, studiandomi in particolare le OS (che già so essere un segnale)  dopo che ho effettuato tutti i tagli che ho nuovamente ritrovato, sperando che ciò vadad bene"
   ]
  },
  {
   "cell_type": "code",
   "execution_count": 1,
   "metadata": {},
   "outputs": [
    {
     "name": "stdout",
     "output_type": "stream",
     "text": [
      "Welcome to JupyROOT 6.26/04\n"
     ]
    }
   ],
   "source": [
    "import ROOT\n",
    "import particle as pt"
   ]
  },
  {
   "cell_type": "code",
   "execution_count": 2,
   "metadata": {},
   "outputs": [],
   "source": [
    "fileDY = ROOT.TFile(\"./datas/DYJets.root\",\"OPEN\")\n",
    "dytr = fileDY.trees.events\n",
    "\n",
    "fileTT = ROOT.TFile(\"./datas/TTDilep.root\",\"OPEN\")\n",
    "tttr = fileTT.trees.events\n",
    "\n",
    "file = ROOT.TFile(\"./datas/Data.root\",\"OPEN\")\n",
    "tr = file.trees.events"
   ]
  },
  {
   "cell_type": "markdown",
   "metadata": {},
   "source": [
    "## DYJets"
   ]
  },
  {
   "cell_type": "code",
   "execution_count": null,
   "metadata": {},
   "outputs": [],
   "source": [
    "are_os = lambda x,y: x.charge*y.charge<0\n",
    "h_mu_mass_os = ROOT.TH1F(\"DY_mu_mass\",\"DY Muon mass\",150,0,150) \n",
    "h_mu_mass_ss = ROOT.TH1F(\"DY_mu_mass\",\"DY Muon mass\",150,0,150)\n",
    "\n",
    "c=ROOT.TCanvas()\n",
    "\n",
    "for i in range(dytr.GetEntries()):\n",
    "    dytr.GetEntry(i)\n",
    "    muons=pt.get_collection(dytr,\"muontracks\")\n",
    "    for mi in range(len(muons)):\n",
    "        for mj in range(mi):\n",
    "            if(are_os(muons[mi],muons[mj])):\n",
    "                h_mu_mass_os.Fill((muons[mi].p4+muons[mj].p4).M())\n",
    "            else:\n",
    "                h_mu_mass_ss.Fill((muons[mi].p4+muons[mj].p4).M())\n",
    "c.Draw()\n",
    "c.SetLogy()\n",
    "h_mu_mass_os.Draw()\n",
    "h_mu_mass_ss.SetLineColor(ROOT.kRed)\n",
    "h_mu_mass_ss.Draw(\"same\")"
   ]
  },
  {
   "cell_type": "markdown",
   "metadata": {},
   "source": [
    "### Histograms for find cutting"
   ]
  },
  {
   "cell_type": "code",
   "execution_count": null,
   "metadata": {},
   "outputs": [],
   "source": [
    "pt.mass_z_range(fileDY, dytr, \"muontracks_chi2\", 100, 0, 2,1)"
   ]
  },
  {
   "cell_type": "code",
   "execution_count": null,
   "metadata": {},
   "outputs": [],
   "source": [
    "pt.mass_z_range(fileDY, dytr, \"muontracks_dz\", 100, 0, 0.01,1)"
   ]
  },
  {
   "cell_type": "code",
   "execution_count": null,
   "metadata": {},
   "outputs": [],
   "source": [
    "pt.mass_z_range(fileDY, dytr, \"muontracks_dB\", 100, 0, 0.006,1)"
   ]
  },
  {
   "cell_type": "code",
   "execution_count": null,
   "metadata": {},
   "outputs": [],
   "source": [
    "pt.mass_z_range(fileDY, dytr, \"muontracks_isoDeposits\", 100, 0.1, 10,1)"
   ]
  },
  {
   "cell_type": "markdown",
   "metadata": {},
   "source": [
    "---\n",
    "### Cut\n",
    "Procedo col cutting dove farò i seguenti tagli:\n",
    "\n",
    "| Caratteristica | Criterio stretto | Criterio largo |\n",
    "| ------ | ----------- ||\n",
    "| $\\chi^2$   | $0.6<\\chi^2<1.2$ | $0.2<\\chi^2<1.8$ |\n",
    "| $dz$ | $<0.003$ | $<0.005$ |\n",
    "| $dB$ | $<0.0015$ | $<0.003$|\n",
    "| $iso$ | $<2$ | $<4$ | \n",
    "\n",
    "Dopo questo primo tentativo calcolo l'efficienza e qunindi provo a fare uno scan dei tagli, dunque seguo i seguenti passaggi\n",
    "+ Tentativo di cut a caso dul DYJ\n",
    "+ Scan dei vari tagli possibili e quindi provare varie efficienze\n",
    "    - Forse sarà necessario creare un istogramma di efficienze\n",
    "\n"
   ]
  },
  {
   "cell_type": "code",
   "execution_count": null,
   "metadata": {},
   "outputs": [],
   "source": [
    "h_passing_probes = ROOT.TH1F(\"DY_mu_mass_PP\",\"DY Muon mass PP\",150,0,150) \n",
    "h_failing_probes = ROOT.TH1F(\"DY_mu_mass_PP\",\"DY Muon mass PP\",150,0,150) \n",
    "c5=ROOT.TCanvas()\n",
    "\n",
    "n_pass = 0\n",
    "n_fail = 0\n",
    "\n",
    "for i in range(dytr.GetEntries()):\n",
    "    dytr.GetEntry(i)\n",
    "    muons = pt.get_collection(dytr, \"muontracks\")\n",
    "    for mi in range(len(muons)):\n",
    "        #exists_tag=0\n",
    "        if(dytr.muontracks_chi2[mi]<1.2 and dytr.muontracks_chi2[mi]>0.6 and dytr.muontracks_dz[mi]<0.003 and dytr.muontracks_dB[mi]<0.0015 and dytr.muontracks_isoDeposits[mi]<2):\n",
    "            p4t=muons[mi].p4\n",
    "            #exists_tag=1     \n",
    "            for mj in range(len(muons)): #devo mettere che arrivi ad essere uguale a mi e non minore\n",
    "                if(mj != mi):\n",
    "                    if(dytr.muontracks_chi2[mj]<1.8 and dytr.muontracks_chi2[mj]>0.2 and dytr.muontracks_dz[mj]<0.005 and dytr.muontracks_dB[mj]<0.003 and dytr.muontracks_isoDeposits[mj]<4):\n",
    "                        p4pp=muons[mj].p4\n",
    "                        s_pass = (p4t+p4pp).M()\n",
    "                        h_passing_probes.Fill(s_pass)\n",
    "                        n_pass = n_pass +1\n",
    "                    else:\n",
    "                        p4fp=muons[mj].p4\n",
    "                        s_fail = (p4t+p4fp).M()\n",
    "                        h_failing_probes.Fill(s_fail)\n",
    "                        n_fail = n_fail +1\n",
    "c5.Draw()\n",
    "h_passing_probes.Draw()\n",
    "h_failing_probes.SetLineColor(ROOT.kRed)\n",
    "h_failing_probes.Draw(\"SAME\")\n",
    "\n",
    "epsilon = eff(n_pass, n_fail)\n",
    "print((n_pass, n_fail))\n",
    "print(epsilon)"
   ]
  },
  {
   "cell_type": "code",
   "execution_count": null,
   "metadata": {},
   "outputs": [],
   "source": [
    "n_pass = 0\n",
    "n_fail = 0\n",
    "\n",
    "for i in range(dytr.GetEntries()):\n",
    "    dytr.GetEntry(i)\n",
    "    muons = pt.get_collection(dytr, \"muontracks\")\n",
    "    for mi in range(len(muons)):\n",
    "        if(dytr.muontracks_chi2[mi]<1.2 and dytr.muontracks_chi2[mi]>0.6 and dytr.muontracks_dz[mi]<0.003 and dytr.muontracks_dB[mi]<0.0015 and dytr.muontracks_isoDeposits[mi]<2):\n",
    "            p4t=muons[mi].p4\n",
    "            "
   ]
  }
 ],
 "metadata": {
  "kernelspec": {
   "display_name": "Python 3",
   "language": "python",
   "name": "python3"
  },
  "language_info": {
   "codemirror_mode": {
    "name": "ipython",
    "version": 3
   },
   "file_extension": ".py",
   "mimetype": "text/x-python",
   "name": "python",
   "nbconvert_exporter": "python",
   "pygments_lexer": "ipython3",
   "version": "3.8.10"
  }
 },
 "nbformat": 4,
 "nbformat_minor": 4
}
