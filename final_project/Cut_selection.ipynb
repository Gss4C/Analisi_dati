{
 "cells": [
  {
   "cell_type": "markdown",
   "metadata": {},
   "source": [
    "# Step 2\n",
    "Il nostro obiettivo è quello di ricercare il canale raro \n",
    "$$q\\bar q \\rightarrow g \\rightarrow t\\bar t \\rightarrow Wb+Wb \\rightarrow l\\nu b + l\\nu b$$\n",
    "A tale scopo seguirò i seguenti passaggi:\n",
    "* L'idea è di ritrovare un segnale all'energia di circa $344 GeV$\n",
    "    + Ciò è dovuto al fatto che il quark top ha energia di circa $170GeV$\n",
    "    + Per il nostro segnale, nei dati, sappiamo che il fondo principale è dato dalla risonanza della $Z^0$\n",
    "        - A causa di ciò consideriamo, prima di poter effettuare i tagli e prima di studiare il dataset d'interesse, i file TTDilep e DYJets rispettivamente come campione di segnale e di fondo così da sapepre come effettuare una selezione\n",
    "* Procediamo con la selezione e l'analisi del segnale\n",
    "    + consideriamo solo i casi in cui ho almeno 2 muoni, altrimenti posso già scartare tutto\n",
    "        - I muoni devono essere passing probes col cut deciso nello step 1 così da avere efficienza del 90%: \n",
    "        $$dz <0.014 \\qquad dB<0.007 \\qquad isoDeposits < 9$$ \n",
    "    + Dobbiamo considerare la selezione sui muoni ricavata dallo step 1, fatta col tag&probe\n",
    "    + Dobbiamo riuscire a capire quanto le variabili che abbiamo siano discriminanti per il fondo. Per farlo utilizziamo:\n",
    "        - Numero di jets\n",
    "        - Numero di muoni passing probes\n",
    "        - dz\n",
    "        - dB\n",
    "        - jets energy\n",
    "        - muon pt\n",
    "        - jets pt\n",
    "        - met pt\n",
    "\n",
    "---\n",
    "Sto iniziando a analizzare i vari dataset così da riuscire a capire quali sono le caratteristiche sulle quali è possibile fare dei tagli,  "
   ]
  },
  {
   "cell_type": "code",
   "execution_count": 3,
   "metadata": {},
   "outputs": [],
   "source": [
    "import ROOT as R\n",
    "import particle as pt\n",
    "import numpy as np\n",
    "\n",
    "filett = R.TFile(\"./datas/TTDilep.root\",\"OPEN\")\n",
    "tttr = filett.trees.events\n",
    "\n",
    "fileDY = R.TFile(\"./datas/DYJets.root\",\"OPEN\")\n",
    "dytr = fileDY.trees.events"
   ]
  },
  {
   "cell_type": "code",
   "execution_count": 19,
   "metadata": {},
   "outputs": [
    {
     "name": "stderr",
     "output_type": "stream",
     "text": [
      "Warning in <TFile::Append>: Replacing existing TH1: Jet_size (Potential memory leak).\n",
      "Warning in <TFile::Append>: Replacing existing TH1: Jet_size (Potential memory leak).\n"
     ]
    },
    {
     "data": {
      "image/png": "[encoded data removed]",
      "text/plain": [
       "<IPython.core.display.Image object>"
      ]
     },
     "metadata": {},
     "output_type": "display_data"
    }
   ],
   "source": [
    "h_tt_jsz=R.TH1F(\"Jet_size\", \"Jet Size\", 10, 0 , 10)\n",
    "h_dy_jsz=R.TH1F(\"Jet_size\", \"Jet Size\", 10, 0 , 10)\n",
    "c=R.TCanvas()\n",
    "\n",
    "for i in range(tttr.GetEntries()):\n",
    "    tttr.GetEntry(i)\n",
    "    #Inizio varie condizioni sui muoni così comincio con l'ignarare tutti i casi in cui non ricostruisco bene i muoni\n",
    "    if(tttr.muontracks_size >=2):\n",
    "        muons = pt.get_collection(tttr, \"muontracks\")\n",
    "        for mi in range(len(muons)):\n",
    "            if(tttr.muontracks_dz[mi]<0.005 and tttr.muontracks_dB[mi]<0.003 and tttr.muontracks_isoDeposits[mi]<4): #Taglio del tag\n",
    "                for mj in range(len(muons)):\n",
    "                    if(mi!=mj and tttr.muontracks_dz[mj]<0.014 and tttr.muontracks_dB[mj]<0.007 and tttr.muontracks_isoDeposits[mj]<9): #così sto facendo conteggi doppi, ma non sono sicuro scrivere for mj in range mi sia correttissimo\n",
    "                        h_tt_jsz.Fill(tttr.jets_size)\n",
    "                        \n",
    "for k in range(dytr.GetEntries()):\n",
    "    dytr.GetEntry(k)\n",
    "    if(dytr.muontracks_size >=2):\n",
    "        muons = pt.get_collection(dytr, \"muontracks\")\n",
    "        for mi in range(len(muons)):\n",
    "            if(dytr.muontracks_dz[mi]<0.005 and dytr.muontracks_dB[mi]<0.003 and dytr.muontracks_isoDeposits[mi]<4): #Taglio del tag\n",
    "                for mj in range(len(muons)):\n",
    "                    if(mi!=mj and dytr.muontracks_dz[mj]<0.014 and dytr.muontracks_dB[mj]<0.007 and dytr.muontracks_isoDeposits[mj]<9): #così sto facendo conteggi doppi, ma non sono sicuro scrivere for mj in range mi sia correttissimo\n",
    "                        h_dy_jsz.Fill(dytr.jets_size)\n",
    "                        \n",
    "c.Draw()\n",
    "h_dy_jsz.Draw()\n",
    "h_tt_jsz.SetLineColor(R.kRed)\n",
    "h_tt_jsz.Draw(\"SAME\")"
   ]
  },
  {
   "cell_type": "code",
   "execution_count": null,
   "metadata": {},
   "outputs": [],
   "source": []
  }
 ],
 "metadata": {
  "kernelspec": {
   "display_name": "Python 3",
   "language": "python",
   "name": "python3"
  },
  "language_info": {
   "codemirror_mode": {
    "name": "ipython",
    "version": 3
   },
   "file_extension": ".py",
   "mimetype": "text/x-python",
   "name": "python",
   "nbconvert_exporter": "python",
   "pygments_lexer": "ipython3",
   "version": "3.8.10"
  }
 },
 "nbformat": 4,
 "nbformat_minor": 4
}
