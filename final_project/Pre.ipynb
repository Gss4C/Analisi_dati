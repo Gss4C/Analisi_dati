{
 "cells": [
  {
   "cell_type": "markdown",
   "metadata": {},
   "source": [
    "# Step 1\n",
    "L'idea è quella di utilizzare l'informazione nota della massa della $Z^0$ per poter riuscire ad aumentare l'efficienza di muoni selezionati, in particolare il nostro obiettivo è quello di abbattere il fondo e il noise. Di seguito mostro quell che dovrebbe essere l'idea generale, sperando di non fotttere tutto\n",
    "* Grafico la massa ricostruita utilizzando due $\\mu$ OS\n",
    "* Ricerco vari tagli da poter effettuare così da selezionare solo determinati muoni\n",
    "    + Utilizzo dunque un metodo del tipo _tag and probe_ \n",
    "        - Studiando i file DYJets e TTDilep Cerco di capire i migliori range dove effettuare dei tagli\n",
    "        - Seleziono per ogni evento i muoni \"tag\" e poi con criteri meno stringenti cerco un probe\n",
    "        - Il solo utilizzare questo metodo dovrebbe garantire un certo abbattimento del noise, dato che non sto pigliando tutti i muoni a caso senza senso\n",
    "* Rifaccio il grafico della massa, studiandomi in particolare le OS (che già so essere un segnale)  dopo che ho effettuato tutti i tagli che ho nuovamente ritrovato, sperando che ciò vadad bene"
   ]
  },
  {
   "cell_type": "code",
   "execution_count": 1,
   "metadata": {},
   "outputs": [
    {
     "name": "stdout",
     "output_type": "stream",
     "text": [
      "Welcome to JupyROOT 6.26/04\n"
     ]
    }
   ],
   "source": [
    "import ROOT"
   ]
  },
  {
   "cell_type": "code",
   "execution_count": 12,
   "metadata": {},
   "outputs": [],
   "source": [
    "fileDY = ROOT.TFile(\"./datas/DYJets.root\",\"OPEN\")\n",
    "dytr = fileDY.trees.events\n",
    "\n",
    "fileTT = ROOT.TFile(\"./datas/TTDilep.root\",\"OPEN\")\n",
    "tttr = fileTT.trees.events\n",
    "\n",
    "file = ROOT.TFile(\"./datas/Data.root\",\"OPEN\")\n",
    "tr = file.trees.events"
   ]
  },
  {
   "cell_type": "code",
   "execution_count": 7,
   "metadata": {},
   "outputs": [],
   "source": [
    "class particle:\n",
    "    def __init__(self, pt,eta,phi,e,charge,flavor):\n",
    "        self.pt=pt\n",
    "        self.eta=eta\n",
    "        self.phi=phi\n",
    "        self.e=e\n",
    "        self.charge=charge\n",
    "        self.flavor=flavor\n",
    "        self.p4.SetPtEtaPhiE(pt,eta,phi,e)\n",
    "        \n",
    "#2 Metodo per estrarla:    \n",
    "def get_particle(tree,var=\"muontracks\",index=0):\n",
    "    flav_dict={\"muontracks\":13,\"electrons\":11} #questi numeri sono delle convenzioni date sul PDG che permettono di identificare le particelle in qualche modo\n",
    "    p = particle(getattr(tree,var+\"_pt\")[index],#getattr chiama dall'esterno un attributo con il nome preso come stringa\n",
    "                getattr(tree,var+\"_eta\")[index],\n",
    "                getattr(tree,var+\"_phi\")[index],\n",
    "                getattr(tree,var+\"_e\")[index],\n",
    "                getattr(tree,var+\"_charge\")[index] if hasattr(tree,var+\"_charge\") else 0,#nota: questo per i jet fallirà se non faccio qualcosa!\n",
    "                -1*getattr(tree,var+\"_charge\")[index]*(flav_dict[var]) if hasattr(tree,var+\"_charge\") else 0)\n",
    "    return p\n",
    "\n",
    "def get_collection(tree,var=\"muontracks\"):\n",
    "    particles=[get_particle(tree,var,i) for i in range(getattr(tree,var+\"_size\"))]\n",
    "    return particles"
   ]
  },
  {
   "cell_type": "markdown",
   "metadata": {},
   "source": [
    "## DYJets"
   ]
  },
  {
   "cell_type": "code",
   "execution_count": 11,
   "metadata": {},
   "outputs": [
    {
     "name": "stderr",
     "output_type": "stream",
     "text": [
      "Warning in <TFile::Append>: Replacing existing TH1: DY_mu_mass (Potential memory leak).\n",
      "Warning in <TFile::Append>: Replacing existing TH1: DY_mu_mass (Potential memory leak).\n"
     ]
    },
    {
     "data": {
      "image/png": "[encoded data removed]",
      "text/plain": [
       "<IPython.core.display.Image object>"
      ]
     },
     "metadata": {},
     "output_type": "display_data"
    }
   ],
   "source": [
    "are_os = lambda x,y: x.charge*y.charge<0\n",
    "h_mu_mass_os = ROOT.TH1F(\"DY_mu_mass\",\"DY Muon mass\",150,0,150) \n",
    "h_mu_mass_ss = ROOT.TH1F(\"DY_mu_mass\",\"DY Muon mass\",150,0,150)\n",
    "\n",
    "c=ROOT.TCanvas()\n",
    "\n",
    "for i in range(dytr.GetEntries()):\n",
    "    dytr.GetEntry(i)\n",
    "    muons=get_collection(dytr,\"muontracks\")\n",
    "    for mi in range(len(muons)):\n",
    "        for mj in range(mi):\n",
    "            if(are_os(muons[mi],muons[mj])):\n",
    "                h_mu_mass_os.Fill((muons[mi].p4+muons[mj].p4).M())\n",
    "            else:\n",
    "                h_mu_mass_ss.Fill((muons[mi].p4+muons[mj].p4).M())\n",
    "c.Draw()\n",
    "c.SetLogy()\n",
    "h_mu_mass_os.Draw()\n",
    "h_mu_mass_ss.SetLineColor(ROOT.kRed)\n",
    "h_mu_mass_ss.Draw(\"same\")"
   ]
  },
  {
   "cell_type": "code",
   "execution_count": null,
   "metadata": {},
   "outputs": [],
   "source": []
  }
 ],
 "metadata": {
  "kernelspec": {
   "display_name": "Python 3",
   "language": "python",
   "name": "python3"
  },
  "language_info": {
   "codemirror_mode": {
    "name": "ipython",
    "version": 3
   },
   "file_extension": ".py",
   "mimetype": "text/x-python",
   "name": "python",
   "nbconvert_exporter": "python",
   "pygments_lexer": "ipython3",
   "version": "3.8.10"
  }
 },
 "nbformat": 4,
 "nbformat_minor": 4
}
