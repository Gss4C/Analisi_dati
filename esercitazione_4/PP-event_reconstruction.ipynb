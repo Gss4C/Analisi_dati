{
 "cells": [
  {
   "cell_type": "markdown",
   "metadata": {},
   "source": [
    "# Se voglio ricostruire una coppia di elettroni di carica opposta come faccio?\n"
   ]
  },
  {
   "cell_type": "code",
   "execution_count": 3,
   "metadata": {
    "scrolled": false
   },
   "outputs": [
    {
     "ename": "NameError",
     "evalue": "name 'download' is not defined",
     "output_type": "error",
     "traceback": [
      "\u001b[0;31m---------------------------------------------------------------------------\u001b[0m",
      "\u001b[0;31mNameError\u001b[0m                                 Traceback (most recent call last)",
      "\u001b[0;32m/mnt/c/Users/jb5nn/DOCUME~1/UNIVER~1/MAGIST~1/ANALIS~1/ESERCI~1/esercitazione_3/PP-trees_and_ntuples.ipynb\u001b[0m in \u001b[0;36m<module>\u001b[0;34m\u001b[0m\n\u001b[1;32m      8\u001b[0m     \u001b[0;31m#3 salva l'output.\u001b[0m\u001b[0;34m\u001b[0m\u001b[0;34m\u001b[0m\u001b[0;34m\u001b[0m\u001b[0m\n\u001b[1;32m      9\u001b[0m \u001b[0;34m\u001b[0m\u001b[0m\n\u001b[0;32m---> 10\u001b[0;31m \u001b[0mprint\u001b[0m\u001b[0;34m(\u001b[0m\u001b[0mdownload\u001b[0m\u001b[0;34m[\u001b[0m\u001b[0;36m0\u001b[0m\u001b[0;34m]\u001b[0m\u001b[0;34m)\u001b[0m \u001b[0;31m#vediamo se è andato a buon fine!\u001b[0m\u001b[0;34m\u001b[0m\u001b[0;34m\u001b[0m\u001b[0m\n\u001b[0m",
      "\u001b[0;31mNameError\u001b[0m: name 'download' is not defined"
     ]
    }
   ],
   "source": [
    "#Prima cosa: giriamo il notebook precedente \n",
    "%run ../esercitazione_3/PP-trees_and_ntuples.ipynb"
   ]
  },
  {
   "cell_type": "code",
   "execution_count": 5,
   "metadata": {},
   "outputs": [],
   "source": [
    "import ROOT\n",
    "inputFile = ROOT.TFile(\"../datasets/DYJets.root\",\"OPEN\")\n",
    "mytree = inputFile.trees.events"
   ]
  },
  {
   "cell_type": "code",
   "execution_count": 6,
   "metadata": {},
   "outputs": [
    {
     "data": {
      "text/plain": [
       "10000"
      ]
     },
     "execution_count": 6,
     "metadata": {},
     "output_type": "execute_result"
    }
   ],
   "source": [
    "#Non solo l'output, anche il tree è presente!\n",
    "mytree\n",
    "mytree.GetEntries()"
   ]
  },
  {
   "cell_type": "markdown",
   "metadata": {},
   "source": [
    "## Ora facciamo un loop sugli eventi!"
   ]
  },
  {
   "cell_type": "code",
   "execution_count": 7,
   "metadata": {},
   "outputs": [
    {
     "name": "stdout",
     "output_type": "stream",
     "text": [
      "******************************************************************************\n",
      "*Tree    :events    : events                                                 *\n",
      "*Entries :    10000 : Total =         5662329 bytes  File  Size =    1718518 *\n",
      "*        :          : Tree compression factor =   3.29                       *\n",
      "******************************************************************************\n",
      "*Br    0 :jets_size : jets_size/I                                            *\n",
      "*Entries :    10000 : Total  Size=      40657 bytes  File Size  =       7285 *\n",
      "*Baskets :        2 : Basket Size=      32000 bytes  Compression=   5.51     *\n",
      "*............................................................................*\n",
      "*Br    1 :jets_pt   : vector<float>                                          *\n",
      "*Entries :    10000 : Total  Size=     215793 bytes  File Size  =     112788 *\n",
      "*Baskets :        8 : Basket Size=      32000 bytes  Compression=   1.91     *\n",
      "*............................................................................*\n",
      "*Br    2 :jets_eta  : vector<float>                                          *\n",
      "*Entries :    10000 : Total  Size=     215805 bytes  File Size  =     117477 *\n",
      "*Baskets :        8 : Basket Size=      32000 bytes  Compression=   1.83     *\n",
      "*............................................................................*\n",
      "*Br    3 :jets_phi  : vector<float>                                          *\n",
      "*Entries :    10000 : Total  Size=     215805 bytes  File Size  =     117423 *\n",
      "*Baskets :        8 : Basket Size=      32000 bytes  Compression=   1.83     *\n",
      "*............................................................................*\n",
      "*Br    4 :jets_e    : vector<float>                                          *\n",
      "*Entries :    10000 : Total  Size=     215781 bytes  File Size  =     114065 *\n",
      "*Baskets :        8 : Basket Size=      32000 bytes  Compression=   1.89     *\n",
      "*............................................................................*\n"
     ]
    }
   ],
   "source": [
    "\n",
    "mytree.Print(\"jets*\")"
   ]
  },
  {
   "cell_type": "code",
   "execution_count": 8,
   "metadata": {
    "scrolled": true
   },
   "outputs": [
    {
     "name": "stdout",
     "output_type": "stream",
     "text": [
      "event # 0 n jets  2  pt:  { 23.5252f, 21.2744f }\n",
      "leading jet pt 23.525209426879883  mass?  5.780231232227896\n",
      "event # 1000 n jets  2  pt:  { 132.482f, 123.424f }\n",
      "leading jet pt 132.4822998046875  mass?  12.171880845745264\n",
      "event # 2000 n jets  2  pt:  { 52.9363f, 44.1318f }\n",
      "leading jet pt 52.93634796142578  mass?  6.571729939939291\n",
      "event # 3000 n jets  1  pt:  { 32.7383f }\n",
      "leading jet pt 32.738304138183594  mass?  6.479578478494318\n",
      "event # 4000 n jets  4  pt:  { 77.3369f, 43.2297f, 36.9718f, 26.8002f }\n",
      "leading jet pt 77.3369369506836  mass?  17.612279455459902\n",
      "event # 5000 n jets  1  pt:  { 30.9888f }\n",
      "leading jet pt 30.98876953125  mass?  3.0345546335572213\n",
      "event # 6000 n jets  3  pt:  { 102.553f, 97.4465f, 25.9533f }\n",
      "leading jet pt 102.55277252197266  mass?  12.561784171985517\n",
      "event # 7000 n jets  1  pt:  { 89.6939f }\n",
      "leading jet pt 89.69392395019531  mass?  12.463836696754655\n",
      "event # 8000 n jets  2  pt:  { 24.9785f, 22.9679f }\n",
      "leading jet pt 24.978546142578125  mass?  7.492171015892832\n",
      "event # 9000 n jets  0  pt:  {}\n"
     ]
    }
   ],
   "source": [
    "h_jet_mass = ROOT.TH1F(\"Jets_mass_0\",\"Leading jet mass\",100,0,40) \n",
    "for i in range (mytree.GetEntries()):\n",
    "    mytree.GetEntry(i)\n",
    "    #Ogni 100 eventi stampo a schermo il vettore dei jet!\n",
    "    if(i%1000==0):print( \"event #\", i, \"n jets \",mytree.jets_size, \" pt: \",mytree.jets_pt)\n",
    "    #Se c'è almeno 1 jet: stampo il \n",
    "\n",
    "    if(mytree.jets_size):\n",
    "            jet_0 =ROOT.TLorentzVector()\n",
    "            jet_0.SetPtEtaPhiE(mytree.jets_pt[0],mytree.jets_eta[0],mytree.jets_phi[0],mytree.jets_e[0])\n",
    "            if(i%1000==0):print(\"leading jet pt\",mytree.jets_pt[0],\" mass? \",jet_0.M())\n",
    "            h_jet_mass.Fill(jet_0.M())"
   ]
  },
  {
   "cell_type": "code",
   "execution_count": 9,
   "metadata": {
    "scrolled": false
   },
   "outputs": [
    {
     "data": {
      "image/png": "[encoded data removed]",
      "text/plain": [
       "<IPython.core.display.Image object>"
      ]
     },
     "metadata": {},
     "output_type": "display_data"
    }
   ],
   "source": [
    "#Diseg\n",
    "c1= ROOT.TCanvas()\n",
    "c1.Draw()\n",
    "h_jet_mass.Draw()"
   ]
  },
  {
   "cell_type": "markdown",
   "metadata": {},
   "source": [
    "## Esercizio 1:\n",
    "\n",
    "Proviamo a fare la somma vettoriale  di due elettroni di carica opposta e disegnarne la massa.\n",
    "Facciamo lo stesso coi muoni.\n",
    "\n",
    "### 1.1 Che forma ha questa distribuzione\n",
    "\n",
    "### 1.2 Quante coppie avrò per evento?\n",
    "\n",
    "\n",
    "## Esercizio 2: \n",
    "\n",
    "Proviamo a fittare la distribuzione che viene fuori, ad es. con gauss + expo, o... altro?\n"
   ]
  },
  {
   "cell_type": "code",
   "execution_count": 10,
   "metadata": {},
   "outputs": [
    {
     "data": {
      "image/png": "[encoded data removed]",
      "text/plain": [
       "<IPython.core.display.Image object>"
      ]
     },
     "metadata": {},
     "output_type": "display_data"
    }
   ],
   "source": [
    "m_min=0\n",
    "m_max=150\n",
    "h_mass_el=ROOT.TH1F(\"h_mass_el\",\"Mass of electron pair\",100,m_min,m_max)\n",
    "h_mass_mu=ROOT.TH1F(\"h_mass_mu\",\"Mass of muon pair\",100,m_min,m_max)\n",
    "\n",
    "\n",
    "\n",
    "for i in range(mytree.GetEntries()):\n",
    "#for i in range(100):\n",
    "    mytree.GetEntry(i)\n",
    "    for ei in range(mytree.electrons_size):\n",
    "        for ej in range(ei):\n",
    "            if mytree.electrons_charge[ei]* mytree.electrons_charge[ej]<0:\n",
    "                e1=  ROOT.TLorentzVector()\n",
    "                e2=ROOT.TLorentzVector()\n",
    "                e1.SetPtEtaPhiE(mytree.electrons_pt[ei],mytree.electrons_eta[ei],mytree.electrons_phi[ei],mytree.electrons_e[ei])\n",
    "                e2.SetPtEtaPhiE(mytree.electrons_pt[ej],mytree.electrons_eta[ej],mytree.electrons_phi[ej],mytree.electrons_e[ej])\n",
    "                h_mass_el.Fill((e1+e2).M())\n",
    "\n",
    "\n",
    "c1=ROOT.TCanvas(\"masses\")\n",
    "c1.Draw()\n",
    "h_mass_el.Draw()"
   ]
  },
  {
   "cell_type": "code",
   "execution_count": 11,
   "metadata": {},
   "outputs": [],
   "source": [
    "#Let's take a step further - a bit less monke\n",
    "\n",
    "#1 Classe \"particella\"\n",
    "class particle:\n",
    "    def __init__(self, pt,eta,phi,e,charge,flavor):\n",
    "        self.pt=pt\n",
    "        self.eta=eta\n",
    "        self.phi=phi\n",
    "        self.e=e\n",
    "        self.charge=charge\n",
    "        self.flavor=flavor\n",
    "        self.p4 = ROOT.TLorentzVector()\n",
    "        self.p4.SetPtEtaPhiE(pt,eta,phi,e)\n",
    "        \n",
    "#2 Metodo per estrarla:    \n",
    "def get_particle(tree=mytree,var=\"muontracks\",index=0):\n",
    "    flav_dict={\"muontracks\":13,\"electrons\":11}\n",
    "    p = particle(getattr(tree,var+\"_pt\")[index],#getattr chiama dall'esterno un attributo con il nome preso come stringa\n",
    "                getattr(tree,var+\"_eta\")[index],\n",
    "                getattr(tree,var+\"_phi\")[index],\n",
    "                getattr(tree,var+\"_e\")[index],\n",
    "                getattr(tree,var+\"_charge\")[index] if hasattr(tree,var+\"_charge\") else 0,#nota: questo per i jet fallirà se non faccio qualcosa!\n",
    "                -1*getattr(tree,var+\"_charge\")[index]*(flav_dict[var]) if hasattr(tree,var+\"_charge\") else 0)\n",
    "    return p\n",
    "\n",
    "def get_collection(tree=mytree,var=\"muontracks\"):\n",
    "    particles=[get_particle(tree,var,i) for i in range(getattr(tree,var+\"_size\"))]\n",
    "    return particles"
   ]
  },
  {
   "cell_type": "code",
   "execution_count": 12,
   "metadata": {},
   "outputs": [
    {
     "data": {
      "image/png": "[encoded data removed]",
      "text/plain": [
       "<IPython.core.display.Image object>"
      ]
     },
     "metadata": {},
     "output_type": "display_data"
    }
   ],
   "source": [
    "are_os = lambda x,y: x.charge*y.charge<0 #Uso lambda per vedere se sono segno opposto (opposite sign)\n",
    "are_ss = lambda x,y: x.charge*y.charge>0 # o same sign (ss) -> quest'ultimo è ridondante in realtà!\n",
    "\n",
    "h_mass_mu.Reset(\"ICES\")\n",
    "\n",
    "h_mass_mu_ss=h_mass_mu.Clone(\"h_mass_mu_os\")\n",
    "\n",
    "\n",
    "for i in range(mytree.GetEntries()):\n",
    "#for i in range(100):\n",
    "    mytree.GetEntry(i)\n",
    "    muons=get_collection(mytree,\"muontracks\")\n",
    "    electrons=get_collection(mytree,\"electrons\")\n",
    "    jets=get_collection(mytree,\"jets\")\n",
    "   \n",
    "    for mi in range(len(muons)):\n",
    "        for mj in range(mi):\n",
    "            if(are_os(muons[mi],muons[mj])):\n",
    "                h_mass_mu.Fill((muons[mi].p4+muons[mj].p4).M())\n",
    "            else:\n",
    "                h_mass_mu_ss.Fill((muons[mi].p4+muons[mj].p4).M())\n",
    "            \n",
    "c1.Draw()\n",
    "h_mass_mu.Draw()"
   ]
  },
  {
   "cell_type": "code",
   "execution_count": 13,
   "metadata": {},
   "outputs": [
    {
     "data": {
      "text/plain": [
       "<cppyy.gbl.TFitResultPtr object at 0x9065be0>"
      ]
     },
     "execution_count": 13,
     "metadata": {},
     "output_type": "execute_result"
    },
    {
     "name": "stdout",
     "output_type": "stream",
     "text": [
      " FCN=56.4327 FROM MIGRAD    STATUS=CONVERGED      60 CALLS          61 TOTAL\n",
      "                     EDM=1.09224e-08    STRATEGY= 1      ERROR MATRIX ACCURATE \n",
      "  EXT PARAMETER                                   STEP         FIRST   \n",
      "  NO.   NAME      VALUE            ERROR          SIZE      DERIVATIVE \n",
      "   1  p0           2.42402e+03   1.26258e+02   3.40538e-01  -1.17196e-06\n",
      "   2  p1           1.25200e+01   5.50627e-01   1.48541e-03  -3.67440e-04\n"
     ]
    },
    {
     "data": {
      "image/png": "[encoded data removed]",
      "text/plain": [
       "<IPython.core.display.Image object>"
      ]
     },
     "metadata": {},
     "output_type": "display_data"
    }
   ],
   "source": [
    "c1.Draw()\n",
    "h_mass_mu_ss.SetLineColor(ROOT.kRed)\n",
    "h_mass_mu_ss.Draw(\"same\")\n",
    "c1.SetLogy()\n",
    "\n",
    "m_min_fit=10\n",
    "bkg = ROOT.TF1(\"expo_bkg_1\",\"[0]/[1]*exp(-x/[1])\",m_min_fit,m_max)\n",
    "bkg.SetParameters(1000,20)\n",
    "h_mass_mu_ss.Fit(bkg,\"SR\")"
   ]
  },
  {
   "cell_type": "code",
   "execution_count": 14,
   "metadata": {},
   "outputs": [
    {
     "name": "stdout",
     "output_type": "stream",
     "text": [
      " FCN=118.32 FROM MIGRAD    STATUS=FAILED        374 CALLS         375 TOTAL\n",
      "                     EDM=671.546    STRATEGY= 1  ERROR MATRIX UNCERTAINTY 100.0 per cent\n",
      "  EXT PARAMETER                APPROXIMATE        STEP         FIRST   \n",
      "  NO.   NAME      VALUE            ERROR          SIZE      DERIVATIVE \n",
      "   1  p0           7.73782e+03   1.03365e+04   0.00000e+00  -1.06909e-02\n",
      "   2  p1           6.09177e+02   9.69221e+00  -0.00000e+00   3.18416e-01\n",
      "   3  p2          -9.35469e+01   1.24826e+03  -0.00000e+00   1.99115e-01\n",
      "   4  p3           3.47281e+00   1.25643e+03   0.00000e+00  -2.49004e+01\n",
      "   5  p4          -2.37550e-02   1.25644e+03  -0.00000e+00   2.58721e+02\n"
     ]
    },
    {
     "name": "stderr",
     "output_type": "stream",
     "text": [
      "Warning in <Fit>: Abnormal termination of minimization.\n"
     ]
    },
    {
     "data": {
      "image/png": "[encoded data removed]",
      "text/plain": [
       "<IPython.core.display.Image object>"
      ]
     },
     "metadata": {},
     "output_type": "display_data"
    }
   ],
   "source": [
    "#Forse si può migliorare un po'...\n",
    "m_min_fit= 10\n",
    "bkg2 = ROOT.TF1(\"expo_bkg_2\",\"[0]/[1]*exp(-([2]*x+[3]*x*x+[4]*x*x*x)/[1])\",m_min_fit,m_max)\n",
    "bkg2.SetParameters(1000,20,1,1,0.1)\n",
    "\n",
    "h_mass_mu_ss.Fit(bkg2,\"SR\")\n",
    "c1.Draw()"
   ]
  },
  {
   "cell_type": "code",
   "execution_count": 15,
   "metadata": {},
   "outputs": [
    {
     "data": {
      "text/plain": [
       "<cppyy.gbl.TFitResultPtr object at 0x9272c30>"
      ]
     },
     "execution_count": 15,
     "metadata": {},
     "output_type": "execute_result"
    },
    {
     "name": "stdout",
     "output_type": "stream",
     "text": [
      " FCN=152.249 FROM MIGRAD    STATUS=CONVERGED    1821 CALLS        1822 TOTAL\n",
      "                     EDM=4.57301e-08    STRATEGY= 1  ERROR MATRIX UNCERTAINTY   1.5 per cent\n",
      "  EXT PARAMETER                                   STEP         FIRST   \n",
      "  NO.   NAME      VALUE            ERROR          SIZE      DERIVATIVE \n",
      "   1  p0           1.22483e+04   5.53179e+02   2.05949e-01   4.44772e-07\n",
      "   2  p1           1.54681e+01   2.99394e+00   1.43564e-03   9.62449e-04\n",
      "   3  p2           2.29531e+03   6.92878e+01   7.34236e-03  -3.38575e-07\n",
      "   4  p3           9.07868e+01   7.61438e-02   2.88454e-05  -3.51178e-03\n",
      "   5  p4           2.94280e+00   1.00271e-01  -1.06051e-05  -9.73972e-04\n",
      "   6  p5           3.37862e+00   4.48361e-01   2.49102e-04  -1.80283e-02\n",
      "   7  p6          -5.42789e-02   6.65980e-03  -4.33421e-06  -1.07638e+00\n",
      "   8  p7           2.77962e-04   3.39204e-05   2.43422e-08  -6.46821e+01\n"
     ]
    },
    {
     "data": {
      "image/png": "[encoded data removed]",
      "text/plain": [
       "<IPython.core.display.Image object>"
      ]
     },
     "metadata": {},
     "output_type": "display_data"
    }
   ],
   "source": [
    "sigbkg = ROOT.TF1(\"sig_bkg\",\"[0]/[1]*exp(-([5]*x+[6]*x*x+[7]*x*x*x)/[1])+[2]*1/([4]*TMath::Sqrt(2*TMath::Pi()))*exp(-(x-[3])*(x-[3])/(TMath::Sqrt(2)*[4]*[4]))\",m_min_fit,m_max)\n",
    "sigbkg.SetParameters(1000,20,1000,90,10,1,1,0.1)\n",
    "c1.Draw()\n",
    "h_mass_mu.Fit(sigbkg,\"SR\")\n"
   ]
  },
  {
   "cell_type": "markdown",
   "metadata": {},
   "source": [
    "# Esercizio #1 \n",
    "\n",
    "Proviamo a stimare il numero di eventi sotto il picco con il fit in due modi diversi : fit s+b, fit b.\n",
    "\n",
    "# Esercizio #2 \n",
    "\n",
    "\n",
    "Confrontiamo la nostra definizione di massa con la definizione "
   ]
  },
  {
   "cell_type": "markdown",
   "metadata": {},
   "source": [
    "# Esercizio #3\n",
    "\n",
    "\n",
    "Definita la nostra selezione (es. massa >40 GeV) proviamo a studiare le altre features della muontrack:\n",
    "\n",
    "chi2 -> chi2 del fit alla traccia\n",
    "dz -> parametro di impatto lungo Z\n",
    "dB -> parametro di impatto nel piano xy\n",
    "isodeposits -> depositi calorimetrici intorno al muone"
   ]
  },
  {
   "cell_type": "code",
   "execution_count": 17,
   "metadata": {
    "scrolled": false
   },
   "outputs": [
    {
     "data": {
      "text/plain": [
       "63"
      ]
     },
     "execution_count": 17,
     "metadata": {},
     "output_type": "execute_result"
    },
    {
     "name": "stdout",
     "output_type": "stream",
     "text": [
      "***********************************************************************\n",
      "*    Row   * Instance * muontrack * muontrack * muontrack * muontrack *\n",
      "***********************************************************************\n",
      "*        0 *        0 *           *           *           *           *\n",
      "*        1 *        0 * 0.9622507 * 0.0053055 * 0.0011121 *         0 *\n",
      "*        1 *        1 * 0.5698273 * 0.0027536 * 0.0005146 * 1.1091781 *\n",
      "*        2 *        0 *           *           *           *           *\n",
      "*        3 *        0 *           *           *           *           *\n",
      "*        4 *        0 *           *           *           *           *\n",
      "*        5 *        0 *           *           *           *           *\n",
      "*        6 *        0 * 1.0778735 * 0.0018064 * 0.0005451 *         0 *\n",
      "*        6 *        1 * 1.3695157 * 0.0024244 * 0.0005252 *         0 *\n",
      "*        7 *        0 *           *           *           *           *\n",
      "*        8 *        0 *           *           *           *           *\n",
      "*        9 *        0 *           *           *           *           *\n",
      "*       10 *        0 * 0.8109886 * 0.0002850 * 1.602e-05 *         0 *\n",
      "*       11 *        0 * 0.8922297 * 0.0005853 * 0.0001832 *         0 *\n",
      "*       11 *        1 * 0.9407998 * 0.0006917 * 0.0002760 *         0 *\n",
      "*       11 *        2 * 1.0535985 * 4.2983727 * 0.0067640 * 0.2799762 *\n",
      "*       12 *        0 * 0.8703871 * 0.0154459 * 0.0007683 *         0 *\n",
      "*       12 *        1 * 0.7378414 * 0.0007822 * 0.0021693 * 2.0289394 *\n",
      "*       13 *        0 *           *           *           *           *\n",
      "*       14 *        0 *           *           *           *           *\n",
      "*       15 *        0 * 0.6553722 * 0.0066131 * 0.0099177 *         0 *\n",
      "*       15 *        1 * 0.5348785 * 0.0009406 * 0.0049567 * 0.5775989 *\n",
      "*       16 *        0 * 1.3026726 * 0.0006472 * 0.0008206 *         0 *\n",
      "*       17 *        0 * 0.6692450 * 0.0002652 * 0.0002830 * 1.1482849 *\n",
      "*       17 *        1 * 1.0771887 * 0.0001413 * 0.0001325 *         0 *\n",
      "*       18 *        0 * 0.4545330 * 0.0016579 * 2.933e-05 * 1.8389675 *\n",
      "*       18 *        1 * 0.5321114 * 0.0011515 * 3.153e-05 * 1.3314080 *\n",
      "*       19 *        0 *           *           *           *           *\n",
      "*       20 *        0 *           *           *           *           *\n",
      "*       21 *        0 *           *           *           *           *\n",
      "*       22 *        0 *           *           *           *           *\n",
      "*       23 *        0 *           *           *           *           *\n",
      "*       24 *        0 *           *           *           *           *\n",
      "*       25 *        0 * 0.7464061 * 0.0003021 * 0.0010602 * 0.5614906 *\n",
      "*       26 *        0 * 0.8566299 * 0.0019752 * 0.0003570 *         0 *\n",
      "*       27 *        0 *           *           *           *           *\n",
      "*       28 *        0 *           *           *           *           *\n",
      "*       29 *        0 *           *           *           *           *\n",
      "*       30 *        0 * 1.2670999 * 0.0027745 * 0.0209851 * 47.795517 *\n",
      "*       31 *        0 *           *           *           *           *\n",
      "*       32 *        0 *           *           *           *           *\n",
      "*       33 *        0 *           *           *           *           *\n",
      "*       34 *        0 * 1.1966797 * 0.0159071 * 0.0011769 *         0 *\n",
      "*       34 *        1 * 1.3128494 * 0.0004868 * 0.0003640 *         0 *\n",
      "*       35 *        0 *           *           *           *           *\n",
      "*       36 *        0 *           *           *           *           *\n",
      "*       37 *        0 *           *           *           *           *\n",
      "*       38 *        0 * 0.7016928 * 0.0483149 * 0.0154103 *         0 *\n",
      "*       39 *        0 *           *           *           *           *\n",
      "*       40 *        0 *           *           *           *           *\n",
      "*       41 *        0 *           *           *           *           *\n",
      "*       42 *        0 *           *           *           *           *\n",
      "*       43 *        0 *           *           *           *           *\n",
      "*       44 *        0 *           *           *           *           *\n",
      "*       45 *        0 * 0.9140452 * 0.0017847 * 0.0007011 *         0 *\n",
      "*       45 *        1 * 0.8632072 * 0.0134275 * 0.0041425 * 0.6668143 *\n",
      "*       45 *        2 * 0.6334922 * 23.876163 * 5.2173652 * 1.0585560 *\n",
      "*       46 *        0 * 0.4592626 * 1.9595001 * 0.0154868 *         0 *\n",
      "*       47 *        0 *           *           *           *           *\n",
      "*       48 *        0 * 0.7132408 * 0.0006769 * 0.0007257 *         0 *\n",
      "*       48 *        1 * 0.9856585 * 0.0023020 * 0.0022611 *         0 *\n",
      "*       48 *        2 * 0.8489027 * 1.1374907 * 0.0029446 *         0 *\n",
      "*       49 *        0 *           *           *           *           *\n",
      "***********************************************************************\n"
     ]
    },
    {
     "name": "stderr",
     "output_type": "stream",
     "text": [
      "Type <CR> to continue or q to quit ==> Type <CR> to continue or q to quit ==> "
     ]
    }
   ],
   "source": [
    "mytree.Scan(\"muontracks_chi2:muontracks_dz:muontracks_dB:muontracks_isoDeposits\",\"\",\"\",50)"
   ]
  },
  {
   "cell_type": "markdown",
   "metadata": {},
   "source": [
    "# Esercizio #4:\n",
    "\n",
    "Proviamo su questo campione \"mixed\" di dati"
   ]
  },
  {
   "cell_type": "code",
   "execution_count": 13,
   "metadata": {},
   "outputs": [],
   "source": [
    "dataFile= ROOT.TFile(\"Data.root\")\n",
    "#Nota: io l'ho scaricato in locale - potete fare lo stesso o usare il wget as you prefer :)"
   ]
  },
  {
   "cell_type": "code",
   "execution_count": 19,
   "metadata": {},
   "outputs": [
    {
     "ename": "NameError",
     "evalue": "name 'dataFile' is not defined",
     "output_type": "error",
     "traceback": [
      "\u001b[0;31m---------------------------------------------------------------------------\u001b[0m",
      "\u001b[0;31mNameError\u001b[0m                                 Traceback (most recent call last)",
      "\u001b[0;32m<ipython-input-19-ce9d4952162a>\u001b[0m in \u001b[0;36m<module>\u001b[0;34m\u001b[0m\n\u001b[0;32m----> 1\u001b[0;31m \u001b[0mdatatree\u001b[0m\u001b[0;34m=\u001b[0m \u001b[0mdataFile\u001b[0m\u001b[0;34m.\u001b[0m\u001b[0mtrees\u001b[0m\u001b[0;34m.\u001b[0m\u001b[0mevents\u001b[0m\u001b[0;34m\u001b[0m\u001b[0;34m\u001b[0m\u001b[0m\n\u001b[0m\u001b[1;32m      2\u001b[0m \u001b[0mdatatree\u001b[0m\u001b[0;34m.\u001b[0m\u001b[0mGetEntries\u001b[0m\u001b[0;34m(\u001b[0m\u001b[0;34m)\u001b[0m\u001b[0;34m\u001b[0m\u001b[0;34m\u001b[0m\u001b[0m\n",
      "\u001b[0;31mNameError\u001b[0m: name 'dataFile' is not defined"
     ]
    }
   ],
   "source": [
    "datatree= dataFile.trees.events\n",
    "datatree.GetEntries()"
   ]
  },
  {
   "cell_type": "code",
   "execution_count": 15,
   "metadata": {},
   "outputs": [],
   "source": [
    "h_data_mass_mu_os=ROOT.TH1F(\"h_data_mu_os\",\"Mass of muon pair, data\",1500,m_min,m_max)\n",
    "h_data_mass_mu_ss=h_data_mass_mu_os.Clone(\"h_data_mu_ss\")\n",
    "\n",
    "for i in range(datatree.GetEntries()):\n",
    "#for i in range(100):\n",
    "    datatree.GetEntry(i)\n",
    "    muons=get_collection(datatree,\"muontracks\")\n",
    "    electrons=get_collection(datatree,\"electrons\")\n",
    "    jets=get_collection(datatree,\"jets\")\n",
    "   \n",
    "    for mi in range(len(muons)):\n",
    "        for mj in range(mi):\n",
    "            if(are_os(muons[mi],muons[mj])):\n",
    "                h_data_mass_mu_os.Fill((muons[mi].p4+muons[mj].p4).M())\n",
    "            else:\n",
    "                h_data_mass_mu_ss.Fill((muons[mi].p4+muons[mj].p4).M())\n"
   ]
  },
  {
   "cell_type": "code",
   "execution_count": 16,
   "metadata": {},
   "outputs": [
    {
     "data": {
      "image/png": "[encoded data removed]",
      "text/plain": [
       "<IPython.core.display.Image object>"
      ]
     },
     "metadata": {},
     "output_type": "display_data"
    }
   ],
   "source": [
    "c1.Draw()\n",
    "h_data_mass_mu_os.Draw()\n",
    "h_data_mass_mu_ss.SetLineColor(ROOT.kRed)\n",
    "h_data_mass_mu_ss.Draw(\"same\")\n",
    "h_data_mass_mu_os.GetXaxis().SetRangeUser(0,140)\n",
    "#h_data_mass_mu_os.Rebin(2)\n",
    "#h_data_mass_mu_ss.Rebin(2)\n",
    "c1.Update()\n",
    "\n"
   ]
  },
  {
   "cell_type": "code",
   "execution_count": null,
   "metadata": {},
   "outputs": [],
   "source": []
  },
  {
   "cell_type": "code",
   "execution_count": null,
   "metadata": {},
   "outputs": [],
   "source": []
  }
 ],
 "metadata": {
  "kernelspec": {
   "display_name": "Python 3",
   "language": "python",
   "name": "python3"
  },
  "language_info": {
   "codemirror_mode": {
    "name": "ipython",
    "version": 3
   },
   "file_extension": ".py",
   "mimetype": "text/x-python",
   "name": "python",
   "nbconvert_exporter": "python",
   "pygments_lexer": "ipython3",
   "version": "3.8.10"
  }
 },
 "nbformat": 4,
 "nbformat_minor": 5
}
