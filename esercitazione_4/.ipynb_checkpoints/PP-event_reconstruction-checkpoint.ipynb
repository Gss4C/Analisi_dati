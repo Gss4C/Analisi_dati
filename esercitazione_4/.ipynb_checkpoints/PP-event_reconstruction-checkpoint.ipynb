{
 "cells": [
  {
   "cell_type": "markdown",
   "metadata": {},
   "source": [
    "# Se voglio ricostruire una coppia di elettroni di carica opposta come faccio?\n"
   ]
  },
  {
   "cell_type": "code",
   "execution_count": 2,
   "metadata": {
    "scrolled": false
   },
   "outputs": [
    {
     "name": "stdout",
     "output_type": "stream",
     "text": [
      "il File c'è già! Non sarà riscaricato.\n",
      "0\n",
      "0\n",
      "-rwxrwxrwx 1 jo jo 1.5M Sep  5 12:02 TTDilep.root\n",
      "-rwxrwxrwx 1 jo jo 1.7M Sep  5 12:03 DYJets.root\n",
      "-rwxrwxrwx 1 jo jo  49M Sep  5 12:03 Data.root\n",
      "Welcome to JupyROOT 6.26/04\n",
      "None\n",
      "None\n",
      "Collection name='THashList', class='THashList', size=1\n",
      " TKey Name = events, Title = events, Cycle = 1\n",
      "******************************************************************************\n",
      "*Tree    :events    : events                                                 *\n",
      "*Entries :    10000 : Total =         5662329 bytes  File  Size =    1718518 *\n",
      "*        :          : Tree compression factor =   3.29                       *\n",
      "******************************************************************************\n",
      "*Br    0 :muontracks_size : muontracks_size/I                                *\n",
      "*Entries :    10000 : Total  Size=      40693 bytes  File Size  =       6335 *\n",
      "*Baskets :        2 : Basket Size=      32000 bytes  Compression=   6.34     *\n",
      "*............................................................................*\n",
      "*Br    1 :muontracks_pt : vector<float>                                      *\n",
      "*Entries :    10000 : Total  Size=     175163 bytes  File Size  =      70796 *\n",
      "*Baskets :        7 : Basket Size=      32000 bytes  Compression=   2.47     *\n",
      "*............................................................................*\n",
      "*Br    2 :muontracks_eta : vector<float>                                     *\n",
      "*Entries :    10000 : Total  Size=     175174 bytes  File Size  =      71720 *\n",
      "*Baskets :        7 : Basket Size=      32000 bytes  Compression=   2.44     *\n",
      "*............................................................................*\n",
      "*Br    3 :muontracks_phi : vector<float>                                     *\n",
      "*Entries :    10000 : Total  Size=     175174 bytes  File Size  =      71778 *\n",
      "*Baskets :        7 : Basket Size=      32000 bytes  Compression=   2.43     *\n",
      "*............................................................................*\n",
      "*Br    4 :muontracks_e : vector<float>                                       *\n",
      "*Entries :    10000 : Total  Size=     175152 bytes  File Size  =      70897 *\n",
      "*Baskets :        7 : Basket Size=      32000 bytes  Compression=   2.46     *\n",
      "*............................................................................*\n",
      "*Br    5 :muontracks_charge : vector<float>                                  *\n",
      "*Entries :    10000 : Total  Size=     175207 bytes  File Size  =      38073 *\n",
      "*Baskets :        7 : Basket Size=      32000 bytes  Compression=   4.59     *\n",
      "*............................................................................*\n",
      "*Br    6 :muontracks_chi2 : vector<float>                                    *\n",
      "*Entries :    10000 : Total  Size=     175185 bytes  File Size  =      69201 *\n",
      "*Baskets :        7 : Basket Size=      32000 bytes  Compression=   2.52     *\n",
      "*............................................................................*\n",
      "*Br    7 :muontracks_mctruthmatch : vector<float>                            *\n",
      "*Entries :    10000 : Total  Size=     175273 bytes  File Size  =      32981 *\n",
      "*Baskets :        7 : Basket Size=      32000 bytes  Compression=   5.30     *\n",
      "*............................................................................*\n",
      "*Br    8 :muontracks_minDR : vector<float>                                   *\n",
      "*Entries :    10000 : Total  Size=     175196 bytes  File Size  =      33050 *\n",
      "*Baskets :        7 : Basket Size=      32000 bytes  Compression=   5.28     *\n",
      "*............................................................................*\n",
      "*Br    9 :muontracks_dB : vector<float>                                      *\n",
      "*Entries :    10000 : Total  Size=     175163 bytes  File Size  =      71914 *\n",
      "*Baskets :        7 : Basket Size=      32000 bytes  Compression=   2.43     *\n",
      "*............................................................................*\n",
      "*Br   10 :muontracks_dz : vector<float>                                      *\n",
      "*Entries :    10000 : Total  Size=     175163 bytes  File Size  =      72166 *\n",
      "*Baskets :        7 : Basket Size=      32000 bytes  Compression=   2.42     *\n",
      "*............................................................................*\n",
      "*Br   11 :muontracks_isoDeposits : vector<float>                             *\n",
      "*Entries :    10000 : Total  Size=     175262 bytes  File Size  =      59325 *\n",
      "*Baskets :        7 : Basket Size=      32000 bytes  Compression=   2.94     *\n",
      "*............................................................................*\n",
      "*Br   12 :electrons_size : electrons_size/I                                  *\n",
      "*Entries :    10000 : Total  Size=      40687 bytes  File Size  =       4891 *\n",
      "*Baskets :        2 : Basket Size=      32000 bytes  Compression=   8.21     *\n",
      "*............................................................................*\n",
      "*Br   13 :electrons_pt : vector<float>                                       *\n",
      "*Entries :    10000 : Total  Size=     159452 bytes  File Size  =      50810 *\n",
      "*Baskets :        7 : Basket Size=      32000 bytes  Compression=   3.13     *\n",
      "*............................................................................*\n",
      "*Br   14 :electrons_eta : vector<float>                                      *\n",
      "*Entries :    10000 : Total  Size=     159463 bytes  File Size  =      52148 *\n",
      "*Baskets :        7 : Basket Size=      32000 bytes  Compression=   3.05     *\n",
      "*............................................................................*\n",
      "*Br   15 :electrons_phi : vector<float>                                      *\n",
      "*Entries :    10000 : Total  Size=     159463 bytes  File Size  =      52079 *\n",
      "*Baskets :        7 : Basket Size=      32000 bytes  Compression=   3.05     *\n",
      "*............................................................................*\n",
      "*Br   16 :electrons_e : vector<float>                                        *\n",
      "*Entries :    10000 : Total  Size=     159441 bytes  File Size  =      51165 *\n",
      "*Baskets :        7 : Basket Size=      32000 bytes  Compression=   3.11     *\n",
      "*............................................................................*\n",
      "*Br   17 :electrons_mctruthmatch : vector<float>                             *\n",
      "*Entries :    10000 : Total  Size=     159562 bytes  File Size  =      29561 *\n",
      "*Baskets :        7 : Basket Size=      32000 bytes  Compression=   5.38     *\n",
      "*............................................................................*\n",
      "*Br   18 :electrons_minDR : vector<float>                                    *\n",
      "*Entries :    10000 : Total  Size=     159485 bytes  File Size  =      29325 *\n",
      "*Baskets :        7 : Basket Size=      32000 bytes  Compression=   5.42     *\n",
      "*............................................................................*\n",
      "*Br   19 :met_pt    : vector<float>                                          *\n",
      "*Entries :    10000 : Total  Size=     181074 bytes  File Size  =      65745 *\n",
      "*Baskets :        7 : Basket Size=      32000 bytes  Compression=   2.75     *\n",
      "*............................................................................*\n",
      "*Br   20 :met_phi   : vector<float>                                          *\n",
      "*Entries :    10000 : Total  Size=     181085 bytes  File Size  =      68301 *\n",
      "*Baskets :        7 : Basket Size=      32000 bytes  Compression=   2.64     *\n",
      "*............................................................................*\n",
      "*Br   21 :jets_size : jets_size/I                                            *\n",
      "*Entries :    10000 : Total  Size=      40657 bytes  File Size  =       7285 *\n",
      "*Baskets :        2 : Basket Size=      32000 bytes  Compression=   5.51     *\n",
      "*............................................................................*\n",
      "*Br   22 :jets_pt   : vector<float>                                          *\n",
      "*Entries :    10000 : Total  Size=     215793 bytes  File Size  =     112788 *\n",
      "*Baskets :        8 : Basket Size=      32000 bytes  Compression=   1.91     *\n",
      "*............................................................................*\n",
      "*Br   23 :jets_eta  : vector<float>                                          *\n",
      "*Entries :    10000 : Total  Size=     215805 bytes  File Size  =     117477 *\n",
      "*Baskets :        8 : Basket Size=      32000 bytes  Compression=   1.83     *\n",
      "*............................................................................*\n",
      "*Br   24 :jets_phi  : vector<float>                                          *\n",
      "*Entries :    10000 : Total  Size=     215805 bytes  File Size  =     117423 *\n",
      "*Baskets :        8 : Basket Size=      32000 bytes  Compression=   1.83     *\n",
      "*............................................................................*\n",
      "*Br   25 :jets_e    : vector<float>                                          *\n",
      "*Entries :    10000 : Total  Size=     215781 bytes  File Size  =     114065 *\n",
      "*Baskets :        8 : Basket Size=      32000 bytes  Compression=   1.89     *\n",
      "*............................................................................*\n",
      "*Br   26 :muontracks_c : vector<float>                                       *\n",
      "*Entries :    10000 : Total  Size=     141051 bytes  File Size  =      15708 *\n",
      "*Baskets :        6 : Basket Size=      32000 bytes  Compression=   8.95     *\n",
      "*............................................................................*\n",
      "*Br   27 :genlep_pt : vector<float>                                          *\n",
      "*Entries :    10000 : Total  Size=     141021 bytes  File Size  =      15684 *\n",
      "*Baskets :        6 : Basket Size=      32000 bytes  Compression=   8.96     *\n",
      "*............................................................................*\n",
      "*Br   28 :genlep_eta : vector<float>                                         *\n",
      "*Entries :    10000 : Total  Size=     141031 bytes  File Size  =      15684 *\n",
      "*Baskets :        6 : Basket Size=      32000 bytes  Compression=   8.96     *\n",
      "*............................................................................*\n",
      "*Br   29 :genlep_phi : vector<float>                                         *\n",
      "*Entries :    10000 : Total  Size=     141031 bytes  File Size  =      15684 *\n",
      "*Baskets :        6 : Basket Size=      32000 bytes  Compression=   8.96     *\n",
      "*............................................................................*\n",
      "*Br   30 :genlep_e  : vector<float>                                          *\n",
      "*Entries :    10000 : Total  Size=     141011 bytes  File Size  =      15672 *\n",
      "*Baskets :        6 : Basket Size=      32000 bytes  Compression=   8.97     *\n",
      "*............................................................................*\n",
      "*Br   31 :genlep_id : vector<float>                                          *\n",
      "*Entries :    10000 : Total  Size=     141021 bytes  File Size  =      15684 *\n",
      "*Baskets :        6 : Basket Size=      32000 bytes  Compression=   8.96     *\n",
      "*............................................................................*\n",
      "*Br   32 :electrons_charge : vector<float>                                   *\n",
      "*Entries :    10000 : Total  Size=     159496 bytes  File Size  =      31408 *\n",
      "*Baskets :        7 : Basket Size=      32000 bytes  Compression=   5.06     *\n",
      "*............................................................................*\n",
      "*Br   33 :electrons_dB : vector<float>                                       *\n",
      "*Entries :    10000 : Total  Size=     141051 bytes  File Size  =      15708 *\n",
      "*Baskets :        6 : Basket Size=      32000 bytes  Compression=   8.95     *\n",
      "*............................................................................*\n",
      "*Br   34 :electrons_dz : vector<float>                                       *\n",
      "*Entries :    10000 : Total  Size=     141051 bytes  File Size  =      15708 *\n",
      "*Baskets :        6 : Basket Size=      32000 bytes  Compression=   8.95     *\n",
      "*............................................................................*\n",
      "*Br   35 :electrons_isoDeposits : vector<float>                              *\n",
      "*Entries :    10000 : Total  Size=     141141 bytes  File Size  =      15722 *\n",
      "*Baskets :        6 : Basket Size=      32000 bytes  Compression=   8.94     *\n",
      "*............................................................................*\n",
      "0\n",
      "2\n",
      "3\n"
     ]
    },
    {
     "name": "stdout",
     "output_type": "stream",
     "text": [
      "array('i', [0])\n",
      "array('i', [2])\n"
     ]
    },
    {
     "data": {
      "image/png": "[encoded data removed]",
      "text/plain": [
       "<IPython.core.display.Image object>"
      ]
     },
     "metadata": {},
     "output_type": "display_data"
    },
    {
     "data": {
      "image/png": "[encoded data removed]",
      "text/plain": [
       "<IPython.core.display.Image object>"
      ]
     },
     "metadata": {},
     "output_type": "display_data"
    },
    {
     "name": "stdout",
     "output_type": "stream",
     "text": [
      "***********************************************\n",
      "*    Row   * Instance * electrons * electrons *\n",
      "***********************************************\n",
      "*        0 *        0 *         0 *           *\n",
      "*        1 *        0 *         0 *           *\n",
      "*        2 *        0 *         0 *           *\n",
      "*        3 *        0 *         2 *         1 *\n",
      "*        3 *        1 *         2 *        -1 *\n",
      "*        4 *        0 *         2 *        -1 *\n",
      "*        4 *        1 *         2 *         1 *\n",
      "*        5 *        0 *         1 *        -1 *\n",
      "*        6 *        0 *         0 *           *\n",
      "*        7 *        0 *         1 *        -1 *\n",
      "*        8 *        0 *         0 *           *\n",
      "*        9 *        0 *         0 *           *\n",
      "*       10 *        0 *         0 *           *\n",
      "*       11 *        0 *         0 *           *\n",
      "*       12 *        0 *         0 *           *\n",
      "*       13 *        0 *         0 *           *\n",
      "*       14 *        0 *         2 *         1 *\n",
      "*       14 *        1 *         2 *        -1 *\n",
      "*       15 *        0 *         0 *           *\n",
      "*       16 *        0 *         0 *           *\n",
      "*       17 *        0 *         0 *           *\n",
      "*       18 *        0 *         0 *           *\n",
      "*       19 *        0 *         0 *           *\n",
      "*       20 *        0 *         2 *         1 *\n",
      "*       20 *        1 *         2 *        -1 *\n",
      "*       21 *        0 *         0 *           *\n",
      "*       22 *        0 *         0 *           *\n",
      "*       23 *        0 *         1 *        -1 *\n",
      "*       24 *        0 *         0 *           *\n",
      "*       25 *        0 *         0 *           *\n",
      "*       26 *        0 *         0 *           *\n",
      "*       27 *        0 *         2 *        -1 *\n",
      "*       27 *        1 *         2 *         1 *\n",
      "*       28 *        0 *         2 *        -1 *\n",
      "*       28 *        1 *         2 *         1 *\n",
      "*       29 *        0 *         2 *         1 *\n",
      "*       29 *        1 *         2 *        -1 *\n",
      "*       30 *        0 *         2 *         1 *\n",
      "*       30 *        1 *         2 *        -1 *\n",
      "*       31 *        0 *         2 *         1 *\n",
      "*       31 *        1 *         2 *        -1 *\n",
      "*       32 *        0 *         0 *           *\n",
      "*       33 *        0 *         2 *        -1 *\n",
      "*       33 *        1 *         2 *         1 *\n",
      "*       34 *        0 *         0 *           *\n",
      "*       35 *        0 *         2 *         1 *\n",
      "*       35 *        1 *         2 *        -1 *\n",
      "*       36 *        0 *         0 *           *\n",
      "*       37 *        0 *         1 *         1 *\n",
      "*       38 *        0 *         2 *        -1 *\n",
      "*       38 *        1 *         2 *         1 *\n",
      "*       39 *        0 *         0 *           *\n",
      "*       40 *        0 *         0 *           *\n",
      "*       41 *        0 *         0 *           *\n",
      "*       42 *        0 *         0 *           *\n",
      "*       43 *        0 *         0 *           *\n",
      "*       44 *        0 *         2 *        -1 *\n",
      "*       44 *        1 *         2 *         1 *\n",
      "*       45 *        0 *         0 *           *\n",
      "*       46 *        0 *         0 *           *\n",
      "*       47 *        0 *         1 *        -1 *\n",
      "*       48 *        0 *         0 *           *\n",
      "*       49 *        0 *         1 *        -1 *\n",
      "***********************************************\n"
     ]
    },
    {
     "name": "stderr",
     "output_type": "stream",
     "text": [
      "Type <CR> to continue or q to quit ==> Type <CR> to continue or q to quit ==> Warning in <TFile::Append>: Replacing existing TH1: met_pt_histo (Potential memory leak).\n"
     ]
    },
    {
     "data": {
      "image/png": "[encoded data removed]",
      "text/plain": [
       "<IPython.core.display.Image object>"
      ]
     },
     "metadata": {},
     "output_type": "display_data"
    },
    {
     "name": "stderr",
     "output_type": "stream",
     "text": [
      "Warning in <TFile::Append>: Replacing existing TH1: met_pt_histo (Potential memory leak).\n",
      "Warning in <TFile::Append>: Replacing existing TH1: met_pt_histo (Potential memory leak).\n"
     ]
    }
   ],
   "source": [
    "#Prima cosa: giriamo il notebook precedente \n",
    "%run ../Esercitazione3/trees_and_ntuples.ipynb"
   ]
  },
  {
   "cell_type": "code",
   "execution_count": 2,
   "metadata": {},
   "outputs": [
    {
     "data": {
      "text/plain": [
       "10000"
      ]
     },
     "execution_count": 2,
     "metadata": {},
     "output_type": "execute_result"
    }
   ],
   "source": [
    "#Non solo l'output, anche il tree è presente!\n",
    "mytree\n",
    "mytree.GetEntries()"
   ]
  },
  {
   "cell_type": "markdown",
   "metadata": {},
   "source": [
    "## Ora facciamo un loop sugli eventi!"
   ]
  },
  {
   "cell_type": "code",
   "execution_count": 3,
   "metadata": {},
   "outputs": [
    {
     "name": "stdout",
     "output_type": "stream",
     "text": [
      "******************************************************************************\n",
      "*Tree    :events    : events                                                 *\n",
      "*Entries :    10000 : Total =         6072458 bytes  File  Size =    2146782 *\n",
      "*        :          : Tree compression factor =   2.82                       *\n",
      "******************************************************************************\n",
      "*Br    0 :jets_size : jets_size/I                                            *\n",
      "*Entries :    10000 : Total  Size=      40665 bytes  File Size  =       7268 *\n",
      "*Baskets :        2 : Basket Size=      32000 bytes  Compression=   5.53     *\n",
      "*............................................................................*\n",
      "*Br    1 :jets_pt   : vector<float>                                          *\n",
      "*Entries :    10000 : Total  Size=     215929 bytes  File Size  =     112912 *\n",
      "*Baskets :        8 : Basket Size=      32000 bytes  Compression=   1.91     *\n",
      "*............................................................................*\n",
      "*Br    2 :jets_eta  : vector<float>                                          *\n",
      "*Entries :    10000 : Total  Size=     215941 bytes  File Size  =     117593 *\n",
      "*Baskets :        8 : Basket Size=      32000 bytes  Compression=   1.83     *\n",
      "*............................................................................*\n",
      "*Br    3 :jets_phi  : vector<float>                                          *\n",
      "*Entries :    10000 : Total  Size=     215941 bytes  File Size  =     117526 *\n",
      "*Baskets :        8 : Basket Size=      32000 bytes  Compression=   1.83     *\n",
      "*............................................................................*\n",
      "*Br    4 :jets_e    : vector<float>                                          *\n",
      "*Entries :    10000 : Total  Size=     215917 bytes  File Size  =     114182 *\n",
      "*Baskets :        8 : Basket Size=      32000 bytes  Compression=   1.89     *\n",
      "*............................................................................*\n"
     ]
    }
   ],
   "source": [
    "\n",
    "mytree.Print(\"jets*\")"
   ]
  },
  {
   "cell_type": "code",
   "execution_count": 4,
   "metadata": {
    "scrolled": true
   },
   "outputs": [
    {
     "name": "stdout",
     "output_type": "stream",
     "text": [
      "event # 0 n jets  2  pt:  { 56.3023f, 55.8997f }\n",
      "leading jet pt 56.30229949951172  mass?  5.134994026979267\n",
      "event # 1000 n jets  3  pt:  { 30.0213f, 25.7592f, 22.6790f }\n",
      "leading jet pt 30.02133560180664  mass?  4.819653273611887\n",
      "event # 2000 n jets  2  pt:  { 45.6171f, 35.1373f }\n",
      "leading jet pt 45.61709213256836  mass?  4.819771473086346\n",
      "event # 3000 n jets  2  pt:  { 22.3066f, 20.7958f }\n",
      "leading jet pt 22.306556701660156  mass?  6.789703805725764\n",
      "event # 4000 n jets  3  pt:  { 65.5453f, 39.3958f, 35.9018f }\n",
      "leading jet pt 65.54531860351562  mass?  12.201516049901832\n",
      "event # 5000 n jets  2  pt:  { 58.5544f, 49.1629f }\n",
      "leading jet pt 58.5544319152832  mass?  12.885972862458438\n",
      "event # 6000 n jets  3  pt:  { 58.3725f, 37.2806f, 23.7087f }\n",
      "leading jet pt 58.37245178222656  mass?  4.705065603508283\n",
      "event # 7000 n jets  1  pt:  { 32.0088f }\n",
      "leading jet pt 32.00883102416992  mass?  3.7364037975131237\n",
      "event # 8000 n jets  3  pt:  { 38.3194f, 34.4998f, 20.6476f }\n",
      "leading jet pt 38.319358825683594  mass?  4.917433864190214\n",
      "event # 9000 n jets  2  pt:  { 49.2051f, 46.0630f }\n",
      "leading jet pt 49.20511245727539  mass?  6.629038826031875\n"
     ]
    }
   ],
   "source": [
    "h_jet_mass = ROOT.TH1F(\"Jets_mass_0\",\"Leading jet mass\",100,0,100) \n",
    "for i in range (mytree.GetEntries()):\n",
    "    mytree.GetEntry(i)\n",
    "    #Ogni 100 eventi stampo a schermo il vettore dei jet!\n",
    "    if(i%1000==0):print( \"event #\", i, \"n jets \",mytree.jets_size, \" pt: \",mytree.jets_pt)\n",
    "    #Se c'è almeno 1 jet: stampo il \n",
    "\n",
    "    if(mytree.jets_size):\n",
    "            jet_0 =ROOT.TLorentzVector()\n",
    "            jet_0.SetPtEtaPhiE(mytree.jets_pt[0],mytree.jets_eta[0],mytree.jets_phi[0],mytree.jets_e[0])\n",
    "            if(i%1000==0):print(\"leading jet pt\",mytree.jets_pt[0],\" mass? \",jet_0.M())\n",
    "            h_jet_mass.Fill(jet_0.M())"
   ]
  },
  {
   "cell_type": "code",
   "execution_count": 5,
   "metadata": {
    "scrolled": false
   },
   "outputs": [
    {
     "data": {
      "image/png": "[encoded data removed]",
      "text/plain": [
       "<IPython.core.display.Image object>"
      ]
     },
     "metadata": {},
     "output_type": "display_data"
    }
   ],
   "source": [
    "#Diseg\n",
    "c1= ROOT.TCanvas()\n",
    "c1.Draw()\n",
    "h_jet_mass.Draw()\n",
    "\n",
    "\n",
    "\n"
   ]
  },
  {
   "cell_type": "markdown",
   "metadata": {},
   "source": [
    "## Esercizio 1:\n",
    "\n",
    "Proviamo a fare la somma vettoriale  di due elettroni di carica opposta e disegnarne la massa.\n",
    "Facciamo lo stesso coi muoni.\n",
    "\n",
    "### 1.1 Che forma ha questa distribuzione\n",
    "\n",
    "### 1.2 Quante coppie avrò per evento?\n",
    "\n",
    "\n",
    "## Esercizio 2: \n",
    "\n",
    "Proviamo a fittare la distribuzione che viene fuori, ad es. con gauss + expo, o... altro?\n"
   ]
  },
  {
   "cell_type": "code",
   "execution_count": 6,
   "metadata": {},
   "outputs": [
    {
     "data": {
      "image/png": "[encoded data removed]",
      "text/plain": [
       "<IPython.core.display.Image object>"
      ]
     },
     "metadata": {},
     "output_type": "display_data"
    }
   ],
   "source": [
    "m_min=0\n",
    "m_max=150\n",
    "h_mass_el=ROOT.TH1F(\"h_mass_el\",\"Mass of electron pair\",100,m_min,m_max)\n",
    "h_mass_mu=ROOT.TH1F(\"h_mass_mu\",\"Mass of muon pair\",100,m_min,m_max)\n",
    "\n",
    "\n",
    "\n",
    "for i in range(mytree.GetEntries()):\n",
    "#for i in range(100):\n",
    "    mytree.GetEntry(i)\n",
    "    for ei in range(mytree.electrons_size):\n",
    "        for ej in range(ei):\n",
    "            if mytree.electrons_charge[ei]* mytree.electrons_charge[ej]<0:\n",
    "                e1=  ROOT.TLorentzVector()\n",
    "                e2=ROOT.TLorentzVector()\n",
    "                e1.SetPtEtaPhiE(mytree.electrons_pt[ei],mytree.electrons_eta[ei],mytree.electrons_phi[ei],mytree.electrons_e[ei])\n",
    "                e2.SetPtEtaPhiE(mytree.electrons_pt[ej],mytree.electrons_eta[ej],mytree.electrons_phi[ej],mytree.electrons_e[ej])\n",
    "                h_mass_el.Fill((e1+e2).M())\n",
    "\n",
    "\n",
    "c1=ROOT.TCanvas(\"masses\")\n",
    "c1.Draw()\n",
    "h_mass_el.Draw()"
   ]
  },
  {
   "cell_type": "code",
   "execution_count": 7,
   "metadata": {},
   "outputs": [],
   "source": [
    "#Let's take a step further - a bit less monke\n",
    "\n",
    "#1 Classe \"particella\"\n",
    "class particle:\n",
    "    def __init__(self, pt,eta,phi,e,charge,flavor):\n",
    "        self.pt=pt\n",
    "        self.eta=eta\n",
    "        self.phi=phi\n",
    "        self.e=e\n",
    "        self.charge=charge\n",
    "        self.flavor=flavor\n",
    "        self.p4 = ROOT.TLorentzVector()\n",
    "        self.p4.SetPtEtaPhiE(pt,eta,phi,e)\n",
    "        \n",
    "#2 Metodo per estrarla:    \n",
    "def get_particle(tree=mytree,var=\"muontracks\",index=0):\n",
    "    flav_dict={\"muontracks\":13,\"electrons\":11}\n",
    "    p= particle(getattr(tree,var+\"_pt\")[index],#getattr chiama dall'esterno un attributo con il nome preso come stringa\n",
    "                getattr(tree,var+\"_eta\")[index],\n",
    "                getattr(tree,var+\"_phi\")[index],\n",
    "                getattr(tree,var+\"_e\")[index],\n",
    "                getattr(tree,var+\"_charge\")[index] if hasattr(tree,var+\"_charge\") else 0,#nota: questo per i jet fallirà se non faccio qualcosa!\n",
    "                -1*getattr(tree,var+\"_charge\")[index]*(flav_dict[var]) if hasattr(tree,var+\"_charge\") else 0)\n",
    "    return p\n",
    "\n",
    "def get_collection(tree=mytree,var=\"muontracks\"):\n",
    "    particles=[get_particle(tree,var,i) for i in range(getattr(tree,var+\"_size\"))]\n",
    "    return particles"
   ]
  },
  {
   "cell_type": "code",
   "execution_count": 8,
   "metadata": {},
   "outputs": [
    {
     "data": {
      "image/png": "[encoded data removed]",
      "text/plain": [
       "<IPython.core.display.Image object>"
      ]
     },
     "metadata": {},
     "output_type": "display_data"
    }
   ],
   "source": [
    "are_os = lambda x,y: x.charge*y.charge<0 #Uso lambda per vedere se sono segno opposto (opposite sign)\n",
    "are_ss = lambda x,y: x.charge*y.charge>0 # o same sign (ss) -> quest'ultimo è ridondante in realtà!\n",
    "\n",
    "h_mass_mu.Reset(\"ICES\")\n",
    "\n",
    "h_mass_mu_ss=h_mass_mu.Clone(\"h_mass_mu_os\")\n",
    "\n",
    "\n",
    "for i in range(mytree.GetEntries()):\n",
    "#for i in range(100):\n",
    "    mytree.GetEntry(i)\n",
    "    muons=get_collection(mytree,\"muontracks\")\n",
    "    electrons=get_collection(mytree,\"electrons\")\n",
    "    jets=get_collection(mytree,\"jets\")\n",
    "   \n",
    "    for mi in range(len(muons)):\n",
    "        for mj in range(mi):\n",
    "            if(are_os(muons[mi],muons[mj])):\n",
    "                h_mass_mu.Fill((muons[mi].p4+muons[mj].p4).M())\n",
    "            else:\n",
    "                h_mass_mu_ss.Fill((muons[mi].p4+muons[mj].p4).M())\n",
    "            \n",
    "c1.Draw()\n",
    "h_mass_mu.Draw()"
   ]
  },
  {
   "cell_type": "code",
   "execution_count": 9,
   "metadata": {},
   "outputs": [
    {
     "data": {
      "text/plain": [
       "<cppyy.gbl.TFitResultPtr object at 0x5588606ec190>"
      ]
     },
     "execution_count": 9,
     "metadata": {},
     "output_type": "execute_result"
    },
    {
     "name": "stdout",
     "output_type": "stream",
     "text": [
      " FCN=93.3245 FROM MIGRAD    STATUS=CONVERGED      68 CALLS          69 TOTAL\n",
      "                     EDM=3.97392e-08    STRATEGY= 1      ERROR MATRIX ACCURATE \n",
      "  EXT PARAMETER                                   STEP         FIRST   \n",
      "  NO.   NAME      VALUE            ERROR          SIZE      DERIVATIVE \n",
      "   1  p0           2.67172e+03   1.65904e+02   4.74413e-01  -9.61526e-07\n",
      "   2  p1           1.15034e+01   6.32761e-01   1.81085e-03   2.17712e-04\n"
     ]
    },
    {
     "data": {
      "image/png": "[encoded data removed]",
      "text/plain": [
       "<IPython.core.display.Image object>"
      ]
     },
     "metadata": {},
     "output_type": "display_data"
    }
   ],
   "source": [
    "c1.Draw()\n",
    "h_mass_mu_ss.SetLineColor(ROOT.kRed)\n",
    "h_mass_mu_ss.Draw(\"same\")\n",
    "c1.SetLogy()\n",
    "\n",
    "m_min_fit=10\n",
    "bkg = ROOT.TF1(\"expo_bkg_1\",\"[0]/[1]*exp(-x/[1])\",m_min_fit,m_max)\n",
    "bkg.SetParameters(1000,20)\n",
    "h_mass_mu_ss.Fit(bkg,\"SR\")"
   ]
  },
  {
   "cell_type": "code",
   "execution_count": 10,
   "metadata": {},
   "outputs": [
    {
     "data": {
      "text/plain": [
       "<cppyy.gbl.TFitResultPtr object at 0x5588608ed950>"
      ]
     },
     "execution_count": 10,
     "metadata": {},
     "output_type": "execute_result"
    },
    {
     "name": "stdout",
     "output_type": "stream",
     "text": [
      " FCN=57.3184 FROM MIGRAD    STATUS=CONVERGED     700 CALLS         701 TOTAL\n",
      "                     EDM=7.63623e-07    STRATEGY= 1      ERROR MATRIX ACCURATE \n",
      "  EXT PARAMETER                                   STEP         FIRST   \n",
      "  NO.   NAME      VALUE            ERROR          SIZE      DERIVATIVE \n",
      "   1  p0           8.30660e+04   1.86253e+04   1.00268e+01  -1.72524e-08\n",
      "   2  p1           1.79480e+02   4.82460e+01   1.21713e-02  -2.47416e-05\n",
      "   3  p2           2.65699e+01   6.01817e+00   8.20892e-04   1.55309e-03\n",
      "   4  p3          -2.20780e-01   4.67446e-02   1.17925e-05   2.54151e-01\n",
      "   5  p4           6.28440e-04   1.92784e-04   1.10056e-07   3.29694e+01\n"
     ]
    },
    {
     "data": {
      "image/png": "[encoded data removed]",
      "text/plain": [
       "<IPython.core.display.Image object>"
      ]
     },
     "metadata": {},
     "output_type": "display_data"
    }
   ],
   "source": [
    "#Forse si può migliorare un po'...\n",
    "m_min_fit= 10\n",
    "bkg2 = ROOT.TF1(\"expo_bkg_2\",\"[0]/[1]*exp(-([2]*x+[3]*x*x+[4]*x*x*x)/[1])\",m_min_fit,m_max)\n",
    "bkg2.SetParameters(1000,20,1,1,0.1)\n",
    "c1.Draw()\n",
    "h_mass_mu_ss.Fit(bkg2,\"SR\")"
   ]
  },
  {
   "cell_type": "code",
   "execution_count": 11,
   "metadata": {},
   "outputs": [
    {
     "data": {
      "text/plain": [
       "<cppyy.gbl.TFitResultPtr object at 0x5588608fd610>"
      ]
     },
     "execution_count": 11,
     "metadata": {},
     "output_type": "execute_result"
    },
    {
     "name": "stdout",
     "output_type": "stream",
     "text": [
      " FCN=125.874 FROM MIGRAD    STATUS=CONVERGED    1808 CALLS        1809 TOTAL\n",
      "                     EDM=6.02375e-08    STRATEGY= 1      ERROR MATRIX ACCURATE \n",
      "  EXT PARAMETER                                   STEP         FIRST   \n",
      "  NO.   NAME      VALUE            ERROR          SIZE      DERIVATIVE \n",
      "   1  p0           1.62564e+05   1.79401e+04   2.06348e+01  -3.38590e-08\n",
      "   2  p1           1.62479e+02   1.38157e+01   9.52488e-03  -9.46464e-05\n",
      "   3  p2           2.22225e+03   6.76857e+01   3.58940e-01  -4.43403e-06\n",
      "   4  p3           9.07507e+01   8.02248e-02   4.34658e-04  -4.43767e-04\n",
      "   5  p4           3.05632e+00   1.02285e-01   5.28936e-04   1.11500e-03\n",
      "   6  p5           3.78699e+01   1.94073e+00   5.76919e-04   1.40898e-03\n",
      "   7  p6          -6.15491e-01   2.98235e-02   7.28664e-06   7.94222e-02\n",
      "   8  p7           3.16643e-03   1.59727e-04   7.75694e-08   5.18047e+00\n"
     ]
    },
    {
     "data": {
      "image/png": "[encoded data removed]",
      "text/plain": [
       "<IPython.core.display.Image object>"
      ]
     },
     "metadata": {},
     "output_type": "display_data"
    }
   ],
   "source": [
    "sigbkg = ROOT.TF1(\"sig_bkg\",\"[0]/[1]*exp(-([5]*x+[6]*x*x+[7]*x*x*x)/[1])+[2]*1/([4]*TMath::Sqrt(2*TMath::Pi()))*exp(-(x-[3])*(x-[3])/(TMath::Sqrt(2)*[4]*[4]))\",m_min_fit,m_max)\n",
    "sigbkg.SetParameters(1000,20,1000,90,10,1,1,0.1)\n",
    "c1.Draw()\n",
    "h_mass_mu.Fit(sigbkg,\"SR\")\n"
   ]
  },
  {
   "cell_type": "markdown",
   "metadata": {},
   "source": [
    "# Esercizio #1 \n",
    "\n",
    "Proviamo a stimare il numero di eventi sotto il picco con il fit in due modi diversi : fit s+b, fit b.\n",
    "\n",
    "# Esercizio #2 \n",
    "\n",
    "\n",
    "Confrontiamo la nostra definizione di massa con la definizione "
   ]
  },
  {
   "cell_type": "markdown",
   "metadata": {},
   "source": [
    "# Esercizio #3\n",
    "\n",
    "\n",
    "Definita la nostra selezione (es. massa >40 GeV) proviamo a studiare le altre features della muontrack:\n",
    "\n",
    "chi2 -> chi2 del fit alla traccia\n",
    "dz -> parametro di impatto lungo Z\n",
    "dB -> parametro di impatto nel piano xy\n",
    "isodeposits -> depositi calorimetrici intorno al muone"
   ]
  },
  {
   "cell_type": "code",
   "execution_count": 12,
   "metadata": {
    "scrolled": false
   },
   "outputs": [
    {
     "data": {
      "text/plain": [
       "16"
      ]
     },
     "execution_count": 12,
     "metadata": {},
     "output_type": "execute_result"
    },
    {
     "name": "stdout",
     "output_type": "stream",
     "text": [
      "***********************************************************************\n",
      "*    Row   * Instance * muontrack * muontrack * muontrack * muontrack *\n",
      "***********************************************************************\n",
      "*        0 *        0 * 1.0335342 * 0.0252492 * 0.0002856 * 1.0729610 *\n",
      "*        0 *        1 * 1.0741999 * 0.0242608 * 0.0031903 * 2.9965186 *\n",
      "*        1 *        0 *           *           *           *           *\n",
      "*        2 *        0 *           *           *           *           *\n",
      "*        3 *        0 * 0.7568610 * 0.0140937 * 0.0177467 *         0 *\n",
      "*        3 *        1 * 0.0214010 * 12.813911 * 0.0310324 *         0 *\n",
      "*        4 *        0 *           *           *           *           *\n",
      "*        5 *        0 * 0.6926183 * 5.362e-05 * 2.051e-05 * 0.6069132 *\n",
      "*        6 *        0 * 1.0029804 * 0.0005141 * 1.299e-05 *         0 *\n",
      "*        6 *        1 * 0.4243881 * 0.0052267 * 0.0001941 * 1.2594964 *\n",
      "*        7 *        0 * 1.0884974 * 2.104e-05 * 7.020e-06 *         0 *\n",
      "*        8 *        0 * 0.8126785 * 0.0014560 * 0.0008826 *         0 *\n",
      "*        8 *        1 * 1.0747882 * 0.0026772 * 0.0009806 *         0 *\n",
      "*        9 *        0 * 1.5969889 * 0.0024863 * 0.0006455 * 4.6017713 *\n",
      "*        9 *        1 * 1.0764035 * 0.0337559 * 0.0293779 * 2.1718206 *\n",
      "*        9 *        2 * 1.2282214 * 2.4580097 * 0.0150685 * 4.3621826 *\n",
      "***********************************************************************\n"
     ]
    }
   ],
   "source": [
    "mytree.Scan(\"muontracks_chi2:muontracks_dz:muontracks_dB:muontracks_isoDeposits\",\"\",\"\",10)"
   ]
  },
  {
   "cell_type": "markdown",
   "metadata": {},
   "source": [
    "# Esercizio #4:\n",
    "\n",
    "Proviamo su questo campione \"mixed\" di dati"
   ]
  },
  {
   "cell_type": "code",
   "execution_count": 13,
   "metadata": {},
   "outputs": [],
   "source": [
    "dataFile= ROOT.TFile(\"Data.root\")\n",
    "#Nota: io l'ho scaricato in locale - potete fare lo stesso o usare il wget as you prefer :)"
   ]
  },
  {
   "cell_type": "code",
   "execution_count": 14,
   "metadata": {},
   "outputs": [
    {
     "data": {
      "text/plain": [
       "273120"
      ]
     },
     "execution_count": 14,
     "metadata": {},
     "output_type": "execute_result"
    }
   ],
   "source": [
    "datatree= dataFile.trees.events\n",
    "datatree.GetEntries()"
   ]
  },
  {
   "cell_type": "code",
   "execution_count": 15,
   "metadata": {},
   "outputs": [],
   "source": [
    "h_data_mass_mu_os=ROOT.TH1F(\"h_data_mu_os\",\"Mass of muon pair, data\",1500,m_min,m_max)\n",
    "h_data_mass_mu_ss=h_data_mass_mu_os.Clone(\"h_data_mu_ss\")\n",
    "\n",
    "for i in range(datatree.GetEntries()):\n",
    "#for i in range(100):\n",
    "    datatree.GetEntry(i)\n",
    "    muons=get_collection(datatree,\"muontracks\")\n",
    "    electrons=get_collection(datatree,\"electrons\")\n",
    "    jets=get_collection(datatree,\"jets\")\n",
    "   \n",
    "    for mi in range(len(muons)):\n",
    "        for mj in range(mi):\n",
    "            if(are_os(muons[mi],muons[mj])):\n",
    "                h_data_mass_mu_os.Fill((muons[mi].p4+muons[mj].p4).M())\n",
    "            else:\n",
    "                h_data_mass_mu_ss.Fill((muons[mi].p4+muons[mj].p4).M())\n"
   ]
  },
  {
   "cell_type": "code",
   "execution_count": 16,
   "metadata": {},
   "outputs": [
    {
     "data": {
      "image/png": "[encoded data removed]",
      "text/plain": [
       "<IPython.core.display.Image object>"
      ]
     },
     "metadata": {},
     "output_type": "display_data"
    }
   ],
   "source": [
    "c1.Draw()\n",
    "h_data_mass_mu_os.Draw()\n",
    "h_data_mass_mu_ss.SetLineColor(ROOT.kRed)\n",
    "h_data_mass_mu_ss.Draw(\"same\")\n",
    "h_data_mass_mu_os.GetXaxis().SetRangeUser(0,140)\n",
    "#h_data_mass_mu_os.Rebin(2)\n",
    "#h_data_mass_mu_ss.Rebin(2)\n",
    "c1.Update()\n",
    "\n"
   ]
  },
  {
   "cell_type": "code",
   "execution_count": null,
   "metadata": {},
   "outputs": [],
   "source": []
  },
  {
   "cell_type": "code",
   "execution_count": null,
   "metadata": {},
   "outputs": [],
   "source": []
  }
 ],
 "metadata": {
  "kernelspec": {
   "display_name": "Python 3",
   "language": "python",
   "name": "python3"
  },
  "language_info": {
   "codemirror_mode": {
    "name": "ipython",
    "version": 3
   },
   "file_extension": ".py",
   "mimetype": "text/x-python",
   "name": "python",
   "nbconvert_exporter": "python",
   "pygments_lexer": "ipython3",
   "version": "3.8.10"
  }
 },
 "nbformat": 4,
 "nbformat_minor": 5
}
