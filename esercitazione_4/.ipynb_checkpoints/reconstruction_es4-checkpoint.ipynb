{
 "cells": [
  {
   "cell_type": "markdown",
   "metadata": {},
   "source": [
    "# Esercizio 4\n",
    "---\n",
    "Qui si deve fare la stessa analisi fatta in `reconstruction_es3`, ma sul dataset \"Data.root\" che contiene molti più eventi e non solo i decadimenti che ci interessano"
   ]
  },
  {
   "cell_type": "code",
   "execution_count": null,
   "metadata": {},
   "outputs": [],
   "source": [
    "import ROOT\n",
    "file = ROOT.TFile(\"../datasets/Data.root\",\"OPEN\")\n",
    "tr = file.trees.events"
   ]
  },
  {
   "cell_type": "code",
   "execution_count": null,
   "metadata": {},
   "outputs": [],
   "source": [
    "class particle:\n",
    "    def __init__(self, pt,eta,phi,e,charge,flavor):\n",
    "        self.pt=pt\n",
    "        self.eta=eta\n",
    "        self.phi=phi\n",
    "        self.e=e\n",
    "        self.charge=charge\n",
    "        self.flavor=flavor\n",
    "        self.p4 = ROOT.TLorentzVector()\n",
    "        self.p4.SetPtEtaPhiE(pt,eta,phi,e)\n",
    "        \n",
    "#2 Metodo per estrarla:    \n",
    "def get_particle(tree=tr,var=\"muontracks\",index=0):\n",
    "    flav_dict={\"muontracks\":13,\"electrons\":11} #questi numeri sono delle convenzioni date sul PDG che permettono di identificare le particelle in qualche modo\n",
    "    p = particle(getattr(tree,var+\"_pt\")[index],#getattr chiama dall'esterno un attributo con il nome preso come stringa\n",
    "                getattr(tree,var+\"_eta\")[index],\n",
    "                getattr(tree,var+\"_phi\")[index],\n",
    "                getattr(tree,var+\"_e\")[index],\n",
    "                getattr(tree,var+\"_charge\")[index] if hasattr(tree,var+\"_charge\") else 0,#nota: questo per i jet fallirà se non faccio qualcosa!\n",
    "                -1*getattr(tree,var+\"_charge\")[index]*(flav_dict[var]) if hasattr(tree,var+\"_charge\") else 0)\n",
    "    return p\n",
    "\n",
    "def get_collection(tree=tr,var=\"muontracks\"):\n",
    "    particles=[get_particle(tree,var,i) for i in range(getattr(tree,var+\"_size\"))]\n",
    "    return particles"
   ]
  },
  {
   "cell_type": "markdown",
   "metadata": {},
   "source": [
    "### Tratto muoni\n",
    "Comincio con lo studiare solo i muoni, poi forse anche la MET o i Jets. Seguirò i seguenti passaggi\n",
    "* Ricostruisco la massa con tutti e faccio OS e SS, vedo se esce fuori la risonanza\n",
    "    * Faccio fit del picco e del rumore così da trovare le funzioni migliori\n",
    "    * Provo a stimare numero di eventi sia per il rumore che per il picco\n",
    "* Faccio un taglio attorno alla nostra risonanza così da poterla evidenziare meglio in un plot decente\n",
    "    + Rifaccio i fit così da poter avere parametri più puliti\n",
    "* Analizzo le caratteristiche: _chi2, isoDeposits, dz, dB_\n",
    "    + Ha senso ristudiare le OS e le SS"
   ]
  },
  {
   "cell_type": "code",
   "execution_count": null,
   "metadata": {},
   "outputs": [],
   "source": [
    "are_os = lambda x,y: x.charge*y.charge<0\n",
    "h_mu_mass_os = ROOT.TH1F(\"mu_mass\",\"Muon mass\",500,0,150) \n",
    "h_mu_mass_ss = ROOT.TH1F(\"mu_mass\",\"Muon mass\",500,0,150)\n",
    "\n",
    "c=ROOT.TCanvas()\n",
    "\n",
    "for i in range(tr.GetEntries()):\n",
    "    tr.GetEntry(i)\n",
    "    muons=get_collection(tr,\"muontracks\")\n",
    "    for mi in range(len(muons)):\n",
    "        for mj in range(mi):\n",
    "            if(are_os(muons[mi],muons[mj])):\n",
    "                h_mu_mass_os.Fill((muons[mi].p4+muons[mj].p4).M())\n",
    "            else:\n",
    "                h_mu_mass_ss.Fill((muons[mi].p4+muons[mj].p4).M())\n",
    "c.Draw()\n",
    "c.SetLogy()\n",
    "h_mu_mass_os.Draw()\n",
    "h_mu_mass_ss.SetLineColor(ROOT.kRed)\n",
    "h_mu_mass_ss.Draw(\"same\")"
   ]
  },
  {
   "cell_type": "code",
   "execution_count": null,
   "metadata": {},
   "outputs": [],
   "source": [
    "c.Draw()\n",
    "mu_bgm = 10\n",
    "mu_bgM = 150\n",
    "\n",
    "bkg = ROOT.TF1(\"exp_1\", \"[0]/[1]* TMath::Exp(-([2]*x + [3]*x*x + [4]*x*x*x )/[1])\", mu_bgm, mu_bgM)\n",
    "bkg.SetParameters(1000,20,1,1,0.001)\n",
    "\n",
    "h_mu_mass_ss.Fit(bkg,\"SR\")"
   ]
  },
  {
   "cell_type": "code",
   "execution_count": null,
   "metadata": {},
   "outputs": [],
   "source": [
    "c.Draw()\n",
    "os_fit = ROOT.TF1(\"exp+gaus\", \"[0]/[1]*exp(-([5]*x+[6]*x*x+[7]*x*x*x)/[1])+[2]*1/([4]*TMath::Sqrt(2*TMath::Pi()))*exp(-(x-[3])*(x-[3])/(TMath::Sqrt(2)*[4]*[4]))\", mu_bgm, mu_bgM)\n",
    "os_fit.SetParameters(1000,20,1000,90,10,1,1,0.001)\n",
    "\n",
    "h_mu_mass_os.Fit(os_fit,\"SR\")"
   ]
  },
  {
   "cell_type": "code",
   "execution_count": null,
   "metadata": {},
   "outputs": [],
   "source": [
    "print(bkg.Integral(80,100))\n",
    "print(h_mu_mass_ss.Integral(h_mu_mass_ss.FindBin(80),h_mu_mass_ss.FindBin(100)))"
   ]
  },
  {
   "cell_type": "code",
   "execution_count": null,
   "metadata": {},
   "outputs": [],
   "source": [
    "print(os_fit.Integral(80,100))\n",
    "print(h_mu_mass_os.Integral(h_mu_mass_os.FindBin(80),h_mu_mass_os.FindBin(100)))"
   ]
  },
  {
   "cell_type": "code",
   "execution_count": null,
   "metadata": {},
   "outputs": [],
   "source": [
    "print(h_mu_mass_os.Integral())\n",
    "print(h_mu_mass_ss.Integral())"
   ]
  },
  {
   "cell_type": "markdown",
   "metadata": {},
   "source": [
    "**Eseguo un taglio**"
   ]
  },
  {
   "cell_type": "code",
   "execution_count": null,
   "metadata": {},
   "outputs": [],
   "source": [
    "are_os = lambda x,y: x.charge*y.charge<0\n",
    "h_mu_mass_os = ROOT.TH1F(\"mu_mass\",\"Muon mass\",50,80,100) \n",
    "h_mu_mass_ss = ROOT.TH1F(\"mu_mass\",\"Muon mass\",50,80,100)\n",
    "\n",
    "c=ROOT.TCanvas()\n",
    "\n",
    "for i in range(tr.GetEntries()):\n",
    "    tr.GetEntry(i)\n",
    "    muons=get_collection(tr,\"muontracks\")\n",
    "    for mi in range(len(muons)):\n",
    "        for mj in range(mi):\n",
    "            s=(muons[mi].p4+muons[mj].p4).M()\n",
    "            if(s<100 and s>80):\n",
    "                if(are_os(muons[mi],muons[mj])):\n",
    "                    h_mu_mass_os.Fill(s)\n",
    "                else:\n",
    "                    h_mu_mass_ss.Fill(s)\n",
    "c.Draw()\n",
    "\n",
    "h_mu_mass_os.Scale(1/(h_mu_mass_os.Integral()))\n",
    "h_mu_mass_os.Draw(\"SAME,hist\")\n",
    "\n",
    "h_mu_mass_ss.SetLineColor(ROOT.kRed)\n",
    "h_mu_mass_ss.Scale(1/(h_mu_mass_ss.Integral()))\n",
    "h_mu_mass_ss.Draw(\"hist\")"
   ]
  },
  {
   "cell_type": "markdown",
   "metadata": {},
   "source": [
    "Passaggi per le grandezze alternative attorno ai picchi"
   ]
  },
  {
   "cell_type": "code",
   "execution_count": null,
   "metadata": {},
   "outputs": [],
   "source": [
    "h_chi = ROOT.TH1F(\"muontracks_chi2\",\"muontracks_chi2\", 100, 0, 2)\n",
    "h_chi_f = ROOT.TH1F(\"muontracks_chi2\",\"muontracks_chi2\", 100, 0, 2)\n",
    "c1 = ROOT.TCanvas()\n",
    "\n",
    "for i in range(tr.GetEntries()):\n",
    "    tr.GetEntry(i)\n",
    "    muons=get_collection(tr,\"muontracks\")\n",
    "    for mi in range(len(muons)):\n",
    "        chi2 = tr.muontracks_chi2[mi]\n",
    "        h_chi.Fill(chi2)\n",
    "        for mj in range(mi):\n",
    "            s=(muons[mi].p4+muons[mj].p4).M()\n",
    "            if(s<100 and s>80):\n",
    "                h_chi_f.Fill(tr.muontracks_chi2[mj])\n",
    "c1.Draw()\n",
    "\n",
    "h_chi.Scale(1/h_chi.Integral())\n",
    "h_chi.Draw(\"hist\")\n",
    "\n",
    "h_chi_f.SetLineColor(ROOT.kRed)\n",
    "h_chi_f.Scale(1/h_chi_f.Integral())\n",
    "h_chi_f.Draw(\"SAME,hist\")"
   ]
  },
  {
   "cell_type": "code",
   "execution_count": null,
   "metadata": {},
   "outputs": [],
   "source": [
    "h_dz = ROOT.TH1F(\"muontracks_dz\",\"muontracks_dz\", 100, 0, 0.01)\n",
    "h_dz_f = ROOT.TH1F(\"muontracks_dz\",\"muontracks_dz\", 100, 0, 0.01)\n",
    "c2 = ROOT.TCanvas()\n",
    "\n",
    "for i in range(tr.GetEntries()):\n",
    "    tr.GetEntry(i)\n",
    "    muons=get_collection(tr,\"muontracks\")\n",
    "    for mi in range(len(muons)):\n",
    "        dz = tr.muontracks_dz[mi]\n",
    "        h_dz.Fill(dz)\n",
    "        for mj in range(mi):\n",
    "            s=(muons[mi].p4+muons[mj].p4).M()\n",
    "            if(s<100 and s>80):\n",
    "                h_dz_f.Fill(tr.muontracks_dz[mj])\n",
    "c2.Draw()\n",
    "\n",
    "h_dz_f.SetLineColor(ROOT.kRed)\n",
    "h_dz_f.Scale(1/h_dz_f.Integral())\n",
    "h_dz_f.Draw(\"hist\")\n",
    "\n",
    "h_dz.Scale(1/h_dz.Integral())\n",
    "h_dz.Draw(\"SAME,hist\")\n",
    "\n"
   ]
  },
  {
   "cell_type": "code",
   "execution_count": null,
   "metadata": {},
   "outputs": [],
   "source": [
    "h_dB = ROOT.TH1F(\"muontracks_dB\",\"muontracks_dB\", 100, 0, 0.006)\n",
    "h_dB_f = ROOT.TH1F(\"muontracks_dB\",\"muontracks_dB\", 100, 0, 0.006)\n",
    "c3 = ROOT.TCanvas()\n",
    "\n",
    "for i in range(tr.GetEntries()):\n",
    "    tr.GetEntry(i)\n",
    "    muons=get_collection(tr,\"muontracks\")\n",
    "    for mi in range(len(muons)):\n",
    "        dB = tr.muontracks_dB[mi]\n",
    "        h_dB.Fill(dB)\n",
    "        for mj in range(mi):\n",
    "            s=(muons[mi].p4+muons[mj].p4).M()\n",
    "            if(s<100 and s>80):\n",
    "                h_dB_f.Fill(tr.muontracks_dB[mj])\n",
    "c3.Draw()\n",
    "\n",
    "h_dB_f.SetLineColor(ROOT.kRed)\n",
    "h_dB_f.Scale(1/h_dB_f.Integral())\n",
    "h_dB_f.Draw(\"hist\")\n",
    "\n",
    "h_dB.Scale(1/h_dB.Integral())\n",
    "h_dB.Draw(\"SAME,hist\")"
   ]
  },
  {
   "cell_type": "code",
   "execution_count": null,
   "metadata": {},
   "outputs": [],
   "source": [
    "h_id = ROOT.TH1F(\"muontracks_isoD\",\"muontracks_isoD\", 100, 0.1, 10)\n",
    "h_id_f = ROOT.TH1F(\"muontracks_isoD\",\"muontracks_isoD\", 100, 0.1, 10)\n",
    "c4 = ROOT.TCanvas()\n",
    "\n",
    "for i in range(tr.GetEntries()):\n",
    "    tr.GetEntry(i)\n",
    "    muons=get_collection(tr,\"muontracks\")\n",
    "    for mi in range(len(muons)):\n",
    "        isd = tr.muontracks_isoDeposits[mi]\n",
    "        h_id.Fill(isd)\n",
    "        for mj in range(mi):\n",
    "            s=(muons[mi].p4+muons[mj].p4).M()\n",
    "            if(s<100 and s>80):\n",
    "                h_id_f.Fill(tr.muontracks_isoDeposits[mj])\n",
    "c4.Draw()\n",
    "\n",
    "h_id.Scale(1/h_id.Integral())\n",
    "h_id.Draw(\"hist\")\n",
    "\n",
    "h_id_f.SetLineColor(ROOT.kRed)\n",
    "h_id_f.Scale(1/h_id_f.Integral())\n",
    "h_id_f.Draw(\"SAME,hist\")"
   ]
  },
  {
   "cell_type": "code",
   "execution_count": null,
   "metadata": {},
   "outputs": [],
   "source": []
  }
 ],
 "metadata": {
  "kernelspec": {
   "display_name": "Python 3",
   "language": "python",
   "name": "python3"
  },
  "language_info": {
   "codemirror_mode": {
    "name": "ipython",
    "version": 3
   },
   "file_extension": ".py",
   "mimetype": "text/x-python",
   "name": "python",
   "nbconvert_exporter": "python",
   "pygments_lexer": "ipython3",
   "version": "3.8.10"
  }
 },
 "nbformat": 4,
 "nbformat_minor": 4
}
