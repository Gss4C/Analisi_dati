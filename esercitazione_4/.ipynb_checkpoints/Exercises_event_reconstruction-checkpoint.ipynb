{
 "cells": [
  {
   "cell_type": "markdown",
   "metadata": {},
   "source": [
    "# Esercizio 0\n",
    "Fare la somma vettoriale di due elettroni di carica opposta e disegnarne la massa, poi fare lo stesso coi muoni. Dunque fare un fit del fondo (dove il fondo è considerabile come gli eventi con muoni di stessa carica)"
   ]
  },
  {
   "cell_type": "markdown",
   "metadata": {},
   "source": [
    "## Electrons\n",
    "\n",
    "Ricostruire la massa invariante di due elettroni os"
   ]
  },
  {
   "cell_type": "code",
   "execution_count": 1,
   "metadata": {},
   "outputs": [
    {
     "name": "stdout",
     "output_type": "stream",
     "text": [
      "Welcome to JupyROOT 6.26/04\n"
     ]
    }
   ],
   "source": [
    "import ROOT"
   ]
  },
  {
   "cell_type": "code",
   "execution_count": 2,
   "metadata": {},
   "outputs": [],
   "source": [
    "file = ROOT.TFile(\"../datasets/DYJets.root\",\"OPEN\")\n",
    "mytree = file.trees.events\n",
    "#mytree.Print(\"electron*\")"
   ]
  },
  {
   "cell_type": "code",
   "execution_count": 3,
   "metadata": {},
   "outputs": [
    {
     "name": "stdout",
     "output_type": "stream",
     "text": [
      "Percentuale di completamento: \n",
      "0.0\n",
      "Percentuale di completamento: \n",
      "20.0\n",
      "Percentuale di completamento: \n",
      "40.0\n",
      "Percentuale di completamento: \n",
      "60.0\n",
      "Percentuale di completamento: \n",
      "80.0\n"
     ]
    },
    {
     "data": {
      "image/png": "[encoded data removed]",
      "text/plain": [
       "<IPython.core.display.Image object>"
      ]
     },
     "metadata": {},
     "output_type": "display_data"
    }
   ],
   "source": [
    "h_e_mass = ROOT.TH1F(\"electron_mass\",\"Electron mass\",100,0,150) \n",
    "\n",
    "for i in range(mytree.GetEntries()):\n",
    "    mytree.GetEntry(i)\n",
    "    if(i%2000==0):\n",
    "        \n",
    "        print(\"Percentuale di completamento: \")\n",
    "        print( i/(10000)*100)\n",
    "    for ei in range(mytree.electrons_size):\n",
    "        for ej in range(ei):\n",
    "            if(mytree.electrons_charge[ei]*mytree.electrons_charge[ej]<0):\n",
    "\n",
    "                electron_0 = ROOT.TLorentzVector()\n",
    "                electron_1 = ROOT.TLorentzVector()\n",
    "                electron_sum = ROOT.TLorentzVector()\n",
    "                electron_0.SetPtEtaPhiE(mytree.electrons_pt[ei],mytree.electrons_eta[ei],mytree.electrons_phi[ei],mytree.electrons_e[ei])\n",
    "                electron_1.SetPtEtaPhiE(mytree.electrons_pt[ej],mytree.electrons_eta[ej],mytree.electrons_phi[ej],mytree.electrons_e[ej])\n",
    "                electron_sum = electron_0+electron_1\n",
    "                \n",
    "                h_e_mass.Fill(electron_sum.M()) #il metodo .M() mi calcola la massa invariante\n",
    "c1=ROOT.TCanvas()\n",
    "c1.Draw()\n",
    "h_e_mass.Draw()"
   ]
  },
  {
   "cell_type": "markdown",
   "metadata": {},
   "source": [
    "## Muons_1\n",
    "Prima il metodo 1, dove non ho ancora letto la soluzione di Iorio"
   ]
  },
  {
   "cell_type": "code",
   "execution_count": null,
   "metadata": {},
   "outputs": [],
   "source": [
    "h_mu_mass = ROOT.TH1F(\"mu_mass\",\"Muon mass\",100,0,150)\n",
    "\n",
    "for i in range(mytree.GetEntries()):\n",
    "    mytree.GetEntry(i)\n",
    "    if(i%2000==0):\n",
    "        \n",
    "        print(\"Percentuale di completamento: \")\n",
    "        print( i/(10000)*100)\n",
    "    for ei in range(mytree.muontracks_size):\n",
    "        for ej in range(ei):\n",
    "            if(mytree.muontracks_charge[ei]*mytree.muontracks_charge[ej] < 0):\n",
    "\n",
    "                muons_0 = ROOT.TLorentzVector()\n",
    "                muons_1 = ROOT.TLorentzVector()\n",
    "                muons_sum = ROOT.TLorentzVector()\n",
    "                \n",
    "                muons_0.SetPtEtaPhiE(mytree.muontracks_pt[ei],mytree.muontracks_eta[ei],mytree.muontracks_phi[ei],mytree.muontracks_e[ei])\n",
    "                muons_1.SetPtEtaPhiE(mytree.muontracks_pt[ej],mytree.muontracks_eta[ej],mytree.muontracks_phi[ej],mytree.muontracks_e[ej])\n",
    "                \n",
    "                muons_sum = muons_0+muons_1\n",
    "                \n",
    "                h_mu_mass.Fill(muons_sum.M())\n",
    "c2=ROOT.TCanvas()\n",
    "c2.Draw()\n",
    "h_mu_mass.Draw()"
   ]
  },
  {
   "cell_type": "markdown",
   "metadata": {},
   "source": [
    "## Muons_2"
   ]
  },
  {
   "cell_type": "code",
   "execution_count": 4,
   "metadata": {},
   "outputs": [],
   "source": [
    "class particle:\n",
    "    def __init__(self, pt,eta,phi,e,charge,flavor):\n",
    "        self.pt=pt\n",
    "        self.eta=eta\n",
    "        self.phi=phi\n",
    "        self.e=e\n",
    "        self.charge=charge\n",
    "        self.flavor=flavor\n",
    "        self.p4 = ROOT.TLorentzVector()\n",
    "        self.p4.SetPtEtaPhiE(pt,eta,phi,e)\n",
    "        \n",
    "#2 Metodo per estrarla:    \n",
    "def get_particle(tree=mytree,var=\"muontracks\",index=0):\n",
    "    flav_dict={\"muontracks\":13,\"electrons\":11} #questi numeri sono delle convenzioni date sul PDG che permettono di identificare le particelle in qualche modo\n",
    "    p = particle(getattr(tree,var+\"_pt\")[index],#getattr chiama dall'esterno un attributo con il nome preso come stringa\n",
    "                getattr(tree,var+\"_eta\")[index],\n",
    "                getattr(tree,var+\"_phi\")[index],\n",
    "                getattr(tree,var+\"_e\")[index],\n",
    "                getattr(tree,var+\"_charge\")[index] if hasattr(tree,var+\"_charge\") else 0,#nota: questo per i jet fallirà se non faccio qualcosa!\n",
    "                -1*getattr(tree,var+\"_charge\")[index]*(flav_dict[var]) if hasattr(tree,var+\"_charge\") else 0)\n",
    "    return p\n",
    "\n",
    "def get_collection(tree=mytree,var=\"muontracks\"):\n",
    "    particles=[get_particle(tree,var,i) for i in range(getattr(tree,var+\"_size\"))]\n",
    "    return particles"
   ]
  },
  {
   "cell_type": "markdown",
   "metadata": {},
   "source": [
    "Da qui considero:  \n",
    "* segnale le coppie di muoni OS \n",
    "    + se sono muoni prompt provenienti da una $Z^0$ devono per forza avere OS e dunque creare una risonanza a circa $91GeV$)\n",
    "* background le coppie di muoni SS\n",
    "    + Mi aspetto che, essendo i dati simulati MC per essere proprio una risonanza di una $Z^0$, che si distribuiscano in maniera casuale, senza alcuna particolare risonanza\n",
    "\n",
    "L'obiettivo è effettuare dei fit sul rumore, dei fit sul segnale e dunque ricavare il numero di eventi atteso per entrambi integrando le funzioni fittate."
   ]
  },
  {
   "cell_type": "code",
   "execution_count": 5,
   "metadata": {},
   "outputs": [
    {
     "name": "stderr",
     "output_type": "stream",
     "text": [
      "Warning in <TFile::Append>: Replacing existing TH1: mu_mass (Potential memory leak).\n"
     ]
    },
    {
     "data": {
      "image/png": "[encoded data removed]",
      "text/plain": [
       "<IPython.core.display.Image object>"
      ]
     },
     "metadata": {},
     "output_type": "display_data"
    }
   ],
   "source": [
    "are_os = lambda x,y: x.charge*y.charge<0 #Uso lambda per vedere se sono segno opposto (opposite sign)\n",
    "are_ss = lambda x,y: x.charge*y.charge>0\n",
    "\n",
    "h_mu_mass_os = ROOT.TH1F(\"mu_mass\",\"Muon mass\",100,0,150) #istogramma che contiene solo i muoni os\n",
    "h_mu_mass_ss = ROOT.TH1F(\"mu_mass\",\"Muon mass\",100,0,150)\n",
    "\n",
    "c2 = ROOT.TCanvas()\n",
    "\n",
    "for i in range(mytree.GetEntries()):\n",
    "    mytree.GetEntry(i)\n",
    "    muons=get_collection(mytree,\"muontracks\")\n",
    "    \n",
    "    for mi in range(len(muons)):\n",
    "        for mj in range(mi):\n",
    "            if(are_os(muons[mi],muons[mj])):\n",
    "                h_mu_mass_os.Fill((muons[mi].p4+muons[mj].p4).M())\n",
    "            else:\n",
    "                h_mu_mass_ss.Fill((muons[mi].p4+muons[mj].p4).M())\n",
    "c2.Draw()\n",
    "c2.SetLogy()\n",
    "h_mu_mass_os.Draw()"
   ]
  },
  {
   "cell_type": "code",
   "execution_count": 6,
   "metadata": {},
   "outputs": [
    {
     "data": {
      "image/png": "[encoded data removed]",
      "text/plain": [
       "<IPython.core.display.Image object>"
      ]
     },
     "metadata": {},
     "output_type": "display_data"
    }
   ],
   "source": [
    "c2.Draw()\n",
    "h_mu_mass_ss.SetLineColor(ROOT.kRed)\n",
    "h_mu_mass_ss.Draw(\"same\")"
   ]
  },
  {
   "cell_type": "markdown",
   "metadata": {},
   "source": [
    "**Primo tentativo di fit al fondo**"
   ]
  },
  {
   "cell_type": "code",
   "execution_count": 7,
   "metadata": {},
   "outputs": [
    {
     "data": {
      "text/plain": [
       "<cppyy.gbl.TFitResultPtr object at 0x9e85c80>"
      ]
     },
     "execution_count": 7,
     "metadata": {},
     "output_type": "execute_result"
    },
    {
     "name": "stdout",
     "output_type": "stream",
     "text": [
      " FCN=93.3245 FROM MIGRAD    STATUS=CONVERGED      68 CALLS          69 TOTAL\n",
      "                     EDM=3.97392e-08    STRATEGY= 1      ERROR MATRIX ACCURATE \n",
      "  EXT PARAMETER                                   STEP         FIRST   \n",
      "  NO.   NAME      VALUE            ERROR          SIZE      DERIVATIVE \n",
      "   1  p0           2.67172e+03   1.65904e+02   4.74413e-01  -9.61526e-07\n",
      "   2  p1           1.15034e+01   6.32761e-01   1.81085e-03   2.17712e-04\n"
     ]
    },
    {
     "data": {
      "image/png": "[encoded data removed]",
      "text/plain": [
       "<IPython.core.display.Image object>"
      ]
     },
     "metadata": {},
     "output_type": "display_data"
    }
   ],
   "source": [
    "c2.Draw()\n",
    "mu_bgm = 10\n",
    "mu_bgM = 150\n",
    "\n",
    "bkg = ROOT.TF1(\"exp_1\", \"[0]/[1]* TMath::Exp(-x/[1])\", mu_bgm, mu_bgM)\n",
    "bkg.SetParameters(1000,20)\n",
    "\n",
    "h_mu_mass_ss.Fit(bkg,\"SR\")"
   ]
  },
  {
   "cell_type": "markdown",
   "metadata": {},
   "source": [
    "**Secondo tentativo di fit al fondo**"
   ]
  },
  {
   "cell_type": "code",
   "execution_count": 9,
   "metadata": {},
   "outputs": [
    {
     "data": {
      "text/plain": [
       "<cppyy.gbl.TFitResultPtr object at 0xa022430>"
      ]
     },
     "execution_count": 9,
     "metadata": {},
     "output_type": "execute_result"
    },
    {
     "name": "stdout",
     "output_type": "stream",
     "text": [
      " FCN=57.3184 FROM MIGRAD    STATUS=CONVERGED     700 CALLS         701 TOTAL\n",
      "                     EDM=7.63623e-07    STRATEGY= 1      ERROR MATRIX ACCURATE \n",
      "  EXT PARAMETER                                   STEP         FIRST   \n",
      "  NO.   NAME      VALUE            ERROR          SIZE      DERIVATIVE \n",
      "   1  p0           8.30660e+04   1.86253e+04   1.00268e+01  -1.72524e-08\n",
      "   2  p1           1.79480e+02   4.82460e+01   1.21713e-02  -2.47416e-05\n",
      "   3  p2           2.65699e+01   6.01817e+00   8.20892e-04   1.55309e-03\n",
      "   4  p3          -2.20780e-01   4.67446e-02   1.17925e-05   2.54151e-01\n",
      "   5  p4           6.28440e-04   1.92784e-04   1.10056e-07   3.29694e+01\n"
     ]
    },
    {
     "data": {
      "image/png": "[encoded data removed]",
      "text/plain": [
       "<IPython.core.display.Image object>"
      ]
     },
     "metadata": {},
     "output_type": "display_data"
    }
   ],
   "source": [
    "c2.Draw()\n",
    "\n",
    "bkg2 = ROOT.TF1(\"exp_2\", \"[0]/[1]* TMath::Exp(-([2]*x + [3]*x*x + [4]*x*x*x)/[1])\", mu_bgm, mu_bgM)\n",
    "bkg2.SetParameters(1000,20,1,1,0.1)\n",
    "\n",
    "h_mu_mass_ss.Fit(bkg2,\"SR\")"
   ]
  },
  {
   "cell_type": "markdown",
   "metadata": {},
   "source": [
    "**Tentativo di fit considerantdo il segnale e il rumore nel segnale**"
   ]
  },
  {
   "cell_type": "code",
   "execution_count": 10,
   "metadata": {},
   "outputs": [
    {
     "data": {
      "text/plain": [
       "<cppyy.gbl.TFitResultPtr object at 0xa075410>"
      ]
     },
     "execution_count": 10,
     "metadata": {},
     "output_type": "execute_result"
    },
    {
     "name": "stdout",
     "output_type": "stream",
     "text": [
      " FCN=125.874 FROM MIGRAD    STATUS=CONVERGED    1821 CALLS        1822 TOTAL\n",
      "                     EDM=1.11651e-06    STRATEGY= 1      ERROR MATRIX ACCURATE \n",
      "  EXT PARAMETER                                   STEP         FIRST   \n",
      "  NO.   NAME      VALUE            ERROR          SIZE      DERIVATIVE \n",
      "   1  p0           1.66734e+05   1.83997e+04   2.09368e+01  -4.17471e-08\n",
      "   2  p1           1.66643e+02   1.41698e+01   9.76955e-03  -2.31040e-04\n",
      "   3  p2           2.22224e+03   6.76859e+01   3.58940e-01  -1.03848e-05\n",
      "   4  p3           9.07507e+01   8.02250e-02   4.34699e-04  -8.70233e-03\n",
      "   5  p4           3.05627e+00   1.02283e-01   5.28991e-04  -1.09488e-02\n",
      "   6  p5           3.88406e+01   1.99052e+00   5.91700e-04   5.19598e-03\n",
      "   7  p6          -6.31266e-01   3.05884e-02   7.47300e-06   4.32481e-01\n",
      "   8  p7           3.24758e-03   1.63824e-04   7.95507e-08   3.59200e+01\n"
     ]
    },
    {
     "data": {
      "image/png": "[encoded data removed]",
      "text/plain": [
       "<IPython.core.display.Image object>"
      ]
     },
     "metadata": {},
     "output_type": "display_data"
    }
   ],
   "source": [
    "c2.Draw()\n",
    "os_fit = ROOT.TF1(\"exp+gaus\", \"[0]/[1]*exp(-([5]*x+[6]*x*x+[7]*x*x*x)/[1])+[2]*1/([4]*TMath::Sqrt(2*TMath::Pi()))*exp(-(x-[3])*(x-[3])/(TMath::Sqrt(2)*[4]*[4]))\", mu_bgm, mu_bgM)\n",
    "os_fit.SetParameters(1000,20,1000,90,10,1,1,0.1)\n",
    "\n",
    "h_mu_mass_os.Fit(os_fit,\"SR\")"
   ]
  },
  {
   "cell_type": "markdown",
   "metadata": {},
   "source": [
    "Come si può osservare dal precedente fit il valor medi della gaussiana, che dovrebbe essere il valore in massa della $Z^0$, corrisponde a $90.7\\pm 0.08 GeV$ che risulta essere estremamente vicino al valore atteso.\n",
    "\n",
    "**⚠** Importante notare che che i parametri settati ora per le funzioni restanon finché non li ricambio"
   ]
  },
  {
   "cell_type": "markdown",
   "metadata": {},
   "source": [
    "# Esercizio 1\n",
    "Stimare il numero di eventi sotto il picco sia utilizzando il fit per i bg che utilizzando il fit per segnale+background"
   ]
  },
  {
   "cell_type": "markdown",
   "metadata": {},
   "source": [
    "## Caso S+B"
   ]
  },
  {
   "cell_type": "code",
   "execution_count": 11,
   "metadata": {},
   "outputs": [
    {
     "data": {
      "image/png": "[encoded data removed]",
      "text/plain": [
       "<IPython.core.display.Image object>"
      ]
     },
     "metadata": {},
     "output_type": "display_data"
    }
   ],
   "source": [
    "c3 = ROOT.TCanvas()\n",
    "c3.SetLogy()\n",
    "c3.Draw()\n",
    "os_fit.Draw()"
   ]
  },
  {
   "cell_type": "code",
   "execution_count": 12,
   "metadata": {},
   "outputs": [
    {
     "name": "stdout",
     "output_type": "stream",
     "text": [
      "2082.4961934435228\n",
      "1482.0\n"
     ]
    }
   ],
   "source": [
    "print(os_fit.Integral(80,100))\n",
    "print(h_mu_mass_os.Integral(h_mu_mass_os.FindBin(80), h_mu_mass_os.FindBin(100)))"
   ]
  },
  {
   "cell_type": "markdown",
   "metadata": {},
   "source": [
    "## Caso solo B"
   ]
  },
  {
   "cell_type": "code",
   "execution_count": 13,
   "metadata": {},
   "outputs": [
    {
     "data": {
      "image/png": "[encoded data removed]",
      "text/plain": [
       "<IPython.core.display.Image object>"
      ]
     },
     "metadata": {},
     "output_type": "display_data"
    }
   ],
   "source": [
    "c3.Draw()\n",
    "bkg2.Draw()"
   ]
  },
  {
   "cell_type": "code",
   "execution_count": 14,
   "metadata": {},
   "outputs": [
    {
     "name": "stdout",
     "output_type": "stream",
     "text": [
      "25.352360253781484\n",
      "7.0\n"
     ]
    }
   ],
   "source": [
    "print(bkg2.Integral(80,100))\n",
    "print(h_mu_mass_ss.Integral(h_mu_mass_os.FindBin(80), h_mu_mass_ss.FindBin(100)))"
   ]
  },
  {
   "cell_type": "markdown",
   "metadata": {},
   "source": [
    "### Problema\n",
    "Non capisco perché l'integrale con la funzione, nonostante sembri fittare bene, mostra una forte sovrastima del numero di eventi sotteso. Cambia forse qualcosa con un dataset molto più abbondante?"
   ]
  },
  {
   "cell_type": "code",
   "execution_count": null,
   "metadata": {},
   "outputs": [],
   "source": [
    "\n"
   ]
  }
 ],
 "metadata": {
  "kernelspec": {
   "display_name": "Python 3",
   "language": "python",
   "name": "python3"
  },
  "language_info": {
   "codemirror_mode": {
    "name": "ipython",
    "version": 3
   },
   "file_extension": ".py",
   "mimetype": "text/x-python",
   "name": "python",
   "nbconvert_exporter": "python",
   "pygments_lexer": "ipython3",
   "version": "3.8.10"
  }
 },
 "nbformat": 4,
 "nbformat_minor": 4
}
