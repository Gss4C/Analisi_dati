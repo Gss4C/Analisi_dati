{
 "cells": [
  {
   "cell_type": "markdown",
   "metadata": {},
   "source": [
    "## Esercizio 1\n",
    "Fare la somma vettoriale di due elettroni di carica opposta e disegnarne la massa, poi fare lo stesso coi muoni"
   ]
  },
  {
   "cell_type": "code",
   "execution_count": 6,
   "metadata": {},
   "outputs": [],
   "source": [
    "import ROOT"
   ]
  },
  {
   "cell_type": "code",
   "execution_count": 11,
   "metadata": {},
   "outputs": [
    {
     "name": "stdout",
     "output_type": "stream",
     "text": [
      "******************************************************************************\n",
      "*Tree    :events    : events                                                 *\n",
      "*Entries :    10000 : Total =         5662329 bytes  File  Size =    1718518 *\n",
      "*        :          : Tree compression factor =   3.29                       *\n",
      "******************************************************************************\n",
      "*Br    0 :electrons_size : electrons_size/I                                  *\n",
      "*Entries :    10000 : Total  Size=      40687 bytes  File Size  =       4891 *\n",
      "*Baskets :        2 : Basket Size=      32000 bytes  Compression=   8.21     *\n",
      "*............................................................................*\n",
      "*Br    1 :electrons_pt : vector<float>                                       *\n",
      "*Entries :    10000 : Total  Size=     159452 bytes  File Size  =      50810 *\n",
      "*Baskets :        7 : Basket Size=      32000 bytes  Compression=   3.13     *\n",
      "*............................................................................*\n",
      "*Br    2 :electrons_eta : vector<float>                                      *\n",
      "*Entries :    10000 : Total  Size=     159463 bytes  File Size  =      52148 *\n",
      "*Baskets :        7 : Basket Size=      32000 bytes  Compression=   3.05     *\n",
      "*............................................................................*\n",
      "*Br    3 :electrons_phi : vector<float>                                      *\n",
      "*Entries :    10000 : Total  Size=     159463 bytes  File Size  =      52079 *\n",
      "*Baskets :        7 : Basket Size=      32000 bytes  Compression=   3.05     *\n",
      "*............................................................................*\n",
      "*Br    4 :electrons_e : vector<float>                                        *\n",
      "*Entries :    10000 : Total  Size=     159441 bytes  File Size  =      51165 *\n",
      "*Baskets :        7 : Basket Size=      32000 bytes  Compression=   3.11     *\n",
      "*............................................................................*\n",
      "*Br    5 :electrons_mctruthmatch : vector<float>                             *\n",
      "*Entries :    10000 : Total  Size=     159562 bytes  File Size  =      29561 *\n",
      "*Baskets :        7 : Basket Size=      32000 bytes  Compression=   5.38     *\n",
      "*............................................................................*\n",
      "*Br    6 :electrons_minDR : vector<float>                                    *\n",
      "*Entries :    10000 : Total  Size=     159485 bytes  File Size  =      29325 *\n",
      "*Baskets :        7 : Basket Size=      32000 bytes  Compression=   5.42     *\n",
      "*............................................................................*\n",
      "*Br    7 :electrons_charge : vector<float>                                   *\n",
      "*Entries :    10000 : Total  Size=     159496 bytes  File Size  =      31408 *\n",
      "*Baskets :        7 : Basket Size=      32000 bytes  Compression=   5.06     *\n",
      "*............................................................................*\n",
      "*Br    8 :electrons_dB : vector<float>                                       *\n",
      "*Entries :    10000 : Total  Size=     141051 bytes  File Size  =      15708 *\n",
      "*Baskets :        6 : Basket Size=      32000 bytes  Compression=   8.95     *\n",
      "*............................................................................*\n",
      "*Br    9 :electrons_dz : vector<float>                                       *\n",
      "*Entries :    10000 : Total  Size=     141051 bytes  File Size  =      15708 *\n",
      "*Baskets :        6 : Basket Size=      32000 bytes  Compression=   8.95     *\n",
      "*............................................................................*\n",
      "*Br   10 :electrons_isoDeposits : vector<float>                              *\n",
      "*Entries :    10000 : Total  Size=     141141 bytes  File Size  =      15722 *\n",
      "*Baskets :        6 : Basket Size=      32000 bytes  Compression=   8.94     *\n",
      "*............................................................................*\n"
     ]
    }
   ],
   "source": [
    "file = ROOT.TFile(\"DYJets.root\",\"OPEN\")\n",
    "mytree = file.trees.events\n",
    "mytree.Print(\"electron*\")"
   ]
  },
  {
   "cell_type": "code",
   "execution_count": null,
   "metadata": {},
   "outputs": [],
   "source": [
    "h_e_mass = ROOT.TH1F(\"electron_mass\",\"Electron mass\",100,0,100) \n",
    "for i in range(mytree.GetEntries()):\n",
    "    "
   ]
  }
 ],
 "metadata": {
  "kernelspec": {
   "display_name": "Python 3",
   "language": "python",
   "name": "python3"
  },
  "language_info": {
   "codemirror_mode": {
    "name": "ipython",
    "version": 3
   },
   "file_extension": ".py",
   "mimetype": "text/x-python",
   "name": "python",
   "nbconvert_exporter": "python",
   "pygments_lexer": "ipython3",
   "version": "3.8.10"
  }
 },
 "nbformat": 4,
 "nbformat_minor": 4
}
